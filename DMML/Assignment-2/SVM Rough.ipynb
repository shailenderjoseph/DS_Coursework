{
 "cells": [
  {
   "cell_type": "code",
   "execution_count": 1,
   "metadata": {},
   "outputs": [],
   "source": [
    "import pandas as pd\n",
    "import numpy as np\n",
    "from sklearn.model_selection import train_test_split\n",
    "from sklearn.preprocessing import LabelEncoder\n",
    "from sklearn.svm import SVC\n",
    "from sklearn.metrics import accuracy_score\n",
    "from sklearn import model_selection\n",
    "from sklearn.model_selection import KFold"
   ]
  },
  {
   "cell_type": "markdown",
   "metadata": {},
   "source": [
    "__SVM: w/o any modifications__"
   ]
  },
  {
   "cell_type": "code",
   "execution_count": 2,
   "metadata": {},
   "outputs": [
    {
     "name": "stdout",
     "output_type": "stream",
     "text": [
      "<class 'pandas.core.frame.DataFrame'>\n",
      "RangeIndex: 41188 entries, 0 to 41187\n",
      "Data columns (total 11 columns):\n",
      "job            41188 non-null object\n",
      "marital        41188 non-null object\n",
      "education      41188 non-null object\n",
      "default        41188 non-null object\n",
      "housing        41188 non-null object\n",
      "loan           41188 non-null object\n",
      "contact        41188 non-null object\n",
      "month          41188 non-null object\n",
      "day_of_week    41188 non-null object\n",
      "poutcome       41188 non-null object\n",
      "y              41188 non-null object\n",
      "dtypes: object(11)\n",
      "memory usage: 3.5+ MB\n",
      "<class 'pandas.core.frame.DataFrame'>\n",
      "RangeIndex: 41188 entries, 0 to 41187\n",
      "Data columns (total 10 columns):\n",
      "age               41188 non-null int64\n",
      "duration          41188 non-null int64\n",
      "campaign          41188 non-null int64\n",
      "pdays             41188 non-null int64\n",
      "previous          41188 non-null int64\n",
      "emp.var.rate      41188 non-null float64\n",
      "cons.price.idx    41188 non-null float64\n",
      "cons.conf.idx     41188 non-null float64\n",
      "euribor3m         41188 non-null float64\n",
      "nr.employed       41188 non-null float64\n",
      "dtypes: float64(5), int64(5)\n",
      "memory usage: 3.1 MB\n",
      "None\n",
      "   job  marital  education  default  housing  loan  contact  month  \\\n",
      "0    3        1          0        0        0     0        1      6   \n",
      "1    7        1          3        1        0     0        1      6   \n",
      "2    7        1          3        0        2     0        1      6   \n",
      "3    0        1          1        0        0     0        1      6   \n",
      "4    7        1          3        0        0     2        1      6   \n",
      "\n",
      "   day_of_week  poutcome  y  \n",
      "0            1         1  0  \n",
      "1            1         1  0  \n",
      "2            1         1  0  \n",
      "3            1         1  0  \n",
      "4            1         1  0  \n",
      "   job  marital  education  default  housing  loan  contact  month  \\\n",
      "0    3        1          0        0        0     0        1      6   \n",
      "1    7        1          3        1        0     0        1      6   \n",
      "2    7        1          3        0        2     0        1      6   \n",
      "3    0        1          1        0        0     0        1      6   \n",
      "4    7        1          3        0        0     2        1      6   \n",
      "\n",
      "   day_of_week  poutcome  ...  age  duration  campaign  pdays  previous  \\\n",
      "0            1         1  ...   56       261         1    999         0   \n",
      "1            1         1  ...   57       149         1    999         0   \n",
      "2            1         1  ...   37       226         1    999         0   \n",
      "3            1         1  ...   40       151         1    999         0   \n",
      "4            1         1  ...   56       307         1    999         0   \n",
      "\n",
      "   emp.var.rate  cons.price.idx  cons.conf.idx  euribor3m  nr.employed  \n",
      "0           1.1          93.994          -36.4      4.857       5191.0  \n",
      "1           1.1          93.994          -36.4      4.857       5191.0  \n",
      "2           1.1          93.994          -36.4      4.857       5191.0  \n",
      "3           1.1          93.994          -36.4      4.857       5191.0  \n",
      "4           1.1          93.994          -36.4      4.857       5191.0  \n",
      "\n",
      "[5 rows x 21 columns]\n"
     ]
    }
   ],
   "source": [
    "df = pd.read_csv('bank-data/bank-additional-full.csv')\n",
    "\n",
    "bank_object_data = df.select_dtypes(include=\"object\")\n",
    "bank_object_data.info()\n",
    "\n",
    "bank_non_object_data = df.select_dtypes(exclude=\"object\")\n",
    "print(bank_non_object_data.info())\n",
    "\n",
    "label = LabelEncoder()\n",
    "bank_object_data = bank_object_data.apply(label.fit_transform)\n",
    "\n",
    "print(bank_object_data.head())\n",
    "\n",
    "bank_final = pd.concat([bank_object_data, bank_non_object_data], axis = 1)\n",
    "print(bank_final.head())"
   ]
  },
  {
   "cell_type": "markdown",
   "metadata": {},
   "source": [
    "__SVM: w/o any modifications; Linear Kernal__"
   ]
  },
  {
   "cell_type": "code",
   "execution_count": 3,
   "metadata": {},
   "outputs": [
    {
     "name": "stdout",
     "output_type": "stream",
     "text": [
      "Accuracy: 90.00%\n",
      "Accuracy: 0.90 (+/- 0.01)\n",
      "Start Time:  2020-04-18 17:56:43.335001 Stop Time:  2020-04-18 18:06:27.291086 Time Taken:  583.9560914\n"
     ]
    }
   ],
   "source": [
    "X = bank_final.drop(['y'], axis = 1)\n",
    "Y = bank_final['y']\n",
    "\n",
    "model = SVC(kernel='linear') \n",
    "\n",
    "import timeit\n",
    "\n",
    "start = timeit.default_timer()\n",
    "from datetime import datetime\n",
    "\n",
    "# current date and time\n",
    "begin = datetime.now()\n",
    "\n",
    "\n",
    "kfold = KFold(n_splits=10, random_state=100, shuffle = True)\n",
    "results_kfold = model_selection.cross_val_score(model, X, Y, cv=kfold)\n",
    "print(\"Accuracy: %.2f%%\" % (results_kfold.mean()*100.0))\n",
    "print(\"Accuracy: %0.2f (+/- %0.2f)\" % (results_kfold.mean(), results_kfold.std() * 2))\n",
    "\n",
    "stop = timeit.default_timer()\n",
    "end = datetime.now()\n",
    "print('Start Time: ', begin,\n",
    "      'Stop Time: ', end,\n",
    "      'Time Taken: ', stop - start) "
   ]
  },
  {
   "cell_type": "code",
   "execution_count": 4,
   "metadata": {},
   "outputs": [
    {
     "data": {
      "text/plain": [
       "array([0.89390629, 0.90507405, 0.89827628, 0.90701627, 0.89657684,\n",
       "       0.9002185 , 0.89463462, 0.89949017, 0.8997086 , 0.90553667])"
      ]
     },
     "execution_count": 4,
     "metadata": {},
     "output_type": "execute_result"
    }
   ],
   "source": [
    "results_kfold"
   ]
  },
  {
   "cell_type": "markdown",
   "metadata": {},
   "source": [
    "__SVM: w/o any modifications; RBF Kernal__"
   ]
  },
  {
   "cell_type": "code",
   "execution_count": 6,
   "metadata": {},
   "outputs": [
    {
     "name": "stdout",
     "output_type": "stream",
     "text": [
      "Accuracy: 89.78%\n",
      "Accuracy: 0.90 (+/- 0.01)\n",
      "[0.89754795 0.90191794 0.89609128 0.89342073 0.89463462 0.89609128\n",
      " 0.89633406 0.89172129 0.9057795  0.90456532]\n",
      "Start Time:  2020-04-18 18:11:06.181090 Stop Time:  2020-04-18 18:13:45.371612 Time Taken:  159.1909654000001\n"
     ]
    }
   ],
   "source": [
    "X = bank_final.drop(['y'], axis = 1)\n",
    "Y = bank_final['y']\n",
    "\n",
    "model = SVC(kernel='rbf') \n",
    "\n",
    "import timeit\n",
    "\n",
    "start = timeit.default_timer()\n",
    "from datetime import datetime\n",
    "\n",
    "# current date and time\n",
    "begin = datetime.now()\n",
    "\n",
    "\n",
    "kfold = KFold(n_splits=10, random_state=100, shuffle = True)\n",
    "results_kfold = model_selection.cross_val_score(model, X, Y, cv=kfold)\n",
    "print(\"Accuracy: %.2f%%\" % (results_kfold.mean()*100.0))\n",
    "print(\"Accuracy: %0.2f (+/- %0.2f)\" % (results_kfold.mean(), results_kfold.std() * 2))\n",
    "print(results_kfold)\n",
    "\n",
    "stop = timeit.default_timer()\n",
    "end = datetime.now()\n",
    "print('Start Time: ', begin,\n",
    "      'Stop Time: ', end,\n",
    "      'Time Taken: ', stop - start) "
   ]
  },
  {
   "cell_type": "markdown",
   "metadata": {},
   "source": [
    "__SVM: w/o any modifications; Polynomial Kernal__"
   ]
  },
  {
   "cell_type": "code",
   "execution_count": 7,
   "metadata": {},
   "outputs": [
    {
     "name": "stdout",
     "output_type": "stream",
     "text": [
      "Accuracy: 89.81%\n",
      "Accuracy: 0.90 (+/- 0.01)\n",
      "[0.89851906 0.90191794 0.89657684 0.89366351 0.89439184 0.89633406\n",
      " 0.89657684 0.89172129 0.9057795  0.905051  ]\n",
      "Start Time:  2020-04-18 18:26:20.110323 Stop Time:  2020-04-18 18:28:29.965505 Time Taken:  129.85541890000013\n"
     ]
    }
   ],
   "source": [
    "X = bank_final.drop(['y'], axis = 1)\n",
    "Y = bank_final['y']\n",
    "\n",
    "model = SVC(kernel='poly') \n",
    "\n",
    "import timeit\n",
    "\n",
    "start = timeit.default_timer()\n",
    "from datetime import datetime\n",
    "\n",
    "# current date and time\n",
    "begin = datetime.now()\n",
    "\n",
    "\n",
    "kfold = KFold(n_splits=10, random_state=100, shuffle = True)\n",
    "results_kfold = model_selection.cross_val_score(model, X, Y, cv=kfold)\n",
    "print(\"Accuracy: %.2f%%\" % (results_kfold.mean()*100.0))\n",
    "print(\"Accuracy: %0.2f (+/- %0.2f)\" % (results_kfold.mean(), results_kfold.std() * 2))\n",
    "print(results_kfold)\n",
    "\n",
    "stop = timeit.default_timer()\n",
    "end = datetime.now()\n",
    "print('Start Time: ', begin,\n",
    "      'Stop Time: ', end,\n",
    "      'Time Taken: ', stop - start) "
   ]
  },
  {
   "cell_type": "markdown",
   "metadata": {},
   "source": [
    "__SVM: w/o any modifications; Sigmoid Kernal__"
   ]
  },
  {
   "cell_type": "code",
   "execution_count": 8,
   "metadata": {},
   "outputs": [
    {
     "name": "stdout",
     "output_type": "stream",
     "text": [
      "Accuracy: 89.81%\n",
      "Accuracy: 0.90 (+/- 0.01)\n",
      "Start Time:  2020-04-18 18:32:10.258447 Stop Time:  2020-04-18 18:36:35.951829 Time Taken:  265.69375949999994\n"
     ]
    }
   ],
   "source": [
    "X = bank_final.drop(['y'], axis = 1)\n",
    "Y = bank_final['y']\n",
    "\n",
    "model = SVC(kernel='sigmoid') \n",
    "\n",
    "import timeit\n",
    "\n",
    "start = timeit.default_timer()\n",
    "from datetime import datetime\n",
    "\n",
    "# current date and time\n",
    "begin = datetime.now()\n",
    "\n",
    "\n",
    "kfold = KFold(n_splits=10, random_state=100, shuffle = True)\n",
    "results_kfold = model_selection.cross_val_score(model, X, Y, cv=kfold)\n",
    "print(\"Accuracy: %.2f%%\" % (results_kfold.mean()*100.0))\n",
    "print(\"Accuracy: %0.2f (+/- %0.2f)\" % (results_kfold.mean(), results_kfold.std() * 2))\n",
    "\n",
    "stop = timeit.default_timer()\n",
    "end = datetime.now()\n",
    "print('Start Time: ', begin,\n",
    "      'Stop Time: ', end,\n",
    "      'Time Taken: ', stop - start) "
   ]
  },
  {
   "cell_type": "markdown",
   "metadata": {},
   "source": [
    "__SVM: deleting missing data__"
   ]
  },
  {
   "cell_type": "code",
   "execution_count": 9,
   "metadata": {},
   "outputs": [
    {
     "name": "stdout",
     "output_type": "stream",
     "text": [
      "(41188, 21)\n",
      "Index(['age', 'job', 'marital', 'education', 'default', 'housing', 'loan',\n",
      "       'contact', 'month', 'day_of_week', 'duration', 'campaign', 'pdays',\n",
      "       'previous', 'poutcome', 'emp.var.rate', 'cons.price.idx',\n",
      "       'cons.conf.idx', 'euribor3m', 'nr.employed', 'y'],\n",
      "      dtype='object')\n",
      "age                  0\n",
      "job                330\n",
      "marital             80\n",
      "education         1731\n",
      "default           8597\n",
      "housing            990\n",
      "loan               990\n",
      "contact              0\n",
      "month                0\n",
      "day_of_week          0\n",
      "duration             0\n",
      "campaign             0\n",
      "pdays                0\n",
      "previous             0\n",
      "poutcome             0\n",
      "emp.var.rate         0\n",
      "cons.price.idx       0\n",
      "cons.conf.idx        0\n",
      "euribor3m            0\n",
      "nr.employed          0\n",
      "y                    0\n",
      "dtype: int64\n"
     ]
    },
    {
     "name": "stderr",
     "output_type": "stream",
     "text": [
      "C:\\Python3\\lib\\site-packages\\pandas\\core\\ops\\__init__.py:1115: FutureWarning: elementwise comparison failed; returning scalar instead, but in the future will perform elementwise comparison\n",
      "  result = method(y)\n"
     ]
    },
    {
     "name": "stdout",
     "output_type": "stream",
     "text": [
      "age                  0\n",
      "job                330\n",
      "marital             80\n",
      "education         1731\n",
      "default           8597\n",
      "housing            990\n",
      "loan               990\n",
      "contact              0\n",
      "month                0\n",
      "day_of_week          0\n",
      "duration             0\n",
      "campaign             0\n",
      "pdays                0\n",
      "previous             0\n",
      "poutcome             0\n",
      "emp.var.rate         0\n",
      "cons.price.idx       0\n",
      "cons.conf.idx        0\n",
      "euribor3m            0\n",
      "nr.employed          0\n",
      "y                    0\n",
      "dtype: int64\n",
      "(30488, 21)\n"
     ]
    }
   ],
   "source": [
    "df = pd.read_csv('bank-data/bank-additional-full.csv')\n",
    "print(df.shape)\n",
    "print(df.columns)\n",
    "print((df[['age', 'job', 'marital', 'education', 'default', 'housing', 'loan',\n",
    "       'contact', 'month', 'day_of_week', 'duration', 'campaign', 'pdays',\n",
    "       'previous', 'poutcome', 'emp.var.rate', 'cons.price.idx',\n",
    "       'cons.conf.idx', 'euribor3m', 'nr.employed', 'y']] == 'unknown').sum())\n",
    "\n",
    "df[['age', 'job', 'marital', 'education', 'default', 'housing', 'loan',\n",
    "       'contact', 'month', 'day_of_week', 'duration', 'campaign', 'pdays',\n",
    "       'previous', 'poutcome', 'emp.var.rate', 'cons.price.idx',\n",
    "       'cons.conf.idx', 'euribor3m', 'nr.employed', 'y']] = df[['age', 'job', 'marital', 'education', 'default', 'housing', 'loan',\n",
    "       'contact', 'month', 'day_of_week', 'duration', 'campaign', 'pdays',\n",
    "       'previous', 'poutcome', 'emp.var.rate', 'cons.price.idx',\n",
    "       'cons.conf.idx', 'euribor3m', 'nr.employed', 'y']].replace('unknown', np.NaN)\n",
    "print(df.isnull().sum())\n",
    "\n",
    "df.dropna(inplace=True)\n",
    "# summarize the number of rows and columns in the dataset\n",
    "print(df.shape)"
   ]
  },
  {
   "cell_type": "code",
   "execution_count": 10,
   "metadata": {},
   "outputs": [
    {
     "name": "stdout",
     "output_type": "stream",
     "text": [
      "<class 'pandas.core.frame.DataFrame'>\n",
      "Int64Index: 30488 entries, 0 to 41187\n",
      "Data columns (total 11 columns):\n",
      "job            30488 non-null object\n",
      "marital        30488 non-null object\n",
      "education      30488 non-null object\n",
      "default        30488 non-null object\n",
      "housing        30488 non-null object\n",
      "loan           30488 non-null object\n",
      "contact        30488 non-null object\n",
      "month          30488 non-null object\n",
      "day_of_week    30488 non-null object\n",
      "poutcome       30488 non-null object\n",
      "y              30488 non-null object\n",
      "dtypes: object(11)\n",
      "memory usage: 2.8+ MB\n",
      "None\n",
      "<class 'pandas.core.frame.DataFrame'>\n",
      "Int64Index: 30488 entries, 0 to 41187\n",
      "Data columns (total 10 columns):\n",
      "age               30488 non-null int64\n",
      "duration          30488 non-null int64\n",
      "campaign          30488 non-null int64\n",
      "pdays             30488 non-null int64\n",
      "previous          30488 non-null int64\n",
      "emp.var.rate      30488 non-null float64\n",
      "cons.price.idx    30488 non-null float64\n",
      "cons.conf.idx     30488 non-null float64\n",
      "euribor3m         30488 non-null float64\n",
      "nr.employed       30488 non-null float64\n",
      "dtypes: float64(5), int64(5)\n",
      "memory usage: 2.6 MB\n",
      "None\n",
      "   job  marital  education  default  housing  loan  contact  month  \\\n",
      "0    3        1          0        0        0     0        1      6   \n",
      "2    7        1          3        0        1     0        1      6   \n",
      "3    0        1          1        0        0     0        1      6   \n",
      "4    7        1          3        0        0     1        1      6   \n",
      "6    0        1          5        0        0     0        1      6   \n",
      "\n",
      "   day_of_week  poutcome  y  \n",
      "0            1         1  0  \n",
      "2            1         1  0  \n",
      "3            1         1  0  \n",
      "4            1         1  0  \n",
      "6            1         1  0  \n",
      "   job  marital  education  default  housing  loan  contact  month  \\\n",
      "0    3        1          0        0        0     0        1      6   \n",
      "2    7        1          3        0        1     0        1      6   \n",
      "3    0        1          1        0        0     0        1      6   \n",
      "4    7        1          3        0        0     1        1      6   \n",
      "6    0        1          5        0        0     0        1      6   \n",
      "\n",
      "   day_of_week  poutcome  ...  age  duration  campaign  pdays  previous  \\\n",
      "0            1         1  ...   56       261         1    999         0   \n",
      "2            1         1  ...   37       226         1    999         0   \n",
      "3            1         1  ...   40       151         1    999         0   \n",
      "4            1         1  ...   56       307         1    999         0   \n",
      "6            1         1  ...   59       139         1    999         0   \n",
      "\n",
      "   emp.var.rate  cons.price.idx  cons.conf.idx  euribor3m  nr.employed  \n",
      "0           1.1          93.994          -36.4      4.857       5191.0  \n",
      "2           1.1          93.994          -36.4      4.857       5191.0  \n",
      "3           1.1          93.994          -36.4      4.857       5191.0  \n",
      "4           1.1          93.994          -36.4      4.857       5191.0  \n",
      "6           1.1          93.994          -36.4      4.857       5191.0  \n",
      "\n",
      "[5 rows x 21 columns]\n"
     ]
    }
   ],
   "source": [
    "bank_object_data = df.select_dtypes(include=\"object\")\n",
    "print(bank_object_data.info())\n",
    "\n",
    "bank_non_object_data = df.select_dtypes(exclude=\"object\")\n",
    "print(bank_non_object_data.info())\n",
    "\n",
    "label = LabelEncoder()\n",
    "bank_object_data = bank_object_data.apply(label.fit_transform)\n",
    "\n",
    "print(bank_object_data.head())\n",
    "\n",
    "bank_final = pd.concat([bank_object_data, bank_non_object_data], axis = 1)\n",
    "\n",
    "print(bank_final.head())"
   ]
  },
  {
   "cell_type": "markdown",
   "metadata": {},
   "source": [
    "__SVM: deleting missing data; Linear Kernal__"
   ]
  },
  {
   "cell_type": "code",
   "execution_count": 11,
   "metadata": {},
   "outputs": [
    {
     "name": "stdout",
     "output_type": "stream",
     "text": [
      "Accuracy: 88.98%\n",
      "Accuracy: 0.89 (+/- 0.01)\n",
      "Start Time:  2020-04-18 18:38:18.965123 Stop Time:  2020-04-18 18:47:12.758608 Time Taken:  533.7934972999997\n"
     ]
    }
   ],
   "source": [
    "X = bank_final.drop(['y'], axis = 1)\n",
    "Y = bank_final['y']\n",
    "\n",
    "model = SVC(kernel='linear') \n",
    "\n",
    "import timeit\n",
    "\n",
    "start = timeit.default_timer()\n",
    "from datetime import datetime\n",
    "\n",
    "# current date and time\n",
    "begin = datetime.now()\n",
    "\n",
    "\n",
    "kfold = KFold(n_splits=10, random_state=100, shuffle = True)\n",
    "results_kfold = model_selection.cross_val_score(model, X, Y, cv=kfold)\n",
    "print(\"Accuracy: %.2f%%\" % (results_kfold.mean()*100.0))\n",
    "print(\"Accuracy: %0.2f (+/- %0.2f)\" % (results_kfold.mean(), results_kfold.std() * 2))\n",
    "\n",
    "stop = timeit.default_timer()\n",
    "end = datetime.now()\n",
    "print('Start Time: ', begin,\n",
    "      'Stop Time: ', end,\n",
    "      'Time Taken: ', stop - start) "
   ]
  },
  {
   "cell_type": "code",
   "execution_count": 12,
   "metadata": {},
   "outputs": [
    {
     "data": {
      "text/plain": [
       "array([0.90062316, 0.88553624, 0.88848803, 0.88553624, 0.88717612,\n",
       "       0.8875041 , 0.88848803, 0.90291899, 0.88451444, 0.88746719])"
      ]
     },
     "execution_count": 12,
     "metadata": {},
     "output_type": "execute_result"
    }
   ],
   "source": [
    "results_kfold"
   ]
  },
  {
   "cell_type": "markdown",
   "metadata": {},
   "source": [
    "__SVM: deleting missing data; RBF Kernal__"
   ]
  },
  {
   "cell_type": "code",
   "execution_count": 13,
   "metadata": {},
   "outputs": [
    {
     "name": "stdout",
     "output_type": "stream",
     "text": [
      "Accuracy: 88.57%\n",
      "Accuracy: 0.89 (+/- 0.01)\n",
      "[0.88914398 0.88356838 0.87963267 0.88947196 0.88488029 0.88520827\n",
      " 0.8763529  0.89537553 0.8894357  0.88353018]\n",
      "Start Time:  2020-04-18 18:48:12.102917 Stop Time:  2020-04-18 18:50:05.289477 Time Taken:  113.18625639999982\n"
     ]
    }
   ],
   "source": [
    "X = bank_final.drop(['y'], axis = 1)\n",
    "Y = bank_final['y']\n",
    "\n",
    "model = SVC(kernel='rbf') \n",
    "\n",
    "import timeit\n",
    "\n",
    "start = timeit.default_timer()\n",
    "from datetime import datetime\n",
    "\n",
    "# current date and time\n",
    "begin = datetime.now()\n",
    "\n",
    "\n",
    "kfold = KFold(n_splits=10, random_state=100, shuffle = True)\n",
    "results_kfold = model_selection.cross_val_score(model, X, Y, cv=kfold)\n",
    "print(\"Accuracy: %.2f%%\" % (results_kfold.mean()*100.0))\n",
    "print(\"Accuracy: %0.2f (+/- %0.2f)\" % (results_kfold.mean(), results_kfold.std() * 2))\n",
    "print(results_kfold)\n",
    "\n",
    "stop = timeit.default_timer()\n",
    "end = datetime.now()\n",
    "print('Start Time: ', begin,\n",
    "      'Stop Time: ', end,\n",
    "      'Time Taken: ', stop - start) "
   ]
  },
  {
   "cell_type": "markdown",
   "metadata": {},
   "source": [
    "__SVM: deleting missing data; Polynomial Kernal__"
   ]
  },
  {
   "cell_type": "code",
   "execution_count": 14,
   "metadata": {},
   "outputs": [
    {
     "name": "stdout",
     "output_type": "stream",
     "text": [
      "Accuracy: 88.60%\n",
      "Accuracy: 0.89 (+/- 0.01)\n",
      "Start Time:  2020-04-18 18:54:51.463980 Stop Time:  2020-04-18 18:56:10.380548 Time Taken:  78.91645840000001\n"
     ]
    }
   ],
   "source": [
    "X = bank_final.drop(['y'], axis = 1)\n",
    "Y = bank_final['y']\n",
    "\n",
    "model = SVC(kernel='poly') \n",
    "\n",
    "import timeit\n",
    "\n",
    "start = timeit.default_timer()\n",
    "from datetime import datetime\n",
    "\n",
    "# current date and time\n",
    "begin = datetime.now()\n",
    "\n",
    "\n",
    "kfold = KFold(n_splits=10, random_state=100, shuffle = True)\n",
    "results_kfold = model_selection.cross_val_score(model, X, Y, cv=kfold)\n",
    "print(\"Accuracy: %.2f%%\" % (results_kfold.mean()*100.0))\n",
    "print(\"Accuracy: %0.2f (+/- %0.2f)\" % (results_kfold.mean(), results_kfold.std() * 2))\n",
    "results_kfold\n",
    "\n",
    "stop = timeit.default_timer()\n",
    "end = datetime.now()\n",
    "print('Start Time: ', begin,\n",
    "      'Stop Time: ', end,\n",
    "      'Time Taken: ', stop - start) "
   ]
  },
  {
   "cell_type": "code",
   "execution_count": 15,
   "metadata": {},
   "outputs": [
    {
     "data": {
      "text/plain": [
       "array([0.88947196, 0.88324041, 0.87963267, 0.88947196, 0.88520827,\n",
       "       0.88520827, 0.87668088, 0.89668744, 0.8894357 , 0.88451444])"
      ]
     },
     "execution_count": 15,
     "metadata": {},
     "output_type": "execute_result"
    }
   ],
   "source": [
    "results_kfold"
   ]
  },
  {
   "cell_type": "markdown",
   "metadata": {},
   "source": [
    "__SVM: deleting missing data; Sigmoind Kernal__"
   ]
  },
  {
   "cell_type": "code",
   "execution_count": 16,
   "metadata": {},
   "outputs": [
    {
     "name": "stdout",
     "output_type": "stream",
     "text": [
      "Accuracy: 88.59%\n",
      "Accuracy: 0.89 (+/- 0.01)\n",
      "[0.88979993 0.88324041 0.87930469 0.88979993 0.88488029 0.88553624\n",
      " 0.87733683 0.89603149 0.88746719 0.88549869]\n",
      "Start Time:  2020-04-18 19:04:11.875955 Stop Time:  2020-04-18 19:06:49.846313 Time Taken:  157.9700671999999\n"
     ]
    }
   ],
   "source": [
    "X = bank_final.drop(['y'], axis = 1)\n",
    "Y = bank_final['y']\n",
    "\n",
    "model = SVC(kernel='sigmoid') \n",
    "\n",
    "import timeit\n",
    "\n",
    "start = timeit.default_timer()\n",
    "from datetime import datetime\n",
    "\n",
    "# current date and time\n",
    "begin = datetime.now()\n",
    "\n",
    "\n",
    "kfold = KFold(n_splits=10, random_state=100, shuffle = True)\n",
    "results_kfold = model_selection.cross_val_score(model, X, Y, cv=kfold)\n",
    "print(\"Accuracy: %.2f%%\" % (results_kfold.mean()*100.0))\n",
    "print(\"Accuracy: %0.2f (+/- %0.2f)\" % (results_kfold.mean(), results_kfold.std() * 2))\n",
    "print(results_kfold)\n",
    "\n",
    "stop = timeit.default_timer()\n",
    "end = datetime.now()\n",
    "print('Start Time: ', begin,\n",
    "      'Stop Time: ', end,\n",
    "      'Time Taken: ', stop - start) "
   ]
  },
  {
   "cell_type": "markdown",
   "metadata": {},
   "source": [
    "__SVD: with imputation__"
   ]
  },
  {
   "cell_type": "code",
   "execution_count": 17,
   "metadata": {},
   "outputs": [
    {
     "name": "stdout",
     "output_type": "stream",
     "text": [
      "(41188, 21)\n",
      "Index(['age', 'job', 'marital', 'education', 'default', 'housing', 'loan',\n",
      "       'contact', 'month', 'day_of_week', 'duration', 'campaign', 'pdays',\n",
      "       'previous', 'poutcome', 'emp.var.rate', 'cons.price.idx',\n",
      "       'cons.conf.idx', 'euribor3m', 'nr.employed', 'y'],\n",
      "      dtype='object')\n",
      "age                  0\n",
      "job                330\n",
      "marital             80\n",
      "education         1731\n",
      "default           8597\n",
      "housing            990\n",
      "loan               990\n",
      "contact              0\n",
      "month                0\n",
      "day_of_week          0\n",
      "duration             0\n",
      "campaign             0\n",
      "pdays                0\n",
      "previous             0\n",
      "poutcome             0\n",
      "emp.var.rate         0\n",
      "cons.price.idx       0\n",
      "cons.conf.idx        0\n",
      "euribor3m            0\n",
      "nr.employed          0\n",
      "y                    0\n",
      "dtype: int64\n",
      "age                  0\n",
      "job                330\n",
      "marital             80\n",
      "education         1731\n",
      "default           8597\n",
      "housing            990\n",
      "loan               990\n",
      "contact              0\n",
      "month                0\n",
      "day_of_week          0\n",
      "duration             0\n",
      "campaign             0\n",
      "pdays                0\n",
      "previous             0\n",
      "poutcome             0\n",
      "emp.var.rate         0\n",
      "cons.price.idx       0\n",
      "cons.conf.idx        0\n",
      "euribor3m            0\n",
      "nr.employed          0\n",
      "y                    0\n",
      "dtype: int64\n"
     ]
    },
    {
     "name": "stderr",
     "output_type": "stream",
     "text": [
      "C:\\Python3\\lib\\site-packages\\pandas\\core\\ops\\__init__.py:1115: FutureWarning: elementwise comparison failed; returning scalar instead, but in the future will perform elementwise comparison\n",
      "  result = method(y)\n"
     ]
    }
   ],
   "source": [
    "from sklearn.impute import SimpleImputer \n",
    "imputer = SimpleImputer(missing_values=np.nan, strategy='mean')\n",
    "\n",
    "df = pd.read_csv('bank-data/bank-additional-full.csv')\n",
    "print(df.shape)\n",
    "print(df.columns)\n",
    "print((df[['age', 'job', 'marital', 'education', 'default', 'housing', 'loan',\n",
    "       'contact', 'month', 'day_of_week', 'duration', 'campaign', 'pdays',\n",
    "       'previous', 'poutcome', 'emp.var.rate', 'cons.price.idx',\n",
    "       'cons.conf.idx', 'euribor3m', 'nr.employed', 'y']] == 'unknown').sum())\n",
    "\n",
    "df[['age', 'job', 'marital', 'education', 'default', 'housing', 'loan',\n",
    "       'contact', 'month', 'day_of_week', 'duration', 'campaign', 'pdays',\n",
    "       'previous', 'poutcome', 'emp.var.rate', 'cons.price.idx',\n",
    "       'cons.conf.idx', 'euribor3m', 'nr.employed', 'y']] = df[['age', 'job', 'marital', 'education', 'default', 'housing', 'loan',\n",
    "       'contact', 'month', 'day_of_week', 'duration', 'campaign', 'pdays',\n",
    "       'previous', 'poutcome', 'emp.var.rate', 'cons.price.idx',\n",
    "       'cons.conf.idx', 'euribor3m', 'nr.employed', 'y']].replace('unknown', np.NaN)\n",
    "print(df.isnull().sum())\n"
   ]
  },
  {
   "cell_type": "code",
   "execution_count": 18,
   "metadata": {},
   "outputs": [
    {
     "name": "stdout",
     "output_type": "stream",
     "text": [
      "<class 'pandas.core.frame.DataFrame'>\n",
      "RangeIndex: 41188 entries, 0 to 41187\n",
      "Data columns (total 11 columns):\n",
      "job            40858 non-null object\n",
      "marital        41108 non-null object\n",
      "education      39457 non-null object\n",
      "default        32591 non-null object\n",
      "housing        40198 non-null object\n",
      "loan           40198 non-null object\n",
      "contact        41188 non-null object\n",
      "month          41188 non-null object\n",
      "day_of_week    41188 non-null object\n",
      "poutcome       41188 non-null object\n",
      "y              41188 non-null object\n",
      "dtypes: object(11)\n",
      "memory usage: 3.5+ MB\n",
      "None\n",
      "job             330\n",
      "marital          80\n",
      "education      1731\n",
      "default        8597\n",
      "housing         990\n",
      "loan            990\n",
      "contact           0\n",
      "month             0\n",
      "day_of_week       0\n",
      "poutcome          0\n",
      "y                 0\n",
      "dtype: int64\n",
      "<class 'pandas.core.frame.DataFrame'>\n",
      "RangeIndex: 41188 entries, 0 to 41187\n",
      "Data columns (total 10 columns):\n",
      "age               41188 non-null int64\n",
      "duration          41188 non-null int64\n",
      "campaign          41188 non-null int64\n",
      "pdays             41188 non-null int64\n",
      "previous          41188 non-null int64\n",
      "emp.var.rate      41188 non-null float64\n",
      "cons.price.idx    41188 non-null float64\n",
      "cons.conf.idx     41188 non-null float64\n",
      "euribor3m         41188 non-null float64\n",
      "nr.employed       41188 non-null float64\n",
      "dtypes: float64(5), int64(5)\n",
      "memory usage: 3.1 MB\n",
      "None\n",
      "age               0\n",
      "duration          0\n",
      "campaign          0\n",
      "pdays             0\n",
      "previous          0\n",
      "emp.var.rate      0\n",
      "cons.price.idx    0\n",
      "cons.conf.idx     0\n",
      "euribor3m         0\n",
      "nr.employed       0\n",
      "dtype: int64\n",
      "0\n",
      "0\n"
     ]
    }
   ],
   "source": [
    "bank_object_data = df.select_dtypes(include=\"object\")\n",
    "print(bank_object_data.info())\n",
    "print(bank_object_data.isnull().sum())\n",
    "\n",
    "bank_non_object_data = df.select_dtypes(exclude=\"object\")\n",
    "print(bank_non_object_data.info())\n",
    "print(bank_non_object_data.isnull().sum())\n",
    "\n",
    "values = bank_non_object_data.values\n",
    "#imputer = Imputer()\n",
    "transformed_values = imputer.fit_transform(values)\n",
    "# count the number of NaN values in each column\n",
    "print(np.isnan(transformed_values).sum())\n",
    "print(np.isnan(bank_non_object_data.values).sum())"
   ]
  },
  {
   "cell_type": "code",
   "execution_count": 19,
   "metadata": {},
   "outputs": [],
   "source": [
    "from sklearn.base import TransformerMixin\n",
    "\n",
    "class DataFrameImputer(TransformerMixin):\n",
    "\n",
    "    def __init__(self):\n",
    "        \"\"\"Impute missing values.\n",
    "\n",
    "        Columns of dtype object are imputed with the most frequent value \n",
    "        in column.\n",
    "\n",
    "        Columns of other types are imputed with mean of column.\n",
    "\n",
    "        \"\"\"\n",
    "    def fit(self, X, y=None):\n",
    "\n",
    "        self.fill = pd.Series([X[c].value_counts().index[0]\n",
    "            if X[c].dtype == np.dtype('O') else X[c].mean() for c in X],\n",
    "            index=X.columns)\n",
    "\n",
    "        return self\n",
    "\n",
    "    def transform(self, X, y=None):\n",
    "        return X.fillna(self.fill)\n",
    "\n",
    "\n",
    "bank_object_data = DataFrameImputer().fit_transform(bank_object_data)"
   ]
  },
  {
   "cell_type": "code",
   "execution_count": 21,
   "metadata": {},
   "outputs": [
    {
     "name": "stdout",
     "output_type": "stream",
     "text": [
      "   job  marital  education  default  housing  loan  contact  month  \\\n",
      "0    3        1          0        0        0     0        1      6   \n",
      "1    7        1          3        0        0     0        1      6   \n",
      "2    7        1          3        0        1     0        1      6   \n",
      "3    0        1          1        0        0     0        1      6   \n",
      "4    7        1          3        0        0     1        1      6   \n",
      "\n",
      "   day_of_week  poutcome  y  \n",
      "0            1         1  0  \n",
      "1            1         1  0  \n",
      "2            1         1  0  \n",
      "3            1         1  0  \n",
      "4            1         1  0  \n",
      "   job  marital  education  default  housing  loan  contact  month  \\\n",
      "0    3        1          0        0        0     0        1      6   \n",
      "1    7        1          3        0        0     0        1      6   \n",
      "2    7        1          3        0        1     0        1      6   \n",
      "3    0        1          1        0        0     0        1      6   \n",
      "4    7        1          3        0        0     1        1      6   \n",
      "\n",
      "   day_of_week  poutcome  ...  age  duration  campaign  pdays  previous  \\\n",
      "0            1         1  ...   56       261         1    999         0   \n",
      "1            1         1  ...   57       149         1    999         0   \n",
      "2            1         1  ...   37       226         1    999         0   \n",
      "3            1         1  ...   40       151         1    999         0   \n",
      "4            1         1  ...   56       307         1    999         0   \n",
      "\n",
      "   emp.var.rate  cons.price.idx  cons.conf.idx  euribor3m  nr.employed  \n",
      "0           1.1          93.994          -36.4      4.857       5191.0  \n",
      "1           1.1          93.994          -36.4      4.857       5191.0  \n",
      "2           1.1          93.994          -36.4      4.857       5191.0  \n",
      "3           1.1          93.994          -36.4      4.857       5191.0  \n",
      "4           1.1          93.994          -36.4      4.857       5191.0  \n",
      "\n",
      "[5 rows x 21 columns]\n",
      "job               0\n",
      "marital           0\n",
      "education         0\n",
      "default           0\n",
      "housing           0\n",
      "loan              0\n",
      "contact           0\n",
      "month             0\n",
      "day_of_week       0\n",
      "poutcome          0\n",
      "y                 0\n",
      "age               0\n",
      "duration          0\n",
      "campaign          0\n",
      "pdays             0\n",
      "previous          0\n",
      "emp.var.rate      0\n",
      "cons.price.idx    0\n",
      "cons.conf.idx     0\n",
      "euribor3m         0\n",
      "nr.employed       0\n",
      "dtype: int64\n"
     ]
    }
   ],
   "source": [
    "label = LabelEncoder()\n",
    "bank_object_data = bank_object_data.apply(label.fit_transform)\n",
    "\n",
    "print(bank_object_data.head())\n",
    "\n",
    "bank_final = pd.concat([bank_object_data, bank_non_object_data], axis = 1)\n",
    "\n",
    "print(bank_final.head())\n",
    "print(bank_final.isnull().sum())"
   ]
  },
  {
   "cell_type": "markdown",
   "metadata": {},
   "source": [
    "__SVD: with imputation; Linear Kernal__"
   ]
  },
  {
   "cell_type": "code",
   "execution_count": 22,
   "metadata": {},
   "outputs": [
    {
     "name": "stdout",
     "output_type": "stream",
     "text": [
      "Accuracy: 89.85%\n",
      "Accuracy: 0.90 (+/- 0.01)\n",
      "Start Time:  2020-04-18 19:10:31.184463 Stop Time:  2020-04-18 19:21:20.204370 Time Taken:  649.0197156999993\n"
     ]
    }
   ],
   "source": [
    "X = bank_final.drop(['y'], axis = 1)\n",
    "Y = bank_final['y']\n",
    "\n",
    "model = SVC(kernel='linear') \n",
    "\n",
    "import timeit\n",
    "\n",
    "start = timeit.default_timer()\n",
    "from datetime import datetime\n",
    "\n",
    "# current date and time\n",
    "begin = datetime.now()\n",
    "\n",
    "\n",
    "kfold = KFold(n_splits=10, random_state=100, shuffle = True)\n",
    "results_kfold = model_selection.cross_val_score(model, X, Y, cv=kfold)\n",
    "print(\"Accuracy: %.2f%%\" % (results_kfold.mean()*100.0))\n",
    "print(\"Accuracy: %0.2f (+/- %0.2f)\" % (results_kfold.mean(), results_kfold.std() * 2))\n",
    "\n",
    "stop = timeit.default_timer()\n",
    "end = datetime.now()\n",
    "print('Start Time: ', begin,\n",
    "      'Stop Time: ', end,\n",
    "      'Time Taken: ', stop - start) "
   ]
  },
  {
   "cell_type": "code",
   "execution_count": 23,
   "metadata": {},
   "outputs": [
    {
     "data": {
      "text/plain": [
       "array([0.89439184, 0.90434571, 0.89851906, 0.89390629, 0.89584851,\n",
       "       0.89876184, 0.8948774 , 0.89924739, 0.89922292, 0.90553667])"
      ]
     },
     "execution_count": 23,
     "metadata": {},
     "output_type": "execute_result"
    }
   ],
   "source": [
    "results_kfold"
   ]
  },
  {
   "cell_type": "code",
   "execution_count": 35,
   "metadata": {},
   "outputs": [
    {
     "name": "stdout",
     "output_type": "stream",
     "text": [
      "Precision: 55.67%\n",
      "Precision: 0.56 (+/- 0.04)\n",
      "[0.53807107 0.55789474 0.5764411  0.55128205 0.56981982 0.57614213\n",
      " 0.5479798  0.56590909 0.50502513 0.57840617]\n",
      "Start Time:  2020-04-18 22:05:58.887923 Stop Time:  2020-04-18 22:16:26.354459 Time Taken:  627.4662766000001\n"
     ]
    }
   ],
   "source": [
    "X = bank_final.drop(['y'], axis = 1)\n",
    "Y = bank_final['y']\n",
    "\n",
    "model = SVC(kernel='linear') \n",
    "\n",
    "import timeit\n",
    "\n",
    "start = timeit.default_timer()\n",
    "from datetime import datetime\n",
    "\n",
    "# current date and time\n",
    "begin = datetime.now()\n",
    "\n",
    "\n",
    "kfold = KFold(n_splits=10, random_state=100, shuffle = True)\n",
    "results_kfold = model_selection.cross_val_score(model, X, Y, scoring = 'precision', cv=kfold)\n",
    "print(\"Precision: %.2f%%\" % (results_kfold.mean()*100.0))\n",
    "print(\"Precision: %0.2f (+/- %0.2f)\" % (results_kfold.mean(), results_kfold.std() * 2))\n",
    "print(results_kfold)\n",
    "\n",
    "stop = timeit.default_timer()\n",
    "end = datetime.now()\n",
    "print('Start Time: ', begin,\n",
    "      'Stop Time: ', end,\n",
    "      'Time Taken: ', stop - start) "
   ]
  },
  {
   "cell_type": "code",
   "execution_count": 36,
   "metadata": {},
   "outputs": [
    {
     "name": "stdout",
     "output_type": "stream",
     "text": [
      "Recall: 48.29%\n",
      "Recall: 0.48 (+/- 0.05)\n",
      "[0.45591398 0.48401826 0.48016701 0.45073375 0.51527495 0.47589099\n",
      " 0.46072187 0.52642706 0.4797136  0.5       ]\n",
      "Start Time:  2020-04-18 22:17:35.247156 Stop Time:  2020-04-18 22:28:14.555081 Time Taken:  639.3077757999981\n"
     ]
    }
   ],
   "source": [
    "X = bank_final.drop(['y'], axis = 1)\n",
    "Y = bank_final['y']\n",
    "\n",
    "model = SVC(kernel='linear') \n",
    "\n",
    "import timeit\n",
    "\n",
    "start = timeit.default_timer()\n",
    "from datetime import datetime\n",
    "\n",
    "# current date and time\n",
    "begin = datetime.now()\n",
    "\n",
    "\n",
    "kfold = KFold(n_splits=10, random_state=100, shuffle = True)\n",
    "results_kfold = model_selection.cross_val_score(model, X, Y, scoring = 'recall', cv=kfold)\n",
    "print(\"Recall: %.2f%%\" % (results_kfold.mean()*100.0))\n",
    "print(\"Recall: %0.2f (+/- %0.2f)\" % (results_kfold.mean(), results_kfold.std() * 2))\n",
    "print(results_kfold)\n",
    "\n",
    "stop = timeit.default_timer()\n",
    "end = datetime.now()\n",
    "print('Start Time: ', begin,\n",
    "      'Stop Time: ', end,\n",
    "      'Time Taken: ', stop - start) "
   ]
  },
  {
   "cell_type": "markdown",
   "metadata": {},
   "source": [
    "__SVD: with imputation; RBF Kernal__"
   ]
  },
  {
   "cell_type": "code",
   "execution_count": 24,
   "metadata": {},
   "outputs": [
    {
     "name": "stdout",
     "output_type": "stream",
     "text": [
      "Accuracy: 89.78%\n",
      "Accuracy: 0.90 (+/- 0.01)\n",
      "[0.89754795 0.90191794 0.89609128 0.89342073 0.89463462 0.89609128\n",
      " 0.89633406 0.89172129 0.9057795  0.90456532]\n",
      "Start Time:  2020-04-18 19:22:40.169205 Stop Time:  2020-04-18 19:26:05.703933 Time Taken:  205.53510749999987\n"
     ]
    }
   ],
   "source": [
    "X = bank_final.drop(['y'], axis = 1)\n",
    "Y = bank_final['y']\n",
    "\n",
    "model = SVC(kernel='rbf') \n",
    "\n",
    "import timeit\n",
    "\n",
    "start = timeit.default_timer()\n",
    "from datetime import datetime\n",
    "\n",
    "# current date and time\n",
    "begin = datetime.now()\n",
    "\n",
    "\n",
    "kfold = KFold(n_splits=10, random_state=100, shuffle = True)\n",
    "results_kfold = model_selection.cross_val_score(model, X, Y, cv=kfold)\n",
    "print(\"Accuracy: %.2f%%\" % (results_kfold.mean()*100.0))\n",
    "print(\"Accuracy: %0.2f (+/- %0.2f)\" % (results_kfold.mean(), results_kfold.std() * 2))\n",
    "print(results_kfold)\n",
    "\n",
    "stop = timeit.default_timer()\n",
    "end = datetime.now()\n",
    "print('Start Time: ', begin,\n",
    "      'Stop Time: ', end,\n",
    "      'Time Taken: ', stop - start) "
   ]
  },
  {
   "cell_type": "code",
   "execution_count": 33,
   "metadata": {},
   "outputs": [
    {
     "name": "stdout",
     "output_type": "stream",
     "text": [
      "Precision: 63.71%\n",
      "Precision: 0.64 (+/- 0.07)\n",
      "[0.62573099 0.61805556 0.67586207 0.61176471 0.67272727 0.67132867\n",
      " 0.62087912 0.58282209 0.59509202 0.69655172]\n",
      "Start Time:  2020-04-18 21:58:41.630896 Stop Time:  2020-04-18 22:01:56.651226 Time Taken:  195.02048190000096\n"
     ]
    }
   ],
   "source": [
    "X = bank_final.drop(['y'], axis = 1)\n",
    "Y = bank_final['y']\n",
    "\n",
    "model = SVC(kernel='rbf') \n",
    "\n",
    "import timeit\n",
    "\n",
    "start = timeit.default_timer()\n",
    "from datetime import datetime\n",
    "\n",
    "# current date and time\n",
    "begin = datetime.now()\n",
    "\n",
    "\n",
    "kfold = KFold(n_splits=10, random_state=100, shuffle = True)\n",
    "results_kfold = model_selection.cross_val_score(model, X, Y, scoring = 'precision', cv=kfold)\n",
    "print(\"Precision: %.2f%%\" % (results_kfold.mean()*100.0))\n",
    "print(\"Precision: %0.2f (+/- %0.2f)\" % (results_kfold.mean(), results_kfold.std() * 2))\n",
    "print(results_kfold)\n",
    "\n",
    "stop = timeit.default_timer()\n",
    "end = datetime.now()\n",
    "print('Start Time: ', begin,\n",
    "      'Stop Time: ', end,\n",
    "      'Time Taken: ', stop - start) "
   ]
  },
  {
   "cell_type": "code",
   "execution_count": 34,
   "metadata": {},
   "outputs": [
    {
     "name": "stdout",
     "output_type": "stream",
     "text": [
      "Recall: 21.80%\n",
      "Recall: 0.22 (+/- 0.03)\n",
      "[0.23010753 0.20319635 0.2045929  0.21802935 0.22606925 0.20125786\n",
      " 0.23991507 0.20084567 0.23150358 0.22444444]\n",
      "Start Time:  2020-04-18 22:02:05.703040 Stop Time:  2020-04-18 22:05:15.868016 Time Taken:  190.16528870000002\n"
     ]
    }
   ],
   "source": [
    "X = bank_final.drop(['y'], axis = 1)\n",
    "Y = bank_final['y']\n",
    "\n",
    "model = SVC(kernel='rbf') \n",
    "\n",
    "import timeit\n",
    "\n",
    "start = timeit.default_timer()\n",
    "from datetime import datetime\n",
    "\n",
    "# current date and time\n",
    "begin = datetime.now()\n",
    "\n",
    "\n",
    "kfold = KFold(n_splits=10, random_state=100, shuffle = True)\n",
    "results_kfold = model_selection.cross_val_score(model, X, Y, scoring = 'recall', cv=kfold)\n",
    "print(\"Recall: %.2f%%\" % (results_kfold.mean()*100.0))\n",
    "print(\"Recall: %0.2f (+/- %0.2f)\" % (results_kfold.mean(), results_kfold.std() * 2))\n",
    "print(results_kfold)\n",
    "\n",
    "stop = timeit.default_timer()\n",
    "end = datetime.now()\n",
    "print('Start Time: ', begin,\n",
    "      'Stop Time: ', end,\n",
    "      'Time Taken: ', stop - start) "
   ]
  },
  {
   "cell_type": "markdown",
   "metadata": {},
   "source": [
    "__SVD: with imputation; Polynomial Kernal__"
   ]
  },
  {
   "cell_type": "code",
   "execution_count": 25,
   "metadata": {},
   "outputs": [
    {
     "name": "stdout",
     "output_type": "stream",
     "text": [
      "Accuracy: 89.81%\n",
      "Accuracy: 0.90 (+/- 0.01)\n",
      "Start Time:  2020-04-18 19:27:15.859872 Stop Time:  2020-04-18 19:29:35.754303 Time Taken:  139.8945177000005\n"
     ]
    }
   ],
   "source": [
    "X = bank_final.drop(['y'], axis = 1)\n",
    "Y = bank_final['y']\n",
    "\n",
    "model = SVC(kernel='poly') \n",
    "\n",
    "import timeit\n",
    "\n",
    "start = timeit.default_timer()\n",
    "from datetime import datetime\n",
    "\n",
    "# current date and time\n",
    "begin = datetime.now()\n",
    "\n",
    "\n",
    "kfold = KFold(n_splits=10, random_state=100, shuffle = True)\n",
    "results_kfold = model_selection.cross_val_score(model, X, Y, cv=kfold)\n",
    "print(\"Accuracy: %.2f%%\" % (results_kfold.mean()*100.0))\n",
    "print(\"Accuracy: %0.2f (+/- %0.2f)\" % (results_kfold.mean(), results_kfold.std() * 2))\n",
    "\n",
    "stop = timeit.default_timer()\n",
    "end = datetime.now()\n",
    "print('Start Time: ', begin,\n",
    "      'Stop Time: ', end,\n",
    "      'Time Taken: ', stop - start) "
   ]
  },
  {
   "cell_type": "code",
   "execution_count": 26,
   "metadata": {},
   "outputs": [
    {
     "name": "stdout",
     "output_type": "stream",
     "text": [
      "[0.89851906 0.90191794 0.89657684 0.89366351 0.89439184 0.89633406\n",
      " 0.89657684 0.89172129 0.9057795  0.905051  ]\n"
     ]
    }
   ],
   "source": [
    "print(results_kfold)"
   ]
  },
  {
   "cell_type": "code",
   "execution_count": 28,
   "metadata": {},
   "outputs": [
    {
     "name": "stdout",
     "output_type": "stream",
     "text": [
      "Precision: 63.87%\n",
      "Precision: 0.64 (+/- 0.08)\n",
      "[0.63428571 0.61805556 0.68027211 0.61403509 0.6686747  0.67361111\n",
      " 0.62295082 0.58181818 0.59281437 0.70068027]\n",
      "Start Time:  2020-04-18 20:51:50.406479 Stop Time:  2020-04-18 20:53:51.390336 Time Taken:  120.9836176000008\n"
     ]
    }
   ],
   "source": [
    "X = bank_final.drop(['y'], axis = 1)\n",
    "Y = bank_final['y']\n",
    "\n",
    "model = SVC(kernel='poly') \n",
    "\n",
    "import timeit\n",
    "\n",
    "start = timeit.default_timer()\n",
    "from datetime import datetime\n",
    "\n",
    "# current date and time\n",
    "begin = datetime.now()\n",
    "\n",
    "\n",
    "kfold = KFold(n_splits=10, random_state=100, shuffle = True)\n",
    "results_kfold = model_selection.cross_val_score(model, X, Y, scoring = 'precision', cv=kfold)\n",
    "print(\"Precision: %.2f%%\" % (results_kfold.mean()*100.0))\n",
    "print(\"Precision: %0.2f (+/- %0.2f)\" % (results_kfold.mean(), results_kfold.std() * 2))\n",
    "print(results_kfold)\n",
    "\n",
    "stop = timeit.default_timer()\n",
    "end = datetime.now()\n",
    "print('Start Time: ', begin,\n",
    "      'Stop Time: ', end,\n",
    "      'Time Taken: ', stop - start) "
   ]
  },
  {
   "cell_type": "code",
   "execution_count": 29,
   "metadata": {},
   "outputs": [
    {
     "name": "stdout",
     "output_type": "stream",
     "text": [
      "Recall: 22.10%\n",
      "Recall: 0.22 (+/- 0.03)\n",
      "[0.23870968 0.20319635 0.20876827 0.22012579 0.22606925 0.2033543\n",
      " 0.24203822 0.20295983 0.23627685 0.22888889]\n",
      "Start Time:  2020-04-18 20:54:13.453460 Stop Time:  2020-04-18 20:56:25.801343 Time Taken:  132.34808410000005\n"
     ]
    }
   ],
   "source": [
    "X = bank_final.drop(['y'], axis = 1)\n",
    "Y = bank_final['y']\n",
    "\n",
    "model = SVC(kernel='poly') \n",
    "\n",
    "import timeit\n",
    "\n",
    "start = timeit.default_timer()\n",
    "from datetime import datetime\n",
    "\n",
    "# current date and time\n",
    "begin = datetime.now()\n",
    "\n",
    "\n",
    "kfold = KFold(n_splits=10, random_state=100, shuffle = True)\n",
    "results_kfold = model_selection.cross_val_score(model, X, Y, scoring = 'recall', cv=kfold)\n",
    "print(\"Recall: %.2f%%\" % (results_kfold.mean()*100.0))\n",
    "print(\"Recall: %0.2f (+/- %0.2f)\" % (results_kfold.mean(), results_kfold.std() * 2))\n",
    "print(results_kfold)\n",
    "\n",
    "stop = timeit.default_timer()\n",
    "end = datetime.now()\n",
    "print('Start Time: ', begin,\n",
    "      'Stop Time: ', end,\n",
    "      'Time Taken: ', stop - start) "
   ]
  },
  {
   "cell_type": "markdown",
   "metadata": {},
   "source": [
    "__SVD: with imputation; Sigmoid Kernal__"
   ]
  },
  {
   "cell_type": "code",
   "execution_count": 27,
   "metadata": {},
   "outputs": [
    {
     "name": "stdout",
     "output_type": "stream",
     "text": [
      "Accuracy: 89.81%\n",
      "Accuracy: 0.90 (+/- 0.01)\n",
      "[0.89851906 0.90216072 0.89633406 0.89342073 0.89366351 0.89706239\n",
      " 0.89584851 0.89220685 0.90626518 0.90553667]\n",
      "Start Time:  2020-04-18 19:30:55.938429 Stop Time:  2020-04-18 19:35:38.987397 Time Taken:  283.0498127999999\n"
     ]
    }
   ],
   "source": [
    "X = bank_final.drop(['y'], axis = 1)\n",
    "Y = bank_final['y']\n",
    "\n",
    "model = SVC(kernel='sigmoid') \n",
    "\n",
    "import timeit\n",
    "\n",
    "start = timeit.default_timer()\n",
    "from datetime import datetime\n",
    "\n",
    "# current date and time\n",
    "begin = datetime.now()\n",
    "\n",
    "\n",
    "kfold = KFold(n_splits=10, random_state=100, shuffle = True)\n",
    "results_kfold = model_selection.cross_val_score(model, X, Y, cv=kfold)\n",
    "print(\"Accuracy: %.2f%%\" % (results_kfold.mean()*100.0))\n",
    "print(\"Accuracy: %0.2f (+/- %0.2f)\" % (results_kfold.mean(), results_kfold.std() * 2))\n",
    "print(results_kfold)\n",
    "\n",
    "stop = timeit.default_timer()\n",
    "end = datetime.now()\n",
    "print('Start Time: ', begin,\n",
    "      'Stop Time: ', end,\n",
    "      'Time Taken: ', stop - start) "
   ]
  },
  {
   "cell_type": "code",
   "execution_count": 30,
   "metadata": {},
   "outputs": [
    {
     "name": "stdout",
     "output_type": "stream",
     "text": [
      "Precision: 64.00%\n",
      "Precision: 0.64 (+/- 0.07)\n",
      "[0.63583815 0.62411348 0.67105263 0.61176471 0.65868263 0.68794326\n",
      " 0.61666667 0.58895706 0.6        0.70469799]\n",
      "Start Time:  2020-04-18 21:47:22.744671 Stop Time:  2020-04-18 21:51:52.800541 Time Taken:  270.0559694000003\n"
     ]
    }
   ],
   "source": [
    "X = bank_final.drop(['y'], axis = 1)\n",
    "Y = bank_final['y']\n",
    "\n",
    "model = SVC(kernel='sigmoid') \n",
    "\n",
    "import timeit\n",
    "\n",
    "start = timeit.default_timer()\n",
    "from datetime import datetime\n",
    "\n",
    "# current date and time\n",
    "begin = datetime.now()\n",
    "\n",
    "\n",
    "kfold = KFold(n_splits=10, random_state=100, shuffle = True)\n",
    "results_kfold = model_selection.cross_val_score(model, X, Y, scoring = 'precision', cv=kfold)\n",
    "print(\"Precision: %.2f%%\" % (results_kfold.mean()*100.0))\n",
    "print(\"Precision: %0.2f (+/- %0.2f)\" % (results_kfold.mean(), results_kfold.std() * 2))\n",
    "print(results_kfold)\n",
    "\n",
    "stop = timeit.default_timer()\n",
    "end = datetime.now()\n",
    "print('Start Time: ', begin,\n",
    "      'Stop Time: ', end,\n",
    "      'Time Taken: ', stop - start) "
   ]
  },
  {
   "cell_type": "code",
   "execution_count": 32,
   "metadata": {},
   "outputs": [
    {
     "name": "stdout",
     "output_type": "stream",
     "text": [
      "Recall: 22.04%\n",
      "Recall: 0.22 (+/- 0.03)\n",
      "[0.23655914 0.20091324 0.21294363 0.21802935 0.22403259 0.2033543\n",
      " 0.23566879 0.20295983 0.23627685 0.23333333]\n",
      "Start Time:  2020-04-18 21:52:45.197953 Stop Time:  2020-04-18 21:57:14.808633 Time Taken:  269.6111665999997\n"
     ]
    }
   ],
   "source": [
    "X = bank_final.drop(['y'], axis = 1)\n",
    "Y = bank_final['y']\n",
    "\n",
    "model = SVC(kernel='sigmoid') \n",
    "\n",
    "import timeit\n",
    "\n",
    "start = timeit.default_timer()\n",
    "from datetime import datetime\n",
    "\n",
    "# current date and time\n",
    "begin = datetime.now()\n",
    "\n",
    "\n",
    "kfold = KFold(n_splits=10, random_state=100, shuffle = True)\n",
    "results_kfold = model_selection.cross_val_score(model, X, Y, scoring = 'recall', cv=kfold)\n",
    "print(\"Recall: %.2f%%\" % (results_kfold.mean()*100.0))\n",
    "print(\"Recall: %0.2f (+/- %0.2f)\" % (results_kfold.mean(), results_kfold.std() * 2))\n",
    "print(results_kfold)\n",
    "\n",
    "stop = timeit.default_timer()\n",
    "end = datetime.now()\n",
    "print('Start Time: ', begin,\n",
    "      'Stop Time: ', end,\n",
    "      'Time Taken: ', stop - start) "
   ]
  },
  {
   "cell_type": "code",
   "execution_count": 2,
   "metadata": {},
   "outputs": [],
   "source": [
    "import pandas as pd\n",
    "import numpy as np\n",
    "import statistics\n",
    "from sklearn.model_selection import train_test_split\n",
    "from sklearn.preprocessing import LabelEncoder\n",
    "from sklearn.tree import DecisionTreeClassifier\n",
    "from sklearn.naive_bayes import GaussianNB, MultinomialNB, ComplementNB, BernoulliNB, CategoricalNB \n",
    "from sklearn.svm import SVC\n",
    "from sklearn.decomposition import TruncatedSVD\n",
    "from sklearn.metrics import accuracy_score, recall_score\n",
    "from sklearn import model_selection\n",
    "from sklearn.base import TransformerMixin\n",
    "from sklearn.model_selection import KFold\n",
    "import matplotlib.pylab as plt\n",
    "import matplotlib.patches as patches\n",
    "from sklearn.metrics import roc_curve,auc\n",
    "from numpy import interp\n",
    "from joblib import dump\n",
    "import os\n",
    "import joblib"
   ]
  },
  {
   "cell_type": "code",
   "execution_count": 3,
   "metadata": {},
   "outputs": [],
   "source": [
    "class DataFrameImputer(TransformerMixin):\n",
    "\n",
    "    def __init__(self):\n",
    "        \"\"\"Impute missing values.\n",
    "\n",
    "        Columns of dtype object are imputed with the most frequent value \n",
    "        in column.\n",
    "\n",
    "        Columns of other types are imputed with mean of column.\n",
    "\n",
    "        \"\"\"\n",
    "    def fit(self, X, y=None):\n",
    "\n",
    "        self.fill = pd.Series([X[c].value_counts().index[0]\n",
    "            if X[c].dtype == np.dtype('O') else X[c].mean() for c in X],\n",
    "            index=X.columns)\n",
    "\n",
    "        return self\n",
    "\n",
    "    def transform(self, X, y=None):\n",
    "        return X.fillna(self.fill)\n",
    "\n",
    "\n",
    "def preprocess(df):\n",
    "    df[['age', 'job', 'marital', 'education', 'default', 'housing', 'loan',\n",
    "       'contact', 'month', 'day_of_week', 'duration', 'campaign', 'pdays',\n",
    "       'previous', 'poutcome', 'emp.var.rate', 'cons.price.idx',\n",
    "       'cons.conf.idx', 'euribor3m', 'nr.employed', 'y']] = df[['age', 'job', 'marital', 'education', 'default', 'housing', 'loan',\n",
    "       'contact', 'month', 'day_of_week', 'duration', 'campaign', 'pdays',\n",
    "       'previous', 'poutcome', 'emp.var.rate', 'cons.price.idx',\n",
    "       'cons.conf.idx', 'euribor3m', 'nr.employed', 'y']].replace('unknown', np.NaN)\n",
    "    bank_object_data = df.select_dtypes(include=\"object\")\n",
    "    bank_non_object_data = df.select_dtypes(exclude=\"object\")\n",
    "    bank_object_data = DataFrameImputer().fit_transform(bank_object_data)\n",
    "    label = LabelEncoder()\n",
    "    bank_object_data = bank_object_data.apply(label.fit_transform)\n",
    "    bank_final = pd.concat([bank_object_data, bank_non_object_data], axis = 1)\n",
    "    return(bank_final)"
   ]
  },
  {
   "cell_type": "code",
   "execution_count": 4,
   "metadata": {},
   "outputs": [],
   "source": [
    "df = pd.read_csv('bank-data/bank-additional-full.csv')\n",
    "bank_final = preprocess(df)"
   ]
  },
  {
   "cell_type": "code",
   "execution_count": 9,
   "metadata": {},
   "outputs": [
    {
     "name": "stdout",
     "output_type": "stream",
     "text": [
      "Recall: 0.48 (+/- 0.02)\n",
      "Precision: 0.56 (+/- 0.02)\n",
      "F1 Score: 0.52 (+/- 0.02)\n",
      "Accuracy: 0.90 (+/- 0.00)\n",
      "ROC_AUC: 0.90 (+/- 0.01)\n",
      "{'fit_time': array([63.89027071, 68.43851185, 73.45046878, 90.7219336 , 72.9657011 ,\n",
      "       78.14535666, 75.61178088, 67.81443024, 62.37790012, 58.74865365]), 'score_time': array([0.61831188, 0.65883851, 0.78090763, 0.73902583, 0.74002552,\n",
      "       0.7267611 , 0.77792192, 0.79407525, 0.64328647, 0.64096427]), 'test_accuracy': array([0.89439184, 0.90434571, 0.89851906, 0.89390629, 0.89584851,\n",
      "       0.89876184, 0.8948774 , 0.89924739, 0.89922292, 0.90553667]), 'test_recall': array([0.45591398, 0.48401826, 0.48016701, 0.45073375, 0.51527495,\n",
      "       0.47589099, 0.46072187, 0.52642706, 0.4797136 , 0.5       ]), 'test_precision': array([0.53807107, 0.55789474, 0.5764411 , 0.55128205, 0.56981982,\n",
      "       0.57614213, 0.5479798 , 0.56590909, 0.50502513, 0.57840617]), 'test_f1': array([0.49359721, 0.51833741, 0.523918  , 0.49596309, 0.54117647,\n",
      "       0.52123995, 0.5005767 , 0.54545455, 0.49204406, 0.5363528 ]), 'test_roc_auc': array([0.89417754, 0.89683355, 0.91460173, 0.89447478, 0.90102327,\n",
      "       0.89748704, 0.88954946, 0.8981281 , 0.89218269, 0.90691506])}\n",
      "Start Time:  2020-04-21 12:39:56.414082 Stop Time:  2020-04-21 12:51:55.749107 Time Taken:  719.3352236000001\n"
     ]
    }
   ],
   "source": [
    "import timeit\n",
    "\n",
    "start = timeit.default_timer()\n",
    "from datetime import datetime\n",
    "\n",
    "# current date and time\n",
    "begin = datetime.now()\n",
    "\n",
    "\n",
    "X = bank_final.drop(['y'], axis = 1)\n",
    "Y = bank_final['y']\n",
    "\n",
    "model = SVC(kernel = 'linear', random_state = 0)\n",
    "scoring = ['accuracy', 'recall', 'precision', 'f1', 'roc_auc']\n",
    "dump(model, 'svm.joblib')\n",
    "    \n",
    "kfold = KFold(n_splits=10, random_state=100, shuffle = True)\n",
    "results_kfold = model_selection.cross_validate(model, X, Y, scoring=scoring, cv=kfold)\n",
    "print(\"Recall: %0.2f (+/- %0.2f)\" % (results_kfold['test_recall'].mean(), results_kfold['test_recall'].std()))\n",
    "print(\"Precision: %0.2f (+/- %0.2f)\" % (results_kfold['test_precision'].mean(), results_kfold['test_precision'].std()))\n",
    "print(\"F1 Score: %0.2f (+/- %0.2f)\" % (results_kfold['test_f1'].mean(), results_kfold['test_f1'].std()))\n",
    "print(\"Accuracy: %0.2f (+/- %0.2f)\" % (results_kfold['test_accuracy'].mean(), results_kfold['test_accuracy'].std()))\n",
    "print(\"ROC_AUC: %0.2f (+/- %0.2f)\" % (results_kfold['test_roc_auc'].mean(), results_kfold['test_roc_auc'].std()))\n",
    "\n",
    "print(results_kfold)\n",
    "stop = timeit.default_timer()\n",
    "end = datetime.now()\n",
    "print('Start Time: ', begin,\n",
    "      'Stop Time: ', end,\n",
    "      'Time Taken: ', stop - start)"
   ]
  },
  {
   "cell_type": "code",
   "execution_count": 10,
   "metadata": {},
   "outputs": [
    {
     "name": "stdout",
     "output_type": "stream",
     "text": [
      "Recall: 0.71 (+/- 0.12)\n",
      "Precision: 0.48 (+/- 0.09)\n",
      "F1 Score: 0.56 (+/- 0.05)\n",
      "Accuracy: 0.87 (+/- 0.06)\n",
      "ROC_AUC: 0.91 (+/- 0.01)\n",
      "{'fit_time': array([104.96473432, 115.73305273, 111.47213101,  53.0239799 ,\n",
      "        71.92415023, 123.05368733, 113.70206213, 129.00663471,\n",
      "       119.36920118,  69.62025785]), 'score_time': array([1.04616451, 1.16487956, 1.07020974, 1.1227951 , 1.0749712 ,\n",
      "       1.12943935, 1.20082474, 1.20993757, 1.52406621, 1.10515642]), 'test_accuracy': array([0.88492353, 0.89560573, 0.88929352, 0.90094683, 0.75503763,\n",
      "       0.89463462, 0.89414907, 0.8980335 , 0.89630889, 0.75643516]), 'test_recall': array([0.62365591, 0.63242009, 0.64926931, 0.66247379, 0.94093686,\n",
      "       0.66247379, 0.66454352, 0.65539112, 0.65155131, 0.94      ]), 'test_precision': array([0.49235993, 0.50732601, 0.51919866, 0.56127886, 0.32038835,\n",
      "       0.53650255, 0.52961083, 0.54673721, 0.49277978, 0.30235883]), 'test_f1': array([0.55028463, 0.56300813, 0.57699443, 0.60769231, 0.47801345,\n",
      "       0.59287054, 0.58945386, 0.59615385, 0.56115108, 0.45754462]), 'test_roc_auc': array([0.90212817, 0.91042736, 0.91756923, 0.91667847, 0.91115661,\n",
      "       0.91655643, 0.91078612, 0.92209714, 0.91271201, 0.91946625])}\n",
      "Start Time:  2020-04-21 13:21:38.590758 Stop Time:  2020-04-21 13:38:42.166231 Time Taken:  1023.5751836000004\n"
     ]
    }
   ],
   "source": [
    "import timeit\n",
    "\n",
    "start = timeit.default_timer()\n",
    "from datetime import datetime\n",
    "\n",
    "# current date and time\n",
    "begin = datetime.now()\n",
    "\n",
    "\n",
    "X = bank_final.drop(['y'], axis = 1)\n",
    "Y = bank_final['y']\n",
    "\n",
    "model = SVC(kernel = 'linear', random_state = 0, class_weight = 'balanced')\n",
    "scoring = ['accuracy', 'recall', 'precision', 'f1', 'roc_auc']\n",
    "dump(model, 'svm.joblib')\n",
    "    \n",
    "kfold = KFold(n_splits=10, random_state=100, shuffle = True)\n",
    "results_kfold = model_selection.cross_validate(model, X, Y, scoring=scoring, cv=kfold)\n",
    "print(\"Recall: %0.2f (+/- %0.2f)\" % (results_kfold['test_recall'].mean(), results_kfold['test_recall'].std()))\n",
    "print(\"Precision: %0.2f (+/- %0.2f)\" % (results_kfold['test_precision'].mean(), results_kfold['test_precision'].std()))\n",
    "print(\"F1 Score: %0.2f (+/- %0.2f)\" % (results_kfold['test_f1'].mean(), results_kfold['test_f1'].std()))\n",
    "print(\"Accuracy: %0.2f (+/- %0.2f)\" % (results_kfold['test_accuracy'].mean(), results_kfold['test_accuracy'].std()))\n",
    "print(\"ROC_AUC: %0.2f (+/- %0.2f)\" % (results_kfold['test_roc_auc'].mean(), results_kfold['test_roc_auc'].std()))\n",
    "\n",
    "print(results_kfold)\n",
    "stop = timeit.default_timer()\n",
    "end = datetime.now()\n",
    "print('Start Time: ', begin,\n",
    "      'Stop Time: ', end,\n",
    "      'Time Taken: ', stop - start)"
   ]
  },
  {
   "cell_type": "code",
   "execution_count": 11,
   "metadata": {},
   "outputs": [
    {
     "name": "stdout",
     "output_type": "stream",
     "text": [
      "Recall: 0.86 (+/- 0.02)\n",
      "Precision: 0.40 (+/- 0.01)\n",
      "F1 Score: 0.54 (+/- 0.01)\n",
      "Accuracy: 0.84 (+/- 0.00)\n",
      "ROC_AUC: 0.92 (+/- 0.00)\n",
      "{'fit_time': array([41.26818681, 38.3564539 , 39.76867414, 38.47613072, 38.44321513,\n",
      "       40.3904016 , 39.1849978 , 40.55258441, 39.24738646, 39.55125976]), 'score_time': array([3.30117273, 2.79654932, 3.24233246, 2.90822792, 2.99300194,\n",
      "       3.06281066, 2.89227533, 3.08275962, 3.13761115, 3.08475089]), 'test_accuracy': array([0.83466861, 0.8443797 , 0.84413693, 0.84170915, 0.83224084,\n",
      "       0.83563972, 0.83224084, 0.83661083, 0.83827101, 0.83802817]), 'test_recall': array([0.84946237, 0.85159817, 0.88517745, 0.83018868, 0.87169043,\n",
      "       0.83857442, 0.86836518, 0.86680761, 0.849642  , 0.87111111]), 'test_precision': array([0.39264414, 0.39304531, 0.41938675, 0.40951396, 0.40530303,\n",
      "       0.4       , 0.39402697, 0.40196078, 0.37122002, 0.39160839]), 'test_f1': array([0.53704963, 0.53785148, 0.56912752, 0.54847645, 0.55332902,\n",
      "       0.54163846, 0.54208085, 0.54922974, 0.51669086, 0.54031702]), 'test_roc_auc': array([0.91830959, 0.9222479 , 0.92921265, 0.91880253, 0.91980792,\n",
      "       0.92055762, 0.92006788, 0.92358042, 0.92027065, 0.92962741])}\n",
      "Start Time:  2020-04-21 13:40:46.827893 Stop Time:  2020-04-21 13:47:52.643453 Time Taken:  425.8158424999997\n"
     ]
    }
   ],
   "source": [
    "import timeit\n",
    "\n",
    "start = timeit.default_timer()\n",
    "from datetime import datetime\n",
    "\n",
    "# current date and time\n",
    "begin = datetime.now()\n",
    "\n",
    "\n",
    "X = bank_final.drop(['y'], axis = 1)\n",
    "Y = bank_final['y']\n",
    "\n",
    "model = SVC(kernel = 'poly', random_state = 0, class_weight = 'balanced')\n",
    "scoring = ['accuracy', 'recall', 'precision', 'f1', 'roc_auc']\n",
    "dump(model, 'svm.joblib')\n",
    "    \n",
    "kfold = KFold(n_splits=10, random_state=100, shuffle = True)\n",
    "results_kfold = model_selection.cross_validate(model, X, Y, scoring=scoring, cv=kfold)\n",
    "print(\"Recall: %0.2f (+/- %0.2f)\" % (results_kfold['test_recall'].mean(), results_kfold['test_recall'].std()))\n",
    "print(\"Precision: %0.2f (+/- %0.2f)\" % (results_kfold['test_precision'].mean(), results_kfold['test_precision'].std()))\n",
    "print(\"F1 Score: %0.2f (+/- %0.2f)\" % (results_kfold['test_f1'].mean(), results_kfold['test_f1'].std()))\n",
    "print(\"Accuracy: %0.2f (+/- %0.2f)\" % (results_kfold['test_accuracy'].mean(), results_kfold['test_accuracy'].std()))\n",
    "print(\"ROC_AUC: %0.2f (+/- %0.2f)\" % (results_kfold['test_roc_auc'].mean(), results_kfold['test_roc_auc'].std()))\n",
    "\n",
    "print(results_kfold)\n",
    "stop = timeit.default_timer()\n",
    "end = datetime.now()\n",
    "print('Start Time: ', begin,\n",
    "      'Stop Time: ', end,\n",
    "      'Time Taken: ', stop - start)"
   ]
  }
 ],
 "metadata": {
  "kernelspec": {
   "display_name": "Python 3",
   "language": "python",
   "name": "python3"
  },
  "language_info": {
   "codemirror_mode": {
    "name": "ipython",
    "version": 3
   },
   "file_extension": ".py",
   "mimetype": "text/x-python",
   "name": "python",
   "nbconvert_exporter": "python",
   "pygments_lexer": "ipython3",
   "version": "3.7.4"
  }
 },
 "nbformat": 4,
 "nbformat_minor": 2
}
