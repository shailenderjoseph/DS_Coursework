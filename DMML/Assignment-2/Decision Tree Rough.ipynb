{
 "cells": [
  {
   "cell_type": "code",
   "execution_count": 1,
   "metadata": {},
   "outputs": [],
   "source": [
    "import pandas as pd\n",
    "import numpy as np\n",
    "from sklearn.model_selection import train_test_split\n",
    "from sklearn.preprocessing import LabelEncoder\n",
    "from sklearn.tree import DecisionTreeClassifier\n",
    "from sklearn.metrics import accuracy_score\n",
    "from sklearn import model_selection\n",
    "from sklearn.model_selection import KFold"
   ]
  },
  {
   "cell_type": "markdown",
   "metadata": {},
   "source": [
    "__Decision tree: w/o any modification of missing data__"
   ]
  },
  {
   "cell_type": "code",
   "execution_count": 64,
   "metadata": {},
   "outputs": [
    {
     "name": "stdout",
     "output_type": "stream",
     "text": [
      "<class 'pandas.core.frame.DataFrame'>\n",
      "RangeIndex: 41188 entries, 0 to 41187\n",
      "Data columns (total 11 columns):\n",
      "job            41188 non-null object\n",
      "marital        41188 non-null object\n",
      "education      41188 non-null object\n",
      "default        41188 non-null object\n",
      "housing        41188 non-null object\n",
      "loan           41188 non-null object\n",
      "contact        41188 non-null object\n",
      "month          41188 non-null object\n",
      "day_of_week    41188 non-null object\n",
      "poutcome       41188 non-null object\n",
      "y              41188 non-null object\n",
      "dtypes: object(11)\n",
      "memory usage: 3.5+ MB\n",
      "<class 'pandas.core.frame.DataFrame'>\n",
      "RangeIndex: 41188 entries, 0 to 41187\n",
      "Data columns (total 10 columns):\n",
      "age               41188 non-null int64\n",
      "duration          41188 non-null int64\n",
      "campaign          41188 non-null int64\n",
      "pdays             41188 non-null int64\n",
      "previous          41188 non-null int64\n",
      "emp.var.rate      41188 non-null float64\n",
      "cons.price.idx    41188 non-null float64\n",
      "cons.conf.idx     41188 non-null float64\n",
      "euribor3m         41188 non-null float64\n",
      "nr.employed       41188 non-null float64\n",
      "dtypes: float64(5), int64(5)\n",
      "memory usage: 3.1 MB\n",
      "None\n",
      "   job  marital  education  default  housing  loan  contact  month  \\\n",
      "0    3        1          0        0        0     0        1      6   \n",
      "1    7        1          3        1        0     0        1      6   \n",
      "2    7        1          3        0        2     0        1      6   \n",
      "3    0        1          1        0        0     0        1      6   \n",
      "4    7        1          3        0        0     2        1      6   \n",
      "\n",
      "   day_of_week  poutcome  y  \n",
      "0            1         1  0  \n",
      "1            1         1  0  \n",
      "2            1         1  0  \n",
      "3            1         1  0  \n",
      "4            1         1  0  \n",
      "   job  marital  education  default  housing  loan  contact  month  \\\n",
      "0    3        1          0        0        0     0        1      6   \n",
      "1    7        1          3        1        0     0        1      6   \n",
      "2    7        1          3        0        2     0        1      6   \n",
      "3    0        1          1        0        0     0        1      6   \n",
      "4    7        1          3        0        0     2        1      6   \n",
      "\n",
      "   day_of_week  poutcome  ...  age  duration  campaign  pdays  previous  \\\n",
      "0            1         1  ...   56       261         1    999         0   \n",
      "1            1         1  ...   57       149         1    999         0   \n",
      "2            1         1  ...   37       226         1    999         0   \n",
      "3            1         1  ...   40       151         1    999         0   \n",
      "4            1         1  ...   56       307         1    999         0   \n",
      "\n",
      "   emp.var.rate  cons.price.idx  cons.conf.idx  euribor3m  nr.employed  \n",
      "0           1.1          93.994          -36.4      4.857       5191.0  \n",
      "1           1.1          93.994          -36.4      4.857       5191.0  \n",
      "2           1.1          93.994          -36.4      4.857       5191.0  \n",
      "3           1.1          93.994          -36.4      4.857       5191.0  \n",
      "4           1.1          93.994          -36.4      4.857       5191.0  \n",
      "\n",
      "[5 rows x 21 columns]\n"
     ]
    }
   ],
   "source": [
    "df = pd.read_csv('bank-data/bank-additional-full.csv')\n",
    "bank_object_data = df.select_dtypes(include=\"object\")\n",
    "bank_object_data.info()\n",
    "\n",
    "bank_non_object_data = df.select_dtypes(exclude=\"object\")\n",
    "print(bank_non_object_data.info())\n",
    "\n",
    "label = LabelEncoder()\n",
    "bank_object_data = bank_object_data.apply(label.fit_transform)\n",
    "\n",
    "print(bank_object_data.head())\n",
    "\n",
    "bank_final = pd.concat([bank_object_data, bank_non_object_data], axis = 1)\n",
    "print(bank_final.head())"
   ]
  },
  {
   "cell_type": "markdown",
   "metadata": {},
   "source": [
    "__Decision tree: w/o any modification of missing data; k fold__"
   ]
  },
  {
   "cell_type": "code",
   "execution_count": 65,
   "metadata": {},
   "outputs": [
    {
     "name": "stdout",
     "output_type": "stream",
     "text": [
      "Accuracy: 88.73%\n",
      "Accuracy: 0.89 (+/- 0.01)\n"
     ]
    },
    {
     "data": {
      "text/plain": [
       "array([0.88492353, 0.88565186, 0.88638019, 0.88905074, 0.88565186,\n",
       "       0.88225297, 0.89002185, 0.88905074, 0.89533754, 0.88440991])"
      ]
     },
     "execution_count": 65,
     "metadata": {},
     "output_type": "execute_result"
    }
   ],
   "source": [
    "X = bank_final.drop(['y'], axis = 1)\n",
    "Y = bank_final['y']\n",
    "\n",
    "model = DecisionTreeClassifier(random_state=20)\n",
    "\n",
    "kfold = KFold(n_splits=10, random_state=100, shuffle = True)\n",
    "results_kfold = model_selection.cross_val_score(model, X, Y, cv=kfold)\n",
    "print(\"Accuracy: %.2f%%\" % (results_kfold.mean()*100.0))\n",
    "print(\"Accuracy: %0.2f (+/- %0.2f)\" % (results_kfold.mean(), results_kfold.std() * 2))\n",
    "results_kfold"
   ]
  },
  {
   "cell_type": "code",
   "execution_count": 67,
   "metadata": {},
   "outputs": [
    {
     "name": "stdout",
     "output_type": "stream",
     "text": [
      "Accuracy: 87.31%\n",
      "Accuracy: 0.87 (+/- 0.21)\n",
      "[0.95508619 0.94950231 0.94294732 0.92328235 0.93517844 0.92740957\n",
      " 0.8519058  0.85894635 0.79043225 0.59664886]\n"
     ]
    }
   ],
   "source": [
    "X = bank_final.drop(['y'], axis = 1)\n",
    "Y = bank_final['y']\n",
    "\n",
    "model = DecisionTreeClassifier(random_state=20)\n",
    "\n",
    "kfold = KFold(n_splits=10)\n",
    "results_kfold = model_selection.cross_val_score(model, X, Y, cv=kfold)\n",
    "print(\"Accuracy: %.2f%%\" % (results_kfold.mean()*100.0))\n",
    "print(\"Accuracy: %0.2f (+/- %0.2f)\" % (results_kfold.mean(), results_kfold.std() * 2))\n",
    "print(results_kfold)"
   ]
  },
  {
   "cell_type": "code",
   "execution_count": 98,
   "metadata": {},
   "outputs": [],
   "source": [
    "df = pd.read_csv('bank-data/bank-additional-full.csv')\n",
    "t1 = df.copy()\n",
    "for i in t1.columns:\n",
    "    if len(t1.columns) > 4:\n",
    "        t1.drop([i], axis = 1, inplace = True)\n",
    "for i in t1.index:\n",
    "    if len(t1.index) > 10:\n",
    "        t1.drop([i], inplace = True)\n",
    "t1 = t1.set_index(np.arange(0,len(t1)))"
   ]
  },
  {
   "cell_type": "code",
   "execution_count": 100,
   "metadata": {},
   "outputs": [
    {
     "data": {
      "text/html": [
       "<div>\n",
       "<style scoped>\n",
       "    .dataframe tbody tr th:only-of-type {\n",
       "        vertical-align: middle;\n",
       "    }\n",
       "\n",
       "    .dataframe tbody tr th {\n",
       "        vertical-align: top;\n",
       "    }\n",
       "\n",
       "    .dataframe thead th {\n",
       "        text-align: right;\n",
       "    }\n",
       "</style>\n",
       "<table border=\"1\" class=\"dataframe\">\n",
       "  <thead>\n",
       "    <tr style=\"text-align: right;\">\n",
       "      <th></th>\n",
       "      <th>cons.conf.idx</th>\n",
       "      <th>euribor3m</th>\n",
       "      <th>nr.employed</th>\n",
       "      <th>y</th>\n",
       "    </tr>\n",
       "  </thead>\n",
       "  <tbody>\n",
       "    <tr>\n",
       "      <td>0</td>\n",
       "      <td>-50.8</td>\n",
       "      <td>1.031</td>\n",
       "      <td>4963.6</td>\n",
       "      <td>yes</td>\n",
       "    </tr>\n",
       "    <tr>\n",
       "      <td>1</td>\n",
       "      <td>-50.8</td>\n",
       "      <td>1.028</td>\n",
       "      <td>4963.6</td>\n",
       "      <td>no</td>\n",
       "    </tr>\n",
       "    <tr>\n",
       "      <td>2</td>\n",
       "      <td>-50.8</td>\n",
       "      <td>1.028</td>\n",
       "      <td>4963.6</td>\n",
       "      <td>no</td>\n",
       "    </tr>\n",
       "    <tr>\n",
       "      <td>3</td>\n",
       "      <td>-50.8</td>\n",
       "      <td>1.028</td>\n",
       "      <td>4963.6</td>\n",
       "      <td>yes</td>\n",
       "    </tr>\n",
       "    <tr>\n",
       "      <td>4</td>\n",
       "      <td>-50.8</td>\n",
       "      <td>1.028</td>\n",
       "      <td>4963.6</td>\n",
       "      <td>no</td>\n",
       "    </tr>\n",
       "    <tr>\n",
       "      <td>5</td>\n",
       "      <td>-50.8</td>\n",
       "      <td>1.028</td>\n",
       "      <td>4963.6</td>\n",
       "      <td>yes</td>\n",
       "    </tr>\n",
       "    <tr>\n",
       "      <td>6</td>\n",
       "      <td>-50.8</td>\n",
       "      <td>1.028</td>\n",
       "      <td>4963.6</td>\n",
       "      <td>no</td>\n",
       "    </tr>\n",
       "    <tr>\n",
       "      <td>7</td>\n",
       "      <td>-50.8</td>\n",
       "      <td>1.028</td>\n",
       "      <td>4963.6</td>\n",
       "      <td>no</td>\n",
       "    </tr>\n",
       "    <tr>\n",
       "      <td>8</td>\n",
       "      <td>-50.8</td>\n",
       "      <td>1.028</td>\n",
       "      <td>4963.6</td>\n",
       "      <td>yes</td>\n",
       "    </tr>\n",
       "    <tr>\n",
       "      <td>9</td>\n",
       "      <td>-50.8</td>\n",
       "      <td>1.028</td>\n",
       "      <td>4963.6</td>\n",
       "      <td>no</td>\n",
       "    </tr>\n",
       "  </tbody>\n",
       "</table>\n",
       "</div>"
      ],
      "text/plain": [
       "   cons.conf.idx  euribor3m  nr.employed    y\n",
       "0          -50.8      1.031       4963.6  yes\n",
       "1          -50.8      1.028       4963.6   no\n",
       "2          -50.8      1.028       4963.6   no\n",
       "3          -50.8      1.028       4963.6  yes\n",
       "4          -50.8      1.028       4963.6   no\n",
       "5          -50.8      1.028       4963.6  yes\n",
       "6          -50.8      1.028       4963.6   no\n",
       "7          -50.8      1.028       4963.6   no\n",
       "8          -50.8      1.028       4963.6  yes\n",
       "9          -50.8      1.028       4963.6   no"
      ]
     },
     "execution_count": 100,
     "metadata": {},
     "output_type": "execute_result"
    }
   ],
   "source": [
    "t1"
   ]
  },
  {
   "cell_type": "code",
   "execution_count": 101,
   "metadata": {},
   "outputs": [
    {
     "name": "stdout",
     "output_type": "stream",
     "text": [
      "[2 3 4 5 6 7 8 9] [0 1]\n",
      "[0 1 4 5 6 7 8 9] [2 3]\n",
      "[0 1 2 3 6 7 8 9] [4 5]\n",
      "[0 1 2 3 4 5 8 9] [6 7]\n",
      "[0 1 2 3 4 5 6 7] [8 9]\n"
     ]
    }
   ],
   "source": [
    "X = t1.drop(['y'], axis = 1)\n",
    "Y = t1['y']\n",
    "kf = KFold(n_splits=5)\n",
    "kf.split(t1) \n",
    "for train_index, test_index in kf.split(t1):\n",
    "    #X_train, X_test = X.iloc[train_index], X.iloc[test_index]\n",
    "    #y_train, y_test = Y[train_index], Y[test_index]\n",
    "    print(train_index, test_index)\n",
    "    #print(X_train,y_train)\n",
    "    #print(X_test,y_test)"
   ]
  },
  {
   "cell_type": "code",
   "execution_count": 102,
   "metadata": {},
   "outputs": [
    {
     "name": "stdout",
     "output_type": "stream",
     "text": [
      "[0 1 2 3 4 5 8 9] [6 7]\n",
      "[0 2 3 4 6 7 8 9] [1 5]\n",
      "[0 1 3 5 6 7 8 9] [2 4]\n",
      "[1 2 4 5 6 7 8 9] [0 3]\n",
      "[0 1 2 3 4 5 6 7] [8 9]\n"
     ]
    }
   ],
   "source": [
    "X = t1.drop(['y'], axis = 1)\n",
    "Y = t1['y']\n",
    "kf = KFold(n_splits=5, random_state=100, shuffle = True)\n",
    "kf.split(t1) \n",
    "for train_index, test_index in kf.split(t1):\n",
    "    #X_train, X_test = X.iloc[train_index], X.iloc[test_index]\n",
    "    #y_train, y_test = Y[train_index], Y[test_index]\n",
    "    print(train_index, test_index)\n",
    "    #print(X_train,y_train)\n",
    "    #print(X_test,y_test)"
   ]
  },
  {
   "cell_type": "code",
   "execution_count": 106,
   "metadata": {},
   "outputs": [
    {
     "name": "stdout",
     "output_type": "stream",
     "text": [
      "[0 1 3 4 5 6 7 9] [2 8]\n",
      "[0 1 2 3 5 6 7 8] [4 9]\n",
      "[0 2 3 4 5 7 8 9] [1 6]\n",
      "[0 1 2 4 5 6 8 9] [3 7]\n",
      "[1 2 3 4 6 7 8 9] [0 5]\n",
      "[0 1 3 4 5 6 7 9] [2 8]\n",
      "[0 1 2 3 5 6 7 8] [4 9]\n",
      "[0 2 3 4 5 7 8 9] [1 6]\n",
      "[0 1 2 4 5 6 8 9] [3 7]\n",
      "[1 2 3 4 6 7 8 9] [0 5]\n"
     ]
    }
   ],
   "source": [
    "X = t1.drop(['y'], axis = 1)\n",
    "Y = t1['y']\n",
    "kf = KFold(n_splits=5, random_state=0, shuffle = True)\n",
    "kf.split(X,Y) \n",
    "for train_index, test_index in kf.split(X):\n",
    "    #X_train, X_test = X.iloc[train_index], X.iloc[test_index]\n",
    "    #y_train, y_test = Y[train_index], Y[test_index]\n",
    "    print(train_index, test_index)\n",
    "    #print(X_train,y_train)\n",
    "    #print(X_test,y_test)\n",
    "for train_index, test_index in kf.split(Y):\n",
    "    #X_train, X_test = X.iloc[train_index], X.iloc[test_index]\n",
    "    #y_train, y_test = Y[train_index], Y[test_index]\n",
    "    print(train_index, test_index)\n",
    "    #print(X_train,y_train)\n",
    "    #print(X_test,y_test)"
   ]
  },
  {
   "cell_type": "code",
   "execution_count": 112,
   "metadata": {},
   "outputs": [
    {
     "name": "stdout",
     "output_type": "stream",
     "text": [
      "(array([0, 1, 2, 3, 4, 5, 6, 7]), array([8, 9]))\n",
      "(array([0, 2, 4, 5, 6, 7, 8, 9]), array([1, 3]))\n",
      "(array([1, 2, 3, 4, 5, 6, 8, 9]), array([0, 7]))\n",
      "(array([0, 1, 3, 4, 6, 7, 8, 9]), array([2, 5]))\n",
      "(array([0, 1, 2, 3, 5, 7, 8, 9]), array([4, 6]))\n"
     ]
    },
    {
     "name": "stderr",
     "output_type": "stream",
     "text": [
      "C:\\Python3\\lib\\site-packages\\sklearn\\model_selection\\_split.py:667: UserWarning: The least populated class in y has only 4 members, which is less than n_splits=5.\n",
      "  % (min_groups, self.n_splits)), UserWarning)\n"
     ]
    }
   ],
   "source": [
    "X = t1.drop(['y'], axis = 1)\n",
    "Y = t1['y']\n",
    "skf = StratifiedKFold(n_splits=5, random_state=100, shuffle = True)\n",
    "skf.split(X, Y) \n",
    "for train_index in skf.split(X,Y):\n",
    "    #X_train, X_test = X.iloc[train_index], X.iloc[test_index]\n",
    "    #y_train, y_test = Y[train_index], Y[test_index]\n",
    "    print(train_index)\n",
    "    #print(X_train,y_train)\n",
    "    #print(X_test,y_test)"
   ]
  },
  {
   "cell_type": "code",
   "execution_count": 74,
   "metadata": {},
   "outputs": [
    {
     "name": "stdout",
     "output_type": "stream",
     "text": [
      "[    0     1     2 ... 41185 41186 41187] [    7     8    12 ... 41174 41178 41183]\n",
      "[    0     1     2 ... 41185 41186 41187] [   19    24    52 ... 41167 41169 41184]\n",
      "[    0     1     2 ... 41185 41186 41187] [   31    36    38 ... 41152 41156 41162]\n",
      "[    0     1     3 ... 41184 41185 41186] [    2     5     6 ... 41159 41164 41187]\n",
      "[    0     1     2 ... 41184 41186 41187] [    3     4    11 ... 41170 41180 41185]\n",
      "[    0     1     2 ... 41184 41185 41187] [   13    21    41 ... 41168 41173 41186]\n",
      "[    0     2     3 ... 41185 41186 41187] [    1    10    15 ... 41175 41177 41181]\n",
      "[    1     2     3 ... 41185 41186 41187] [    0    14    18 ... 41155 41172 41179]\n",
      "[    0     1     2 ... 41185 41186 41187] [   27    48    62 ... 41143 41144 41182]\n",
      "[    0     1     2 ... 41185 41186 41187] [    9    28    40 ... 41154 41171 41176]\n"
     ]
    }
   ],
   "source": [
    "\n",
    "clf = DecisionTreeClassifier(random_state=20)\n",
    "kf = KFold(n_splits=10, random_state=100, shuffle = True)\n",
    "kf.split(bank_final) \n",
    "for train_index, test_index in kf.split(bank_final):\n",
    "    print(train_index, test_index)"
   ]
  },
  {
   "cell_type": "code",
   "execution_count": 71,
   "metadata": {},
   "outputs": [
    {
     "name": "stdout",
     "output_type": "stream",
     "text": [
      "[88.49235251274581, 88.56518572469045, 88.6380189366351, 88.90507404709881, 88.56518572469045, 88.22529740228211, 89.00218499635834, 88.90507404709881, 89.53375424963575, 88.44099077221952]\n"
     ]
    }
   ],
   "source": [
    "clf = DecisionTreeClassifier(random_state=20)\n",
    "kf = KFold(n_splits=10, random_state=100, shuffle = True)\n",
    "kf.split(X,Y) \n",
    "# Initialize the accuracy of the models to blank list. The accuracy of each model will be appended to this list\n",
    "accuracy_model = []\n",
    "\n",
    "# Iterate over each train-test split\n",
    "for train_index, test_index in kf.split(X):\n",
    "    # Split train-test\n",
    "    X_train, X_test = X.iloc[train_index], X.iloc[test_index]\n",
    "    y_train, y_test = Y[train_index], Y[test_index]\n",
    "    # Train the model\n",
    "    model = clf.fit(X_train, y_train)\n",
    "    # Append to accuracy_model the accuracy of the model\n",
    "    accuracy_model.append(accuracy_score(y_test, model.predict(X_test), normalize=True)*100)\n",
    " \n",
    "# Print the accuracy    \n",
    "print(accuracy_model)\n"
   ]
  },
  {
   "cell_type": "code",
   "execution_count": 72,
   "metadata": {},
   "outputs": [
    {
     "name": "stdout",
     "output_type": "stream",
     "text": [
      "88.72731184134551\n",
      "0.37101220836588134\n"
     ]
    }
   ],
   "source": [
    "import statistics\n",
    "print(statistics.mean(accuracy_model))\n",
    "print(statistics.stdev(accuracy_model))"
   ]
  },
  {
   "cell_type": "markdown",
   "metadata": {},
   "source": [
    "__Decision tree: w/o any modification of missing data; stratified k fold__"
   ]
  },
  {
   "cell_type": "code",
   "execution_count": 40,
   "metadata": {},
   "outputs": [
    {
     "name": "stdout",
     "output_type": "stream",
     "text": [
      "Accuracy: 88.80%\n",
      "Accuracy: 0.89 (+/- 0.00)\n"
     ]
    },
    {
     "data": {
      "text/plain": [
       "array([0.8926924 , 0.88589463, 0.88759408, 0.88807963, 0.8873513 ,\n",
       "       0.89026463, 0.88565186, 0.88783685, 0.8863526 , 0.88878096])"
      ]
     },
     "execution_count": 40,
     "metadata": {},
     "output_type": "execute_result"
    }
   ],
   "source": [
    "from sklearn.model_selection import StratifiedKFold\n",
    "X = bank_final.drop(['y'], axis = 1)\n",
    "Y = bank_final['y']\n",
    "\n",
    "model = DecisionTreeClassifier(random_state=20)\n",
    "\n",
    "skfold = StratifiedKFold(n_splits=10, random_state=100, shuffle = True)\n",
    "results_kfold = model_selection.cross_val_score(model, X, Y, cv=skfold)\n",
    "print(\"Accuracy: %.2f%%\" % (results_kfold.mean()*100.0)) \n",
    "print(\"Accuracy: %0.2f (+/- %0.2f)\" % (results_kfold.mean(), results_kfold.std() * 2))\n",
    "results_kfold"
   ]
  },
  {
   "cell_type": "markdown",
   "metadata": {},
   "source": [
    "__Decision tree: deleting missing data__"
   ]
  },
  {
   "cell_type": "code",
   "execution_count": 2,
   "metadata": {},
   "outputs": [
    {
     "ename": "NameError",
     "evalue": "name 'pd' is not defined",
     "output_type": "error",
     "traceback": [
      "\u001b[1;31m---------------------------------------------------------------------------\u001b[0m",
      "\u001b[1;31mNameError\u001b[0m                                 Traceback (most recent call last)",
      "\u001b[1;32m<ipython-input-2-4ee41c4a3fb9>\u001b[0m in \u001b[0;36m<module>\u001b[1;34m\u001b[0m\n\u001b[1;32m----> 1\u001b[1;33m \u001b[0mdf\u001b[0m \u001b[1;33m=\u001b[0m \u001b[0mpd\u001b[0m\u001b[1;33m.\u001b[0m\u001b[0mread_csv\u001b[0m\u001b[1;33m(\u001b[0m\u001b[1;34m'bank-data/bank-additional-full.csv'\u001b[0m\u001b[1;33m)\u001b[0m\u001b[1;33m\u001b[0m\u001b[1;33m\u001b[0m\u001b[0m\n\u001b[0m\u001b[0;32m      2\u001b[0m \u001b[0mprint\u001b[0m\u001b[1;33m(\u001b[0m\u001b[0mdf\u001b[0m\u001b[1;33m.\u001b[0m\u001b[0mshape\u001b[0m\u001b[1;33m)\u001b[0m\u001b[1;33m\u001b[0m\u001b[1;33m\u001b[0m\u001b[0m\n\u001b[0;32m      3\u001b[0m \u001b[0mprint\u001b[0m\u001b[1;33m(\u001b[0m\u001b[0mdf\u001b[0m\u001b[1;33m.\u001b[0m\u001b[0mcolumns\u001b[0m\u001b[1;33m)\u001b[0m\u001b[1;33m\u001b[0m\u001b[1;33m\u001b[0m\u001b[0m\n\u001b[0;32m      4\u001b[0m print((df[['age', 'job', 'marital', 'education', 'default', 'housing', 'loan',\n\u001b[0;32m      5\u001b[0m        \u001b[1;34m'contact'\u001b[0m\u001b[1;33m,\u001b[0m \u001b[1;34m'month'\u001b[0m\u001b[1;33m,\u001b[0m \u001b[1;34m'day_of_week'\u001b[0m\u001b[1;33m,\u001b[0m \u001b[1;34m'duration'\u001b[0m\u001b[1;33m,\u001b[0m \u001b[1;34m'campaign'\u001b[0m\u001b[1;33m,\u001b[0m \u001b[1;34m'pdays'\u001b[0m\u001b[1;33m,\u001b[0m\u001b[1;33m\u001b[0m\u001b[1;33m\u001b[0m\u001b[0m\n",
      "\u001b[1;31mNameError\u001b[0m: name 'pd' is not defined"
     ]
    }
   ],
   "source": [
    "df = pd.read_csv('bank-data/bank-additional-full.csv')\n",
    "print(df.shape)\n",
    "print(df.columns)\n",
    "print((df[['age', 'job', 'marital', 'education', 'default', 'housing', 'loan',\n",
    "       'contact', 'month', 'day_of_week', 'duration', 'campaign', 'pdays',\n",
    "       'previous', 'poutcome', 'emp.var.rate', 'cons.price.idx',\n",
    "       'cons.conf.idx', 'euribor3m', 'nr.employed', 'y']] == 'unknown').sum())\n",
    "\n",
    "df[['age', 'job', 'marital', 'education', 'default', 'housing', 'loan',\n",
    "       'contact', 'month', 'day_of_week', 'duration', 'campaign', 'pdays',\n",
    "       'previous', 'poutcome', 'emp.var.rate', 'cons.price.idx',\n",
    "       'cons.conf.idx', 'euribor3m', 'nr.employed', 'y']] = df[['age', 'job', 'marital', 'education', 'default', 'housing', 'loan',\n",
    "       'contact', 'month', 'day_of_week', 'duration', 'campaign', 'pdays',\n",
    "       'previous', 'poutcome', 'emp.var.rate', 'cons.price.idx',\n",
    "       'cons.conf.idx', 'euribor3m', 'nr.employed', 'y']].replace('unknown', np.NaN)\n",
    "print(df.isnull().sum())\n",
    "\n",
    "df.dropna(inplace=True)\n",
    "# summarize the number of rows and columns in the dataset\n",
    "print(df.shape)"
   ]
  },
  {
   "cell_type": "code",
   "execution_count": 1,
   "metadata": {},
   "outputs": [
    {
     "ename": "NameError",
     "evalue": "name 'df' is not defined",
     "output_type": "error",
     "traceback": [
      "\u001b[1;31m---------------------------------------------------------------------------\u001b[0m",
      "\u001b[1;31mNameError\u001b[0m                                 Traceback (most recent call last)",
      "\u001b[1;32m<ipython-input-1-e2ccdf001055>\u001b[0m in \u001b[0;36m<module>\u001b[1;34m\u001b[0m\n\u001b[1;32m----> 1\u001b[1;33m \u001b[0mbank_object_data\u001b[0m \u001b[1;33m=\u001b[0m \u001b[0mdf\u001b[0m\u001b[1;33m.\u001b[0m\u001b[0mselect_dtypes\u001b[0m\u001b[1;33m(\u001b[0m\u001b[0minclude\u001b[0m\u001b[1;33m=\u001b[0m\u001b[1;34m\"object\"\u001b[0m\u001b[1;33m)\u001b[0m\u001b[1;33m\u001b[0m\u001b[1;33m\u001b[0m\u001b[0m\n\u001b[0m\u001b[0;32m      2\u001b[0m \u001b[0mprint\u001b[0m\u001b[1;33m(\u001b[0m\u001b[0mbank_object_data\u001b[0m\u001b[1;33m.\u001b[0m\u001b[0minfo\u001b[0m\u001b[1;33m(\u001b[0m\u001b[1;33m)\u001b[0m\u001b[1;33m)\u001b[0m\u001b[1;33m\u001b[0m\u001b[1;33m\u001b[0m\u001b[0m\n\u001b[0;32m      3\u001b[0m \u001b[1;33m\u001b[0m\u001b[0m\n\u001b[0;32m      4\u001b[0m \u001b[0mbank_non_object_data\u001b[0m \u001b[1;33m=\u001b[0m \u001b[0mdf\u001b[0m\u001b[1;33m.\u001b[0m\u001b[0mselect_dtypes\u001b[0m\u001b[1;33m(\u001b[0m\u001b[0mexclude\u001b[0m\u001b[1;33m=\u001b[0m\u001b[1;34m\"object\"\u001b[0m\u001b[1;33m)\u001b[0m\u001b[1;33m\u001b[0m\u001b[1;33m\u001b[0m\u001b[0m\n\u001b[0;32m      5\u001b[0m \u001b[0mprint\u001b[0m\u001b[1;33m(\u001b[0m\u001b[0mbank_non_object_data\u001b[0m\u001b[1;33m.\u001b[0m\u001b[0minfo\u001b[0m\u001b[1;33m(\u001b[0m\u001b[1;33m)\u001b[0m\u001b[1;33m)\u001b[0m\u001b[1;33m\u001b[0m\u001b[1;33m\u001b[0m\u001b[0m\n",
      "\u001b[1;31mNameError\u001b[0m: name 'df' is not defined"
     ]
    }
   ],
   "source": [
    "bank_object_data = df.select_dtypes(include=\"object\")\n",
    "print(bank_object_data.info())\n",
    "\n",
    "bank_non_object_data = df.select_dtypes(exclude=\"object\")\n",
    "print(bank_non_object_data.info())\n",
    "\n",
    "label = LabelEncoder()\n",
    "bank_object_data = bank_object_data.apply(label.fit_transform)\n",
    "\n",
    "print(bank_object_data.head())\n",
    "\n",
    "bank_final = pd.concat([bank_object_data, bank_non_object_data], axis = 1)\n",
    "\n",
    "print(bank_final.head())"
   ]
  },
  {
   "cell_type": "code",
   "execution_count": 50,
   "metadata": {},
   "outputs": [
    {
     "name": "stdout",
     "output_type": "stream",
     "text": [
      "Accuracy: 87.84%\n",
      "Accuracy: 0.88 (+/- 0.01)\n"
     ]
    },
    {
     "data": {
      "text/plain": [
       "array([0.89078386, 0.87569695, 0.87602493, 0.8806166 , 0.87700886,\n",
       "       0.88291243, 0.87536897, 0.8806166 , 0.87467192, 0.87040682])"
      ]
     },
     "execution_count": 50,
     "metadata": {},
     "output_type": "execute_result"
    }
   ],
   "source": [
    "X = bank_final.drop(['y'], axis = 1)\n",
    "Y = bank_final['y']\n",
    "\n",
    "model = DecisionTreeClassifier(random_state=20)\n",
    "\n",
    "kfold = KFold(n_splits=10, random_state=100, shuffle = True)\n",
    "results_kfold = model_selection.cross_val_score(model, X, Y, cv=kfold)\n",
    "print(\"Accuracy: %.2f%%\" % (results_kfold.mean()*100.0)) \n",
    "print(\"Accuracy: %0.2f (+/- %0.2f)\" % (results_kfold.mean(), results_kfold.std() * 2))\n",
    "results_kfold"
   ]
  },
  {
   "cell_type": "markdown",
   "metadata": {},
   "source": [
    "__Decision Tree: deleting missing data; stratified k fold__"
   ]
  },
  {
   "cell_type": "code",
   "execution_count": 51,
   "metadata": {},
   "outputs": [
    {
     "name": "stdout",
     "output_type": "stream",
     "text": [
      "Accuracy: 87.83%\n",
      "Accuracy: 0.88 (+/- 0.01)\n"
     ]
    },
    {
     "data": {
      "text/plain": [
       "array([0.8806166 , 0.87963267, 0.88094457, 0.87602493, 0.87012135,\n",
       "       0.87668088, 0.88717612, 0.87602493, 0.87828084, 0.87729659])"
      ]
     },
     "execution_count": 51,
     "metadata": {},
     "output_type": "execute_result"
    }
   ],
   "source": [
    "from sklearn.model_selection import StratifiedKFold\n",
    "X = bank_final.drop(['y'], axis = 1)\n",
    "Y = bank_final['y']\n",
    "\n",
    "model = DecisionTreeClassifier(random_state=20)\n",
    "\n",
    "skfold = StratifiedKFold(n_splits=10, random_state=100, shuffle = True)\n",
    "results_kfold = model_selection.cross_val_score(model, X, Y, cv=skfold)\n",
    "print(\"Accuracy: %.2f%%\" % (results_kfold.mean()*100.0)) \n",
    "print(\"Accuracy: %0.2f (+/- %0.2f)\" % (results_kfold.mean(), results_kfold.std() * 2))\n",
    "results_kfold"
   ]
  },
  {
   "cell_type": "markdown",
   "metadata": {},
   "source": [
    "__Decision Tree: with imputation__"
   ]
  },
  {
   "cell_type": "code",
   "execution_count": 2,
   "metadata": {},
   "outputs": [
    {
     "name": "stdout",
     "output_type": "stream",
     "text": [
      "(41188, 21)\n",
      "Index(['age', 'job', 'marital', 'education', 'default', 'housing', 'loan',\n",
      "       'contact', 'month', 'day_of_week', 'duration', 'campaign', 'pdays',\n",
      "       'previous', 'poutcome', 'emp.var.rate', 'cons.price.idx',\n",
      "       'cons.conf.idx', 'euribor3m', 'nr.employed', 'y'],\n",
      "      dtype='object')\n"
     ]
    },
    {
     "name": "stderr",
     "output_type": "stream",
     "text": [
      "C:\\Python3\\lib\\site-packages\\pandas\\core\\ops\\__init__.py:1115: FutureWarning: elementwise comparison failed; returning scalar instead, but in the future will perform elementwise comparison\n",
      "  result = method(y)\n"
     ]
    },
    {
     "name": "stdout",
     "output_type": "stream",
     "text": [
      "age                  0\n",
      "job                330\n",
      "marital             80\n",
      "education         1731\n",
      "default           8597\n",
      "housing            990\n",
      "loan               990\n",
      "contact              0\n",
      "month                0\n",
      "day_of_week          0\n",
      "duration             0\n",
      "campaign             0\n",
      "pdays                0\n",
      "previous             0\n",
      "poutcome             0\n",
      "emp.var.rate         0\n",
      "cons.price.idx       0\n",
      "cons.conf.idx        0\n",
      "euribor3m            0\n",
      "nr.employed          0\n",
      "y                    0\n",
      "dtype: int64\n",
      "age                  0\n",
      "job                330\n",
      "marital             80\n",
      "education         1731\n",
      "default           8597\n",
      "housing            990\n",
      "loan               990\n",
      "contact              0\n",
      "month                0\n",
      "day_of_week          0\n",
      "duration             0\n",
      "campaign             0\n",
      "pdays                0\n",
      "previous             0\n",
      "poutcome             0\n",
      "emp.var.rate         0\n",
      "cons.price.idx       0\n",
      "cons.conf.idx        0\n",
      "euribor3m            0\n",
      "nr.employed          0\n",
      "y                    0\n",
      "dtype: int64\n"
     ]
    }
   ],
   "source": [
    "from sklearn.impute import SimpleImputer \n",
    "imputer = SimpleImputer(missing_values=np.nan, strategy='mean')\n",
    "\n",
    "df = pd.read_csv('bank-data/bank-additional-full.csv')\n",
    "print(df.shape)\n",
    "print(df.columns)\n",
    "print((df[['age', 'job', 'marital', 'education', 'default', 'housing', 'loan',\n",
    "       'contact', 'month', 'day_of_week', 'duration', 'campaign', 'pdays',\n",
    "       'previous', 'poutcome', 'emp.var.rate', 'cons.price.idx',\n",
    "       'cons.conf.idx', 'euribor3m', 'nr.employed', 'y']] == 'unknown').sum())\n",
    "\n",
    "df[['age', 'job', 'marital', 'education', 'default', 'housing', 'loan',\n",
    "       'contact', 'month', 'day_of_week', 'duration', 'campaign', 'pdays',\n",
    "       'previous', 'poutcome', 'emp.var.rate', 'cons.price.idx',\n",
    "       'cons.conf.idx', 'euribor3m', 'nr.employed', 'y']] = df[['age', 'job', 'marital', 'education', 'default', 'housing', 'loan',\n",
    "       'contact', 'month', 'day_of_week', 'duration', 'campaign', 'pdays',\n",
    "       'previous', 'poutcome', 'emp.var.rate', 'cons.price.idx',\n",
    "       'cons.conf.idx', 'euribor3m', 'nr.employed', 'y']].replace('unknown', np.NaN)\n",
    "print(df.isnull().sum())"
   ]
  },
  {
   "cell_type": "code",
   "execution_count": 3,
   "metadata": {},
   "outputs": [
    {
     "name": "stdout",
     "output_type": "stream",
     "text": [
      "<class 'pandas.core.frame.DataFrame'>\n",
      "RangeIndex: 41188 entries, 0 to 41187\n",
      "Data columns (total 11 columns):\n",
      "job            40858 non-null object\n",
      "marital        41108 non-null object\n",
      "education      39457 non-null object\n",
      "default        32591 non-null object\n",
      "housing        40198 non-null object\n",
      "loan           40198 non-null object\n",
      "contact        41188 non-null object\n",
      "month          41188 non-null object\n",
      "day_of_week    41188 non-null object\n",
      "poutcome       41188 non-null object\n",
      "y              41188 non-null object\n",
      "dtypes: object(11)\n",
      "memory usage: 3.5+ MB\n",
      "None\n",
      "<class 'pandas.core.frame.DataFrame'>\n",
      "RangeIndex: 41188 entries, 0 to 41187\n",
      "Data columns (total 10 columns):\n",
      "age               41188 non-null int64\n",
      "duration          41188 non-null int64\n",
      "campaign          41188 non-null int64\n",
      "pdays             41188 non-null int64\n",
      "previous          41188 non-null int64\n",
      "emp.var.rate      41188 non-null float64\n",
      "cons.price.idx    41188 non-null float64\n",
      "cons.conf.idx     41188 non-null float64\n",
      "euribor3m         41188 non-null float64\n",
      "nr.employed       41188 non-null float64\n",
      "dtypes: float64(5), int64(5)\n",
      "memory usage: 3.1 MB\n",
      "None\n",
      "0\n",
      "0\n"
     ]
    }
   ],
   "source": [
    "bank_object_data = df.select_dtypes(include=\"object\")\n",
    "print(bank_object_data.info())\n",
    "\n",
    "bank_non_object_data = df.select_dtypes(exclude=\"object\")\n",
    "print(bank_non_object_data.info())\n",
    "\n",
    "values = bank_non_object_data.values\n",
    "#imputer = Imputer()\n",
    "transformed_values = imputer.fit_transform(values)\n",
    "# count the number of NaN values in each column\n",
    "print(np.isnan(transformed_values).sum())\n",
    "print(np.isnan(bank_non_object_data.values).sum())"
   ]
  },
  {
   "cell_type": "code",
   "execution_count": 4,
   "metadata": {},
   "outputs": [],
   "source": [
    "from sklearn.base import TransformerMixin\n",
    "\n",
    "class DataFrameImputer(TransformerMixin):\n",
    "\n",
    "    def __init__(self):\n",
    "        \"\"\"Impute missing values.\n",
    "\n",
    "        Columns of dtype object are imputed with the most frequent value \n",
    "        in column.\n",
    "\n",
    "        Columns of other types are imputed with mean of column.\n",
    "\n",
    "        \"\"\"\n",
    "    def fit(self, X, y=None):\n",
    "\n",
    "        self.fill = pd.Series([X[c].value_counts().index[0]\n",
    "            if X[c].dtype == np.dtype('O') else X[c].mean() for c in X],\n",
    "            index=X.columns)\n",
    "\n",
    "        return self\n",
    "\n",
    "    def transform(self, X, y=None):\n",
    "        return X.fillna(self.fill)\n",
    "\n",
    "\n",
    "bank_object_data = DataFrameImputer().fit_transform(bank_object_data)"
   ]
  },
  {
   "cell_type": "code",
   "execution_count": 5,
   "metadata": {},
   "outputs": [
    {
     "name": "stdout",
     "output_type": "stream",
     "text": [
      "   job  marital  education  default  housing  loan  contact  month  \\\n",
      "0    3        1          0        0        0     0        1      6   \n",
      "1    7        1          3        0        0     0        1      6   \n",
      "2    7        1          3        0        1     0        1      6   \n",
      "3    0        1          1        0        0     0        1      6   \n",
      "4    7        1          3        0        0     1        1      6   \n",
      "\n",
      "   day_of_week  poutcome  y  \n",
      "0            1         1  0  \n",
      "1            1         1  0  \n",
      "2            1         1  0  \n",
      "3            1         1  0  \n",
      "4            1         1  0  \n",
      "   job  marital  education  default  housing  loan  contact  month  \\\n",
      "0    3        1          0        0        0     0        1      6   \n",
      "1    7        1          3        0        0     0        1      6   \n",
      "2    7        1          3        0        1     0        1      6   \n",
      "3    0        1          1        0        0     0        1      6   \n",
      "4    7        1          3        0        0     1        1      6   \n",
      "\n",
      "   day_of_week  poutcome  ...  age  duration  campaign  pdays  previous  \\\n",
      "0            1         1  ...   56       261         1    999         0   \n",
      "1            1         1  ...   57       149         1    999         0   \n",
      "2            1         1  ...   37       226         1    999         0   \n",
      "3            1         1  ...   40       151         1    999         0   \n",
      "4            1         1  ...   56       307         1    999         0   \n",
      "\n",
      "   emp.var.rate  cons.price.idx  cons.conf.idx  euribor3m  nr.employed  \n",
      "0           1.1          93.994          -36.4      4.857       5191.0  \n",
      "1           1.1          93.994          -36.4      4.857       5191.0  \n",
      "2           1.1          93.994          -36.4      4.857       5191.0  \n",
      "3           1.1          93.994          -36.4      4.857       5191.0  \n",
      "4           1.1          93.994          -36.4      4.857       5191.0  \n",
      "\n",
      "[5 rows x 21 columns]\n"
     ]
    }
   ],
   "source": [
    "label = LabelEncoder()\n",
    "bank_object_data = bank_object_data.apply(label.fit_transform)\n",
    "\n",
    "print(bank_object_data.head())\n",
    "\n",
    "bank_final = pd.concat([bank_object_data, bank_non_object_data], axis = 1)\n",
    "\n",
    "print(bank_final.head())"
   ]
  },
  {
   "cell_type": "markdown",
   "metadata": {},
   "source": [
    "__Decision Tree: with imputation; k fold__"
   ]
  },
  {
   "cell_type": "code",
   "execution_count": 21,
   "metadata": {},
   "outputs": [
    {
     "name": "stdout",
     "output_type": "stream",
     "text": [
      "Accuracy: 88.87%\n",
      "Accuracy: 0.89 (+/- 0.01)\n"
     ]
    },
    {
     "data": {
      "text/plain": [
       "array([0.88662297, 0.88832241, 0.88662297, 0.89099296, 0.88759408,\n",
       "       0.88346686, 0.89414907, 0.8895363 , 0.89290918, 0.88659543])"
      ]
     },
     "execution_count": 21,
     "metadata": {},
     "output_type": "execute_result"
    }
   ],
   "source": [
    "X = bank_final.drop(['y'], axis = 1)\n",
    "Y = bank_final['y']\n",
    "\n",
    "model = DecisionTreeClassifier(random_state=20)\n",
    "\n",
    "kfold = KFold(n_splits=10, random_state=100, shuffle = True)\n",
    "results_kfold = model_selection.cross_val_score(model, X, Y, cv=kfold)\n",
    "print(\"Accuracy: %.2f%%\" % (results_kfold.mean()*100.0)) \n",
    "print(\"Accuracy: %0.2f (+/- %0.2f)\" % (results_kfold.mean(), results_kfold.std() * 2))\n",
    "results_kfold"
   ]
  },
  {
   "cell_type": "markdown",
   "metadata": {},
   "source": [
    "__Decision Tree: with imputation; stratified k fold__"
   ]
  },
  {
   "cell_type": "code",
   "execution_count": 62,
   "metadata": {},
   "outputs": [
    {
     "name": "stdout",
     "output_type": "stream",
     "text": [
      "Accuracy: 88.82%\n",
      "Accuracy: 0.89 (+/- 0.00)\n"
     ]
    },
    {
     "data": {
      "text/plain": [
       "array([0.88468075, 0.89172129, 0.88783685, 0.88905074, 0.89099296,\n",
       "       0.88710852, 0.88419519, 0.89075018, 0.88829529, 0.88756678])"
      ]
     },
     "execution_count": 62,
     "metadata": {},
     "output_type": "execute_result"
    }
   ],
   "source": [
    "from sklearn.model_selection import StratifiedKFold\n",
    "X = bank_final.drop(['y'], axis = 1)\n",
    "Y = bank_final['y']\n",
    "\n",
    "model = DecisionTreeClassifier(random_state=20)\n",
    "\n",
    "skfold = StratifiedKFold(n_splits=10, random_state=100, shuffle = True)\n",
    "results_kfold = model_selection.cross_val_score(model, X, Y, cv=skfold)\n",
    "print(\"Accuracy: %.2f%%\" % (results_kfold.mean()*100.0)) \n",
    "print(\"Accuracy: %0.2f (+/- %0.2f)\" % (results_kfold.mean(), results_kfold.std() * 2))\n",
    "results_kfold"
   ]
  }
 ],
 "metadata": {
  "kernelspec": {
   "display_name": "Python 3",
   "language": "python",
   "name": "python3"
  },
  "language_info": {
   "codemirror_mode": {
    "name": "ipython",
    "version": 3
   },
   "file_extension": ".py",
   "mimetype": "text/x-python",
   "name": "python",
   "nbconvert_exporter": "python",
   "pygments_lexer": "ipython3",
   "version": "3.7.4"
  }
 },
 "nbformat": 4,
 "nbformat_minor": 2
}
