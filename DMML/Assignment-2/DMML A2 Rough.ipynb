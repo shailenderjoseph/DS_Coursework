{
 "cells": [
  {
   "cell_type": "code",
   "execution_count": 1,
   "metadata": {},
   "outputs": [],
   "source": [
    "import pandas as pd\n",
    "import numpy as np\n",
    "import math"
   ]
  },
  {
   "cell_type": "code",
   "execution_count": null,
   "metadata": {},
   "outputs": [],
   "source": [
    "df.columns\n",
    "print(len(df))"
   ]
  },
  {
   "cell_type": "code",
   "execution_count": null,
   "metadata": {},
   "outputs": [],
   "source": [
    "# scikit-learn k-fold cross-validation\n",
    "#from numpy import array\n",
    "from sklearn.model_selection import KFold\n",
    "kf = KFold(n_splits = 5, shuffle = True, random_state = 2)\n",
    "result = next(kf.split(df), None)\n",
    "print (result)\n",
    "train = df.iloc[result[0]]\n",
    "test =  df.iloc[result[1]]\n",
    "\n",
    "print (train)\n",
    "#print (test)"
   ]
  },
  {
   "cell_type": "code",
   "execution_count": null,
   "metadata": {},
   "outputs": [],
   "source": [
    "from sklearn.datasets import load_iris\n",
    "from sklearn.tree import DecisionTreeClassifier\n",
    "iris = load_iris()\n",
    "X = iris.data[:, 2:] # petal length and width\n",
    "y = iris.target\n",
    "tree_clf = DecisionTreeClassifier(max_depth=2)\n",
    "tree_clf.fit(X, y)"
   ]
  },
  {
   "cell_type": "code",
   "execution_count": null,
   "metadata": {},
   "outputs": [],
   "source": [
    "type(df)"
   ]
  },
  {
   "cell_type": "code",
   "execution_count": null,
   "metadata": {},
   "outputs": [],
   "source": [
    "from sklearn.tree import export_graphviz\n",
    "export_graphviz(\n",
    "tree_clf,\n",
    "out_file=(\"iris_tree.dot\"),\n",
    "feature_names=iris.feature_names[2:],\n",
    "class_names=iris.target_names,\n",
    "rounded=True,\n",
    "filled=True\n",
    ")"
   ]
  },
  {
   "cell_type": "code",
   "execution_count": null,
   "metadata": {},
   "outputs": [],
   "source": [
    "dot -Tpng iris_tree.dot -o iris_tree.png"
   ]
  },
  {
   "cell_type": "code",
   "execution_count": null,
   "metadata": {},
   "outputs": [],
   "source": [
    "from sklearn.tree import DecisionTreeRegressor\n",
    "tree_reg = DecisionTreeRegressor(max_depth=2)\n",
    "tree_reg.fit(X, y)"
   ]
  },
  {
   "cell_type": "code",
   "execution_count": null,
   "metadata": {},
   "outputs": [],
   "source": [
    ">>> from sklearn.datasets import load_iris\n",
    ">>> from sklearn import tree\n",
    ">>> X, y = load_iris(return_X_y=True)\n",
    ">>> clf = tree.DecisionTreeClassifier()\n",
    ">>> clf = clf.fit(X, y)"
   ]
  },
  {
   "cell_type": "code",
   "execution_count": null,
   "metadata": {},
   "outputs": [],
   "source": [
    ">>> tree.plot_tree(clf.fit(iris.data, iris.target)) "
   ]
  },
  {
   "cell_type": "code",
   "execution_count": null,
   "metadata": {},
   "outputs": [],
   "source": [
    "import graphviz \n",
    ">>> dot_data = tree.export_graphviz(clf, out_file=None) \n",
    ">>> graph = graphviz.Source(dot_data) \n",
    ">>> graph.render(\"iris\") "
   ]
  },
  {
   "cell_type": "code",
   "execution_count": null,
   "metadata": {},
   "outputs": [],
   "source": [
    "# Split dataset into training set and test set\n",
    "X_train, X_test, y_train, y_test = train_test_split(X, y, test_size=0.3, random_state=1) # 70% training and 30% test\n"
   ]
  },
  {
   "cell_type": "code",
   "execution_count": null,
   "metadata": {},
   "outputs": [],
   "source": [
    "# Create Decision Tree classifer object\n",
    "clf = DecisionTreeClassifier()\n",
    "\n",
    "# Train Decision Tree Classifer\n",
    "clf = clf.fit(X_train,y_train)"
   ]
  },
  {
   "cell_type": "code",
   "execution_count": null,
   "metadata": {},
   "outputs": [],
   "source": [
    "df.info()"
   ]
  },
  {
   "cell_type": "code",
   "execution_count": null,
   "metadata": {},
   "outputs": [],
   "source": [
    "df.shape"
   ]
  },
  {
   "cell_type": "code",
   "execution_count": null,
   "metadata": {},
   "outputs": [],
   "source": [
    "df.isnull().sum().plot()"
   ]
  },
  {
   "cell_type": "code",
   "execution_count": null,
   "metadata": {},
   "outputs": [],
   "source": [
    "df.describe()"
   ]
  },
  {
   "cell_type": "code",
   "execution_count": null,
   "metadata": {},
   "outputs": [],
   "source": [
    "df['job'].value_counts()"
   ]
  },
  {
   "cell_type": "code",
   "execution_count": null,
   "metadata": {},
   "outputs": [],
   "source": [
    "for iterate in df:\n",
    "    print(\"#####\",iterate,\"#####\")\n",
    "    print(df[iterate].value_counts())"
   ]
  },
  {
   "cell_type": "code",
   "execution_count": null,
   "metadata": {},
   "outputs": [],
   "source": [
    "df.job.value_counts().plot(kind='bar', figsize=(8,10))\n",
    "plt.show()"
   ]
  },
  {
   "cell_type": "code",
   "execution_count": null,
   "metadata": {},
   "outputs": [],
   "source": [
    "bank_final.iloc[:, 0:15].describe()"
   ]
  },
  {
   "cell_type": "code",
   "execution_count": null,
   "metadata": {},
   "outputs": [],
   "source": [
    "bank_final.iloc[:, 14:].describe()"
   ]
  },
  {
   "cell_type": "code",
   "execution_count": null,
   "metadata": {},
   "outputs": [],
   "source": [
    "sns.distplot(bank_final['age'].dropna(),bins=30)"
   ]
  },
  {
   "cell_type": "code",
   "execution_count": null,
   "metadata": {},
   "outputs": [],
   "source": [
    "plt.boxplot(bank_final['duration'])"
   ]
  },
  {
   "cell_type": "code",
   "execution_count": null,
   "metadata": {},
   "outputs": [],
   "source": [
    "bank_final['duration'] = pow(bank_final['duration'],1/3)   # Cube root\n",
    "bank_final['duration'].max()"
   ]
  },
  {
   "cell_type": "code",
   "execution_count": null,
   "metadata": {},
   "outputs": [],
   "source": [
    "plt.boxplot(bank_final['duration'])"
   ]
  },
  {
   "cell_type": "code",
   "execution_count": null,
   "metadata": {},
   "outputs": [],
   "source": []
  },
  {
   "cell_type": "code",
   "execution_count": null,
   "metadata": {},
   "outputs": [],
   "source": []
  },
  {
   "cell_type": "code",
   "execution_count": null,
   "metadata": {},
   "outputs": [],
   "source": []
  },
  {
   "cell_type": "code",
   "execution_count": null,
   "metadata": {},
   "outputs": [],
   "source": [
    "from IPython.display import Image\n",
    "import pandas as pd\n",
    "import numpy as np\n",
    "import seaborn as sns\n",
    "import matplotlib.pyplot as plt\n",
    "from sklearn.model_selection import train_test_split\n",
    "from sklearn.preprocessing import LabelEncoder, MinMaxScaler\n",
    "from sklearn.metrics import accuracy_score, confusion_matrix, classification_report, precision_score, f1_score, recall_score\n",
    "from sklearn.model_selection import StratifiedShuffleSplit\n",
    "from sklearn.model_selection import StratifiedKFold\n",
    "from sklearn.feature_selection import RFECV\n",
    "from sklearn.feature_selection import RFE\n",
    "from sklearn.ensemble import BaggingClassifier"
   ]
  },
  {
   "cell_type": "code",
   "execution_count": null,
   "metadata": {},
   "outputs": [],
   "source": [
    "from sklearn.feature_selection import chi2\n",
    "from scipy import stats  # Anova\n",
    "from scipy.stats import pearsonr\n",
    "from scipy.stats import spearmanr\n",
    "from scipy.stats import pointbiserialr"
   ]
  },
  {
   "cell_type": "code",
   "execution_count": null,
   "metadata": {},
   "outputs": [],
   "source": [
    "from sklearn.naive_bayes import GaussianNB\n",
    "from sklearn.neighbors import KNeighborsClassifier\n",
    "from sklearn.linear_model import LogisticRegression\n",
    "from sklearn.tree import DecisionTreeClassifier\n",
    "from sklearn.ensemble import RandomForestClassifier, AdaBoostClassifier, GradientBoostingClassifier, VotingClassifier\n",
    "#from xgboost import XGBClassifier\n",
    "from sklearn.svm import SVC\n",
    "from sklearn.linear_model import Lasso"
   ]
  },
  {
   "cell_type": "code",
   "execution_count": null,
   "metadata": {},
   "outputs": [],
   "source": [
    "# Load libraries\n",
    "import pandas as pd\n",
    "from sklearn.tree import DecisionTreeClassifier # Import Decision Tree Classifier\n",
    "from sklearn.model_selection import train_test_split # Import train_test_split function\n",
    "from sklearn import metrics #Import scikit-learn metrics module for accuracy calculation"
   ]
  },
  {
   "cell_type": "code",
   "execution_count": null,
   "metadata": {},
   "outputs": [],
   "source": [
    "feature_cols = []\n",
    "for i in df.columns:\n",
    "    if i != 'y':\n",
    "        feature_cols.append(i)\n",
    "print(feature_cols)"
   ]
  },
  {
   "cell_type": "code",
   "execution_count": null,
   "metadata": {},
   "outputs": [],
   "source": [
    "X = df[feature_cols] # Features\n",
    "y = df.y # Target variable\n",
    "print(y)"
   ]
  },
  {
   "cell_type": "code",
   "execution_count": null,
   "metadata": {},
   "outputs": [],
   "source": [
    "print(y_train)"
   ]
  },
  {
   "cell_type": "code",
   "execution_count": null,
   "metadata": {},
   "outputs": [],
   "source": [
    "yp = []\n",
    "\n",
    "\n",
    "for i in range(0,len(ypredictDecisionTree)):\n",
    "    if ypredictDecisionTree[i] == 0:\n",
    "        yp.append('no')\n",
    "    else: \n",
    "        yp.append('yes')\n",
    "\n",
    "len(yp)\n",
    "len(ypredictDecisionTree)"
   ]
  },
  {
   "cell_type": "code",
   "execution_count": null,
   "metadata": {},
   "outputs": [],
   "source": []
  },
  {
   "cell_type": "markdown",
   "metadata": {},
   "source": [
    "__Decision Tree__"
   ]
  },
  {
   "cell_type": "code",
   "execution_count": null,
   "metadata": {},
   "outputs": [],
   "source": [
    "import pandas as pd\n",
    "import numpy as np\n",
    "from sklearn.model_selection import train_test_split\n",
    "from sklearn.preprocessing import LabelEncoder\n",
    "from sklearn.tree import DecisionTreeClassifier\n",
    "from sklearn.metrics import accuracy_score\n",
    "from sklearn import model_selection\n",
    "from sklearn.model_selection import KFold"
   ]
  },
  {
   "cell_type": "markdown",
   "metadata": {},
   "source": [
    "__Decision tree: w/o any modification of missing data__"
   ]
  },
  {
   "cell_type": "code",
   "execution_count": null,
   "metadata": {},
   "outputs": [],
   "source": [
    "df = pd.read_csv('bank-data/bank-additional-full.csv')\n",
    "bank_object_data = df.select_dtypes(include=\"object\")\n",
    "bank_object_data.info()\n",
    "\n",
    "bank_non_object_data = df.select_dtypes(exclude=\"object\")\n",
    "print(bank_non_object_data.info())\n",
    "\n",
    "label = LabelEncoder()\n",
    "bank_object_data = bank_object_data.apply(label.fit_transform)\n",
    "\n",
    "print(bank_object_data.head())\n",
    "\n",
    "bank_final = pd.concat([bank_object_data, bank_non_object_data], axis = 1)\n",
    "print(bank_final.head())"
   ]
  },
  {
   "cell_type": "code",
   "execution_count": null,
   "metadata": {},
   "outputs": [],
   "source": [
    "X = bank_final.drop(['y'], axis = 1)\n",
    "Y = bank_final['y']\n",
    "\n",
    "model = DecisionTreeClassifier()\n",
    "\n",
    "kfold = KFold(n_splits=10, random_state=100, shuffle = True)\n",
    "results_kfold = model_selection.cross_val_score(model, X, Y, cv=kfold)\n",
    "print(\"Accuracy: %.2f%%\" % (results_kfold.mean()*100.0))\n",
    "print(\"Accuracy: %0.2f (+/- %0.2f)\" % (results_kfold.mean(), results_kfold.std() * 2))"
   ]
  },
  {
   "cell_type": "markdown",
   "metadata": {},
   "source": [
    "__Decision tree: deleting missing data__"
   ]
  },
  {
   "cell_type": "code",
   "execution_count": null,
   "metadata": {},
   "outputs": [],
   "source": [
    "df = pd.read_csv('bank-data/bank-additional-full.csv')\n",
    "print(df.shape)\n",
    "print(df.columns)\n",
    "print((df[['age', 'job', 'marital', 'education', 'default', 'housing', 'loan',\n",
    "       'contact', 'month', 'day_of_week', 'duration', 'campaign', 'pdays',\n",
    "       'previous', 'poutcome', 'emp.var.rate', 'cons.price.idx',\n",
    "       'cons.conf.idx', 'euribor3m', 'nr.employed', 'y']] == 'unknown').sum())\n",
    "\n",
    "df[['age', 'job', 'marital', 'education', 'default', 'housing', 'loan',\n",
    "       'contact', 'month', 'day_of_week', 'duration', 'campaign', 'pdays',\n",
    "       'previous', 'poutcome', 'emp.var.rate', 'cons.price.idx',\n",
    "       'cons.conf.idx', 'euribor3m', 'nr.employed', 'y']] = df[['age', 'job', 'marital', 'education', 'default', 'housing', 'loan',\n",
    "       'contact', 'month', 'day_of_week', 'duration', 'campaign', 'pdays',\n",
    "       'previous', 'poutcome', 'emp.var.rate', 'cons.price.idx',\n",
    "       'cons.conf.idx', 'euribor3m', 'nr.employed', 'y']].replace('unknown', np.NaN)\n",
    "print(df.isnull().sum())\n",
    "\n",
    "df.dropna(inplace=True)\n",
    "# summarize the number of rows and columns in the dataset\n",
    "print(df.shape)"
   ]
  },
  {
   "cell_type": "code",
   "execution_count": null,
   "metadata": {},
   "outputs": [],
   "source": [
    "bank_object_data = df.select_dtypes(include=\"object\")\n",
    "print(bank_object_data.info())\n",
    "\n",
    "bank_non_object_data = df.select_dtypes(exclude=\"object\")\n",
    "print(bank_non_object_data.info())\n",
    "\n",
    "label = LabelEncoder()\n",
    "bank_object_data = bank_object_data.apply(label.fit_transform)\n",
    "\n",
    "print(bank_object_data.head())\n",
    "\n",
    "bank_final = pd.concat([bank_object_data, bank_non_object_data], axis = 1)\n",
    "\n",
    "print(bank_final.head())"
   ]
  },
  {
   "cell_type": "code",
   "execution_count": null,
   "metadata": {},
   "outputs": [],
   "source": [
    "X = bank_final.drop(['y'], axis = 1)\n",
    "Y = bank_final['y']\n",
    "\n",
    "model = DecisionTreeClassifier()\n",
    "\n",
    "kfold = KFold(n_splits=10, random_state=100, shuffle = True)\n",
    "results_kfold = model_selection.cross_val_score(model, X, Y, cv=kfold)\n",
    "print(\"Accuracy: %.2f%%\" % (results_kfold.mean()*100.0)) \n",
    "print(\"Accuracy: %0.2f (+/- %0.2f)\" % (results_kfold.mean(), results_kfold.std() * 2))"
   ]
  },
  {
   "cell_type": "markdown",
   "metadata": {},
   "source": [
    "__Decision Tree: with imputation__"
   ]
  },
  {
   "cell_type": "code",
   "execution_count": null,
   "metadata": {},
   "outputs": [],
   "source": [
    "from sklearn.impute import SimpleImputer \n",
    "imputer = SimpleImputer(missing_values=np.nan, strategy='mean')\n",
    "\n",
    "df = pd.read_csv('bank-data/bank-additional-full.csv')\n",
    "print(df.shape)\n",
    "print(df.columns)\n",
    "print((df[['age', 'job', 'marital', 'education', 'default', 'housing', 'loan',\n",
    "       'contact', 'month', 'day_of_week', 'duration', 'campaign', 'pdays',\n",
    "       'previous', 'poutcome', 'emp.var.rate', 'cons.price.idx',\n",
    "       'cons.conf.idx', 'euribor3m', 'nr.employed', 'y']] == 'unknown').sum())\n",
    "\n",
    "df[['age', 'job', 'marital', 'education', 'default', 'housing', 'loan',\n",
    "       'contact', 'month', 'day_of_week', 'duration', 'campaign', 'pdays',\n",
    "       'previous', 'poutcome', 'emp.var.rate', 'cons.price.idx',\n",
    "       'cons.conf.idx', 'euribor3m', 'nr.employed', 'y']] = df[['age', 'job', 'marital', 'education', 'default', 'housing', 'loan',\n",
    "       'contact', 'month', 'day_of_week', 'duration', 'campaign', 'pdays',\n",
    "       'previous', 'poutcome', 'emp.var.rate', 'cons.price.idx',\n",
    "       'cons.conf.idx', 'euribor3m', 'nr.employed', 'y']].replace('unknown', np.NaN)\n",
    "print(df.isnull().sum())"
   ]
  },
  {
   "cell_type": "code",
   "execution_count": null,
   "metadata": {},
   "outputs": [],
   "source": [
    "bank_object_data = df.select_dtypes(include=\"object\")\n",
    "print(bank_object_data.info())\n",
    "\n",
    "bank_non_object_data = df.select_dtypes(exclude=\"object\")\n",
    "print(bank_non_object_data.info())\n",
    "\n",
    "values = bank_non_object_data.values\n",
    "#imputer = Imputer()\n",
    "transformed_values = imputer.fit_transform(values)\n",
    "# count the number of NaN values in each column\n",
    "print(np.isnan(transformed_values).sum())\n",
    "print(np.isnan(bank_non_object_data.values).sum())"
   ]
  },
  {
   "cell_type": "code",
   "execution_count": null,
   "metadata": {},
   "outputs": [],
   "source": [
    "from sklearn.base import TransformerMixin\n",
    "\n",
    "class DataFrameImputer(TransformerMixin):\n",
    "\n",
    "    def __init__(self):\n",
    "        \"\"\"Impute missing values.\n",
    "\n",
    "        Columns of dtype object are imputed with the most frequent value \n",
    "        in column.\n",
    "\n",
    "        Columns of other types are imputed with mean of column.\n",
    "\n",
    "        \"\"\"\n",
    "    def fit(self, X, y=None):\n",
    "\n",
    "        self.fill = pd.Series([X[c].value_counts().index[0]\n",
    "            if X[c].dtype == np.dtype('O') else X[c].mean() for c in X],\n",
    "            index=X.columns)\n",
    "\n",
    "        return self\n",
    "\n",
    "    def transform(self, X, y=None):\n",
    "        return X.fillna(self.fill)\n",
    "\n",
    "\n",
    "bank_object_data = DataFrameImputer().fit_transform(bank_object_data)"
   ]
  },
  {
   "cell_type": "code",
   "execution_count": null,
   "metadata": {},
   "outputs": [],
   "source": [
    "label = LabelEncoder()\n",
    "bank_object_data = bank_object_data.apply(label.fit_transform)\n",
    "\n",
    "print(bank_object_data.head())\n",
    "\n",
    "bank_final = pd.concat([bank_object_data, bank_non_object_data], axis = 1)\n",
    "\n",
    "print(bank_final.head())"
   ]
  },
  {
   "cell_type": "code",
   "execution_count": null,
   "metadata": {},
   "outputs": [],
   "source": [
    "X = bank_final.drop(['y'], axis = 1)\n",
    "Y = bank_final['y']\n",
    "\n",
    "model = DecisionTreeClassifier()\n",
    "\n",
    "kfold = KFold(n_splits=10, random_state=100, shuffle = True)\n",
    "results_kfold = model_selection.cross_val_score(model, X, Y, cv=kfold)\n",
    "print(\"Accuracy: %.2f%%\" % (results_kfold.mean()*100.0)) \n",
    "print(\"Accuracy: %0.2f (+/- %0.2f)\" % (results_kfold.mean(), results_kfold.std() * 2))"
   ]
  },
  {
   "cell_type": "markdown",
   "metadata": {},
   "source": [
    "__Naive Bayes CLassifier__"
   ]
  },
  {
   "cell_type": "code",
   "execution_count": null,
   "metadata": {},
   "outputs": [],
   "source": [
    "import pandas as pd\n",
    "import numpy as np\n",
    "from sklearn.model_selection import train_test_split\n",
    "from sklearn.preprocessing import LabelEncoder\n",
    "from sklearn.naive_bayes import GaussianNB\n",
    "from sklearn.metrics import accuracy_score\n",
    "from sklearn import model_selection\n",
    "from sklearn.model_selection import KFold"
   ]
  },
  {
   "cell_type": "markdown",
   "metadata": {},
   "source": [
    "__Naive Bayes CLassifier: w/o any modification of missing data__"
   ]
  },
  {
   "cell_type": "code",
   "execution_count": null,
   "metadata": {},
   "outputs": [],
   "source": [
    "df = pd.read_csv('bank-data/bank-additional-full.csv')"
   ]
  },
  {
   "cell_type": "code",
   "execution_count": null,
   "metadata": {},
   "outputs": [],
   "source": [
    "bank_object_data = df.select_dtypes(include=\"object\")\n",
    "bank_object_data.info()\n",
    "\n",
    "bank_non_object_data = df.select_dtypes(exclude=\"object\")\n",
    "print(bank_non_object_data.info())\n",
    "\n",
    "label = LabelEncoder()\n",
    "bank_object_data = bank_object_data.apply(label.fit_transform)\n",
    "\n",
    "print(bank_object_data.head())\n",
    "\n",
    "bank_final = pd.concat([bank_object_data, bank_non_object_data], axis = 1)\n",
    "print(bank_final.head())"
   ]
  },
  {
   "cell_type": "code",
   "execution_count": null,
   "metadata": {},
   "outputs": [],
   "source": [
    "X = bank_final.drop(['y'], axis = 1)\n",
    "Y = bank_final['y']\n",
    "\n",
    "model = GaussianNB()\n",
    "\n",
    "kfold = KFold(n_splits=10, random_state=100, shuffle = True)\n",
    "results_kfold = model_selection.cross_val_score(model, X, Y, cv=kfold)\n",
    "print(\"Accuracy: %.2f%%\" % (results_kfold.mean()*100.0))\n",
    "print(\"Accuracy: %0.2f (+/- %0.2f)\" % (results_kfold.mean(), results_kfold.std() * 2))"
   ]
  },
  {
   "cell_type": "markdown",
   "metadata": {},
   "source": [
    "__Naive Bayes CLassifier: deleting missing data__"
   ]
  },
  {
   "cell_type": "code",
   "execution_count": null,
   "metadata": {},
   "outputs": [],
   "source": [
    "df = pd.read_csv('bank-data/bank-additional-full.csv')\n",
    "print(df.shape)\n",
    "print(df.columns)\n",
    "print((df[['age', 'job', 'marital', 'education', 'default', 'housing', 'loan',\n",
    "       'contact', 'month', 'day_of_week', 'duration', 'campaign', 'pdays',\n",
    "       'previous', 'poutcome', 'emp.var.rate', 'cons.price.idx',\n",
    "       'cons.conf.idx', 'euribor3m', 'nr.employed', 'y']] == 'unknown').sum())\n",
    "\n",
    "df[['age', 'job', 'marital', 'education', 'default', 'housing', 'loan',\n",
    "       'contact', 'month', 'day_of_week', 'duration', 'campaign', 'pdays',\n",
    "       'previous', 'poutcome', 'emp.var.rate', 'cons.price.idx',\n",
    "       'cons.conf.idx', 'euribor3m', 'nr.employed', 'y']] = df[['age', 'job', 'marital', 'education', 'default', 'housing', 'loan',\n",
    "       'contact', 'month', 'day_of_week', 'duration', 'campaign', 'pdays',\n",
    "       'previous', 'poutcome', 'emp.var.rate', 'cons.price.idx',\n",
    "       'cons.conf.idx', 'euribor3m', 'nr.employed', 'y']].replace('unknown', np.NaN)\n",
    "print(df.isnull().sum())\n",
    "\n",
    "df.dropna(inplace=True)\n",
    "# summarize the number of rows and columns in the dataset\n",
    "print(df.shape)"
   ]
  },
  {
   "cell_type": "code",
   "execution_count": null,
   "metadata": {},
   "outputs": [],
   "source": [
    "bank_object_data = df.select_dtypes(include=\"object\")\n",
    "print(bank_object_data.info())\n",
    "\n",
    "bank_non_object_data = df.select_dtypes(exclude=\"object\")\n",
    "print(bank_non_object_data.info())\n",
    "\n",
    "label = LabelEncoder()\n",
    "bank_object_data = bank_object_data.apply(label.fit_transform)\n",
    "\n",
    "print(bank_object_data.head())\n",
    "\n",
    "bank_final = pd.concat([bank_object_data, bank_non_object_data], axis = 1)\n",
    "\n",
    "print(bank_final.head())"
   ]
  },
  {
   "cell_type": "code",
   "execution_count": null,
   "metadata": {},
   "outputs": [],
   "source": [
    "X = bank_final.drop(['y'], axis = 1)\n",
    "Y = bank_final['y']\n",
    "\n",
    "model = GaussianNB()\n",
    "\n",
    "kfold = KFold(n_splits=10, random_state=100, shuffle = True)\n",
    "results_kfold = model_selection.cross_val_score(model, X, Y, cv=kfold)\n",
    "print(\"Accuracy: %.2f%%\" % (results_kfold.mean()*100.0)) \n",
    "print(\"Accuracy: %0.2f (+/- %0.2f)\" % (results_kfold.mean(), results_kfold.std() * 2))"
   ]
  },
  {
   "cell_type": "markdown",
   "metadata": {},
   "source": [
    "__Naive Bayes CLassifier: with imputation__"
   ]
  },
  {
   "cell_type": "code",
   "execution_count": null,
   "metadata": {},
   "outputs": [],
   "source": [
    "from sklearn.impute import SimpleImputer \n",
    "imputer = SimpleImputer(missing_values=np.nan, strategy='mean')\n",
    "\n",
    "df = pd.read_csv('bank-data/bank-additional-full.csv')\n",
    "print(df.shape)\n",
    "print(df.columns)\n",
    "print((df[['age', 'job', 'marital', 'education', 'default', 'housing', 'loan',\n",
    "       'contact', 'month', 'day_of_week', 'duration', 'campaign', 'pdays',\n",
    "       'previous', 'poutcome', 'emp.var.rate', 'cons.price.idx',\n",
    "       'cons.conf.idx', 'euribor3m', 'nr.employed', 'y']] == 'unknown').sum())\n",
    "\n",
    "df[['age', 'job', 'marital', 'education', 'default', 'housing', 'loan',\n",
    "       'contact', 'month', 'day_of_week', 'duration', 'campaign', 'pdays',\n",
    "       'previous', 'poutcome', 'emp.var.rate', 'cons.price.idx',\n",
    "       'cons.conf.idx', 'euribor3m', 'nr.employed', 'y']] = df[['age', 'job', 'marital', 'education', 'default', 'housing', 'loan',\n",
    "       'contact', 'month', 'day_of_week', 'duration', 'campaign', 'pdays',\n",
    "       'previous', 'poutcome', 'emp.var.rate', 'cons.price.idx',\n",
    "       'cons.conf.idx', 'euribor3m', 'nr.employed', 'y']].replace('unknown', np.NaN)\n",
    "print(df.isnull().sum())\n"
   ]
  },
  {
   "cell_type": "code",
   "execution_count": null,
   "metadata": {},
   "outputs": [],
   "source": [
    "bank_object_data = df.select_dtypes(include=\"object\")\n",
    "print(bank_object_data.info())\n",
    "\n",
    "bank_non_object_data = df.select_dtypes(exclude=\"object\")\n",
    "print(bank_non_object_data.info())\n",
    "\n",
    "values = bank_non_object_data.values\n",
    "#imputer = Imputer()\n",
    "transformed_values = imputer.fit_transform(values)\n",
    "# count the number of NaN values in each column\n",
    "print(np.isnan(transformed_values).sum())\n",
    "print(np.isnan(bank_non_object_data.values).sum())"
   ]
  },
  {
   "cell_type": "code",
   "execution_count": null,
   "metadata": {},
   "outputs": [],
   "source": [
    "from sklearn.base import TransformerMixin\n",
    "\n",
    "class DataFrameImputer(TransformerMixin):\n",
    "\n",
    "    def __init__(self):\n",
    "        \"\"\"Impute missing values.\n",
    "\n",
    "        Columns of dtype object are imputed with the most frequent value \n",
    "        in column.\n",
    "\n",
    "        Columns of other types are imputed with mean of column.\n",
    "\n",
    "        \"\"\"\n",
    "    def fit(self, X, y=None):\n",
    "\n",
    "        self.fill = pd.Series([X[c].value_counts().index[0]\n",
    "            if X[c].dtype == np.dtype('O') else X[c].mean() for c in X],\n",
    "            index=X.columns)\n",
    "\n",
    "        return self\n",
    "\n",
    "    def transform(self, X, y=None):\n",
    "        return X.fillna(self.fill)\n",
    "\n",
    "\n",
    "bank_object_data = DataFrameImputer().fit_transform(bank_object_data)"
   ]
  },
  {
   "cell_type": "code",
   "execution_count": null,
   "metadata": {},
   "outputs": [],
   "source": [
    "label = LabelEncoder()\n",
    "bank_object_data = bank_object_data.apply(label.fit_transform)\n",
    "\n",
    "print(bank_object_data.head())\n",
    "\n",
    "bank_final = pd.concat([bank_object_data, bank_non_object_data], axis = 1)\n",
    "\n",
    "print(bank_final.head())"
   ]
  },
  {
   "cell_type": "code",
   "execution_count": null,
   "metadata": {},
   "outputs": [],
   "source": [
    "X = bank_final.drop(['y'], axis = 1)\n",
    "Y = bank_final['y']\n",
    "\n",
    "model = GaussianNB()\n",
    "\n",
    "kfold = KFold(n_splits=10, random_state=100, shuffle = True)\n",
    "results_kfold = model_selection.cross_val_score(model, X, Y, cv=kfold)\n",
    "print(\"Accuracy: %.2f%%\" % (results_kfold.mean()*100.0)) \n",
    "print(\"Accuracy: %0.2f (+/- %0.2f)\" % (results_kfold.mean(), results_kfold.std() * 2))"
   ]
  },
  {
   "cell_type": "markdown",
   "metadata": {},
   "source": [
    "__SVM__"
   ]
  },
  {
   "cell_type": "code",
   "execution_count": 2,
   "metadata": {},
   "outputs": [],
   "source": [
    "import pandas as pd\n",
    "import numpy as np\n",
    "from sklearn.model_selection import train_test_split\n",
    "from sklearn.preprocessing import LabelEncoder\n",
    "from sklearn.svm import SVC\n",
    "from sklearn.metrics import accuracy_score\n",
    "from sklearn import model_selection\n",
    "from sklearn.model_selection import KFold"
   ]
  },
  {
   "cell_type": "markdown",
   "metadata": {},
   "source": [
    "__SVM: w/o any modifications__"
   ]
  },
  {
   "cell_type": "code",
   "execution_count": 3,
   "metadata": {},
   "outputs": [],
   "source": [
    "df = pd.read_csv('bank-data/bank-additional-full.csv')"
   ]
  },
  {
   "cell_type": "code",
   "execution_count": 4,
   "metadata": {},
   "outputs": [
    {
     "name": "stdout",
     "output_type": "stream",
     "text": [
      "<class 'pandas.core.frame.DataFrame'>\n",
      "RangeIndex: 41188 entries, 0 to 41187\n",
      "Data columns (total 11 columns):\n",
      "job            41188 non-null object\n",
      "marital        41188 non-null object\n",
      "education      41188 non-null object\n",
      "default        41188 non-null object\n",
      "housing        41188 non-null object\n",
      "loan           41188 non-null object\n",
      "contact        41188 non-null object\n",
      "month          41188 non-null object\n",
      "day_of_week    41188 non-null object\n",
      "poutcome       41188 non-null object\n",
      "y              41188 non-null object\n",
      "dtypes: object(11)\n",
      "memory usage: 3.5+ MB\n",
      "<class 'pandas.core.frame.DataFrame'>\n",
      "RangeIndex: 41188 entries, 0 to 41187\n",
      "Data columns (total 10 columns):\n",
      "age               41188 non-null int64\n",
      "duration          41188 non-null int64\n",
      "campaign          41188 non-null int64\n",
      "pdays             41188 non-null int64\n",
      "previous          41188 non-null int64\n",
      "emp.var.rate      41188 non-null float64\n",
      "cons.price.idx    41188 non-null float64\n",
      "cons.conf.idx     41188 non-null float64\n",
      "euribor3m         41188 non-null float64\n",
      "nr.employed       41188 non-null float64\n",
      "dtypes: float64(5), int64(5)\n",
      "memory usage: 3.1 MB\n",
      "None\n",
      "   job  marital  education  default  housing  loan  contact  month  \\\n",
      "0    3        1          0        0        0     0        1      6   \n",
      "1    7        1          3        1        0     0        1      6   \n",
      "2    7        1          3        0        2     0        1      6   \n",
      "3    0        1          1        0        0     0        1      6   \n",
      "4    7        1          3        0        0     2        1      6   \n",
      "\n",
      "   day_of_week  poutcome  y  \n",
      "0            1         1  0  \n",
      "1            1         1  0  \n",
      "2            1         1  0  \n",
      "3            1         1  0  \n",
      "4            1         1  0  \n",
      "   job  marital  education  default  housing  loan  contact  month  \\\n",
      "0    3        1          0        0        0     0        1      6   \n",
      "1    7        1          3        1        0     0        1      6   \n",
      "2    7        1          3        0        2     0        1      6   \n",
      "3    0        1          1        0        0     0        1      6   \n",
      "4    7        1          3        0        0     2        1      6   \n",
      "\n",
      "   day_of_week  poutcome  ...  age  duration  campaign  pdays  previous  \\\n",
      "0            1         1  ...   56       261         1    999         0   \n",
      "1            1         1  ...   57       149         1    999         0   \n",
      "2            1         1  ...   37       226         1    999         0   \n",
      "3            1         1  ...   40       151         1    999         0   \n",
      "4            1         1  ...   56       307         1    999         0   \n",
      "\n",
      "   emp.var.rate  cons.price.idx  cons.conf.idx  euribor3m  nr.employed  \n",
      "0           1.1          93.994          -36.4      4.857       5191.0  \n",
      "1           1.1          93.994          -36.4      4.857       5191.0  \n",
      "2           1.1          93.994          -36.4      4.857       5191.0  \n",
      "3           1.1          93.994          -36.4      4.857       5191.0  \n",
      "4           1.1          93.994          -36.4      4.857       5191.0  \n",
      "\n",
      "[5 rows x 21 columns]\n"
     ]
    }
   ],
   "source": [
    "bank_object_data = df.select_dtypes(include=\"object\")\n",
    "bank_object_data.info()\n",
    "\n",
    "bank_non_object_data = df.select_dtypes(exclude=\"object\")\n",
    "print(bank_non_object_data.info())\n",
    "\n",
    "label = LabelEncoder()\n",
    "bank_object_data = bank_object_data.apply(label.fit_transform)\n",
    "\n",
    "print(bank_object_data.head())\n",
    "\n",
    "bank_final = pd.concat([bank_object_data, bank_non_object_data], axis = 1)\n",
    "print(bank_final.head())"
   ]
  },
  {
   "cell_type": "markdown",
   "metadata": {},
   "source": [
    "__SVM: w/o any modifications; Linear Kernal__"
   ]
  },
  {
   "cell_type": "code",
   "execution_count": 5,
   "metadata": {},
   "outputs": [
    {
     "name": "stdout",
     "output_type": "stream",
     "text": [
      "Accuracy: 90.00%\n",
      "Accuracy: 0.90 (+/- 0.01)\n",
      "Start Time:  2020-04-14 22:02:50.303476 Stop Time:  2020-04-14 22:14:15.594767 Time Taken:  685.2945844000001\n"
     ]
    }
   ],
   "source": [
    "X = bank_final.drop(['y'], axis = 1)\n",
    "Y = bank_final['y']\n",
    "\n",
    "model = SVC(kernel='linear') \n",
    "\n",
    "import timeit\n",
    "\n",
    "start = timeit.default_timer()\n",
    "from datetime import datetime\n",
    "\n",
    "# current date and time\n",
    "begin = datetime.now()\n",
    "\n",
    "\n",
    "kfold = KFold(n_splits=10, random_state=100, shuffle = True)\n",
    "results_kfold = model_selection.cross_val_score(model, X, Y, cv=kfold)\n",
    "print(\"Accuracy: %.2f%%\" % (results_kfold.mean()*100.0))\n",
    "print(\"Accuracy: %0.2f (+/- %0.2f)\" % (results_kfold.mean(), results_kfold.std() * 2))\n",
    "\n",
    "stop = timeit.default_timer()\n",
    "end = datetime.now()\n",
    "print('Start Time: ', begin,\n",
    "      'Stop Time: ', end,\n",
    "      'Time Taken: ', stop - start) "
   ]
  },
  {
   "cell_type": "markdown",
   "metadata": {},
   "source": [
    "__SVM: w/o any modifications; RBF Kernal__"
   ]
  },
  {
   "cell_type": "code",
   "execution_count": 6,
   "metadata": {},
   "outputs": [
    {
     "name": "stdout",
     "output_type": "stream",
     "text": [
      "Accuracy: 89.78%\n",
      "Accuracy: 0.90 (+/- 0.01)\n",
      "Start Time:  2020-04-14 22:18:58.707710 Stop Time:  2020-04-14 22:22:24.778107 Time Taken:  206.07046160000004\n"
     ]
    }
   ],
   "source": [
    "X = bank_final.drop(['y'], axis = 1)\n",
    "Y = bank_final['y']\n",
    "\n",
    "model = SVC(kernel='rbf') \n",
    "\n",
    "import timeit\n",
    "\n",
    "start = timeit.default_timer()\n",
    "from datetime import datetime\n",
    "\n",
    "# current date and time\n",
    "begin = datetime.now()\n",
    "\n",
    "\n",
    "kfold = KFold(n_splits=10, random_state=100, shuffle = True)\n",
    "results_kfold = model_selection.cross_val_score(model, X, Y, cv=kfold)\n",
    "print(\"Accuracy: %.2f%%\" % (results_kfold.mean()*100.0))\n",
    "print(\"Accuracy: %0.2f (+/- %0.2f)\" % (results_kfold.mean(), results_kfold.std() * 2))\n",
    "\n",
    "stop = timeit.default_timer()\n",
    "end = datetime.now()\n",
    "print('Start Time: ', begin,\n",
    "      'Stop Time: ', end,\n",
    "      'Time Taken: ', stop - start) "
   ]
  },
  {
   "cell_type": "markdown",
   "metadata": {},
   "source": [
    "__SVM: w/o any modifications; Polynomial Kernal__"
   ]
  },
  {
   "cell_type": "code",
   "execution_count": 7,
   "metadata": {},
   "outputs": [
    {
     "name": "stdout",
     "output_type": "stream",
     "text": [
      "Accuracy: 89.81%\n",
      "Accuracy: 0.90 (+/- 0.01)\n",
      "Start Time:  2020-04-14 22:24:58.968040 Stop Time:  2020-04-14 22:27:11.419223 Time Taken:  132.44975390000013\n"
     ]
    }
   ],
   "source": [
    "X = bank_final.drop(['y'], axis = 1)\n",
    "Y = bank_final['y']\n",
    "\n",
    "model = SVC(kernel='poly') \n",
    "\n",
    "import timeit\n",
    "\n",
    "start = timeit.default_timer()\n",
    "from datetime import datetime\n",
    "\n",
    "# current date and time\n",
    "begin = datetime.now()\n",
    "\n",
    "\n",
    "kfold = KFold(n_splits=10, random_state=100, shuffle = True)\n",
    "results_kfold = model_selection.cross_val_score(model, X, Y, cv=kfold)\n",
    "print(\"Accuracy: %.2f%%\" % (results_kfold.mean()*100.0))\n",
    "print(\"Accuracy: %0.2f (+/- %0.2f)\" % (results_kfold.mean(), results_kfold.std() * 2))\n",
    "\n",
    "stop = timeit.default_timer()\n",
    "end = datetime.now()\n",
    "print('Start Time: ', begin,\n",
    "      'Stop Time: ', end,\n",
    "      'Time Taken: ', stop - start) "
   ]
  },
  {
   "cell_type": "markdown",
   "metadata": {},
   "source": [
    "__SVM: w/o any modifications; Sigmoid Kernal__"
   ]
  },
  {
   "cell_type": "code",
   "execution_count": 8,
   "metadata": {},
   "outputs": [
    {
     "name": "stdout",
     "output_type": "stream",
     "text": [
      "Accuracy: 89.81%\n",
      "Accuracy: 0.90 (+/- 0.01)\n",
      "Start Time:  2020-04-14 22:28:42.986638 Stop Time:  2020-04-14 22:33:19.524165 Time Taken:  276.5366626\n"
     ]
    }
   ],
   "source": [
    "X = bank_final.drop(['y'], axis = 1)\n",
    "Y = bank_final['y']\n",
    "\n",
    "model = SVC(kernel='sigmoid') \n",
    "\n",
    "import timeit\n",
    "\n",
    "start = timeit.default_timer()\n",
    "from datetime import datetime\n",
    "\n",
    "# current date and time\n",
    "begin = datetime.now()\n",
    "\n",
    "\n",
    "kfold = KFold(n_splits=10, random_state=100, shuffle = True)\n",
    "results_kfold = model_selection.cross_val_score(model, X, Y, cv=kfold)\n",
    "print(\"Accuracy: %.2f%%\" % (results_kfold.mean()*100.0))\n",
    "print(\"Accuracy: %0.2f (+/- %0.2f)\" % (results_kfold.mean(), results_kfold.std() * 2))\n",
    "\n",
    "stop = timeit.default_timer()\n",
    "end = datetime.now()\n",
    "print('Start Time: ', begin,\n",
    "      'Stop Time: ', end,\n",
    "      'Time Taken: ', stop - start) "
   ]
  },
  {
   "cell_type": "markdown",
   "metadata": {},
   "source": [
    "__SVM: deleting missing data__"
   ]
  },
  {
   "cell_type": "code",
   "execution_count": 9,
   "metadata": {},
   "outputs": [
    {
     "name": "stdout",
     "output_type": "stream",
     "text": [
      "(41188, 21)\n",
      "Index(['age', 'job', 'marital', 'education', 'default', 'housing', 'loan',\n",
      "       'contact', 'month', 'day_of_week', 'duration', 'campaign', 'pdays',\n",
      "       'previous', 'poutcome', 'emp.var.rate', 'cons.price.idx',\n",
      "       'cons.conf.idx', 'euribor3m', 'nr.employed', 'y'],\n",
      "      dtype='object')\n",
      "age                  0\n",
      "job                330\n",
      "marital             80\n",
      "education         1731\n",
      "default           8597\n",
      "housing            990\n",
      "loan               990\n",
      "contact              0\n",
      "month                0\n",
      "day_of_week          0\n",
      "duration             0\n",
      "campaign             0\n",
      "pdays                0\n",
      "previous             0\n",
      "poutcome             0\n",
      "emp.var.rate         0\n",
      "cons.price.idx       0\n",
      "cons.conf.idx        0\n",
      "euribor3m            0\n",
      "nr.employed          0\n",
      "y                    0\n",
      "dtype: int64\n"
     ]
    },
    {
     "name": "stderr",
     "output_type": "stream",
     "text": [
      "C:\\Python3\\lib\\site-packages\\pandas\\core\\ops\\__init__.py:1115: FutureWarning: elementwise comparison failed; returning scalar instead, but in the future will perform elementwise comparison\n",
      "  result = method(y)\n"
     ]
    },
    {
     "name": "stdout",
     "output_type": "stream",
     "text": [
      "age                  0\n",
      "job                330\n",
      "marital             80\n",
      "education         1731\n",
      "default           8597\n",
      "housing            990\n",
      "loan               990\n",
      "contact              0\n",
      "month                0\n",
      "day_of_week          0\n",
      "duration             0\n",
      "campaign             0\n",
      "pdays                0\n",
      "previous             0\n",
      "poutcome             0\n",
      "emp.var.rate         0\n",
      "cons.price.idx       0\n",
      "cons.conf.idx        0\n",
      "euribor3m            0\n",
      "nr.employed          0\n",
      "y                    0\n",
      "dtype: int64\n",
      "(30488, 21)\n"
     ]
    }
   ],
   "source": [
    "df = pd.read_csv('bank-data/bank-additional-full.csv')\n",
    "print(df.shape)\n",
    "print(df.columns)\n",
    "print((df[['age', 'job', 'marital', 'education', 'default', 'housing', 'loan',\n",
    "       'contact', 'month', 'day_of_week', 'duration', 'campaign', 'pdays',\n",
    "       'previous', 'poutcome', 'emp.var.rate', 'cons.price.idx',\n",
    "       'cons.conf.idx', 'euribor3m', 'nr.employed', 'y']] == 'unknown').sum())\n",
    "\n",
    "df[['age', 'job', 'marital', 'education', 'default', 'housing', 'loan',\n",
    "       'contact', 'month', 'day_of_week', 'duration', 'campaign', 'pdays',\n",
    "       'previous', 'poutcome', 'emp.var.rate', 'cons.price.idx',\n",
    "       'cons.conf.idx', 'euribor3m', 'nr.employed', 'y']] = df[['age', 'job', 'marital', 'education', 'default', 'housing', 'loan',\n",
    "       'contact', 'month', 'day_of_week', 'duration', 'campaign', 'pdays',\n",
    "       'previous', 'poutcome', 'emp.var.rate', 'cons.price.idx',\n",
    "       'cons.conf.idx', 'euribor3m', 'nr.employed', 'y']].replace('unknown', np.NaN)\n",
    "print(df.isnull().sum())\n",
    "\n",
    "df.dropna(inplace=True)\n",
    "# summarize the number of rows and columns in the dataset\n",
    "print(df.shape)"
   ]
  },
  {
   "cell_type": "code",
   "execution_count": 10,
   "metadata": {},
   "outputs": [
    {
     "name": "stdout",
     "output_type": "stream",
     "text": [
      "<class 'pandas.core.frame.DataFrame'>\n",
      "Int64Index: 30488 entries, 0 to 41187\n",
      "Data columns (total 11 columns):\n",
      "job            30488 non-null object\n",
      "marital        30488 non-null object\n",
      "education      30488 non-null object\n",
      "default        30488 non-null object\n",
      "housing        30488 non-null object\n",
      "loan           30488 non-null object\n",
      "contact        30488 non-null object\n",
      "month          30488 non-null object\n",
      "day_of_week    30488 non-null object\n",
      "poutcome       30488 non-null object\n",
      "y              30488 non-null object\n",
      "dtypes: object(11)\n",
      "memory usage: 2.8+ MB\n",
      "None\n",
      "<class 'pandas.core.frame.DataFrame'>\n",
      "Int64Index: 30488 entries, 0 to 41187\n",
      "Data columns (total 10 columns):\n",
      "age               30488 non-null int64\n",
      "duration          30488 non-null int64\n",
      "campaign          30488 non-null int64\n",
      "pdays             30488 non-null int64\n",
      "previous          30488 non-null int64\n",
      "emp.var.rate      30488 non-null float64\n",
      "cons.price.idx    30488 non-null float64\n",
      "cons.conf.idx     30488 non-null float64\n",
      "euribor3m         30488 non-null float64\n",
      "nr.employed       30488 non-null float64\n",
      "dtypes: float64(5), int64(5)\n",
      "memory usage: 2.6 MB\n",
      "None\n",
      "   job  marital  education  default  housing  loan  contact  month  \\\n",
      "0    3        1          0        0        0     0        1      6   \n",
      "2    7        1          3        0        1     0        1      6   \n",
      "3    0        1          1        0        0     0        1      6   \n",
      "4    7        1          3        0        0     1        1      6   \n",
      "6    0        1          5        0        0     0        1      6   \n",
      "\n",
      "   day_of_week  poutcome  y  \n",
      "0            1         1  0  \n",
      "2            1         1  0  \n",
      "3            1         1  0  \n",
      "4            1         1  0  \n",
      "6            1         1  0  \n",
      "   job  marital  education  default  housing  loan  contact  month  \\\n",
      "0    3        1          0        0        0     0        1      6   \n",
      "2    7        1          3        0        1     0        1      6   \n",
      "3    0        1          1        0        0     0        1      6   \n",
      "4    7        1          3        0        0     1        1      6   \n",
      "6    0        1          5        0        0     0        1      6   \n",
      "\n",
      "   day_of_week  poutcome  ...  age  duration  campaign  pdays  previous  \\\n",
      "0            1         1  ...   56       261         1    999         0   \n",
      "2            1         1  ...   37       226         1    999         0   \n",
      "3            1         1  ...   40       151         1    999         0   \n",
      "4            1         1  ...   56       307         1    999         0   \n",
      "6            1         1  ...   59       139         1    999         0   \n",
      "\n",
      "   emp.var.rate  cons.price.idx  cons.conf.idx  euribor3m  nr.employed  \n",
      "0           1.1          93.994          -36.4      4.857       5191.0  \n",
      "2           1.1          93.994          -36.4      4.857       5191.0  \n",
      "3           1.1          93.994          -36.4      4.857       5191.0  \n",
      "4           1.1          93.994          -36.4      4.857       5191.0  \n",
      "6           1.1          93.994          -36.4      4.857       5191.0  \n",
      "\n",
      "[5 rows x 21 columns]\n"
     ]
    }
   ],
   "source": [
    "bank_object_data = df.select_dtypes(include=\"object\")\n",
    "print(bank_object_data.info())\n",
    "\n",
    "bank_non_object_data = df.select_dtypes(exclude=\"object\")\n",
    "print(bank_non_object_data.info())\n",
    "\n",
    "label = LabelEncoder()\n",
    "bank_object_data = bank_object_data.apply(label.fit_transform)\n",
    "\n",
    "print(bank_object_data.head())\n",
    "\n",
    "bank_final = pd.concat([bank_object_data, bank_non_object_data], axis = 1)\n",
    "\n",
    "print(bank_final.head())"
   ]
  },
  {
   "cell_type": "markdown",
   "metadata": {},
   "source": [
    "__SVM: deleting missing data; Linear Kernal__"
   ]
  },
  {
   "cell_type": "code",
   "execution_count": 12,
   "metadata": {},
   "outputs": [
    {
     "name": "stdout",
     "output_type": "stream",
     "text": [
      "Accuracy: 88.98%\n",
      "Accuracy: 0.89 (+/- 0.01)\n",
      "Start Time:  2020-04-14 22:38:41.200671 Stop Time:  2020-04-14 22:47:08.517706 Time Taken:  507.3171787000001\n"
     ]
    }
   ],
   "source": [
    "X = bank_final.drop(['y'], axis = 1)\n",
    "Y = bank_final['y']\n",
    "\n",
    "model = SVC(kernel='linear') \n",
    "\n",
    "import timeit\n",
    "\n",
    "start = timeit.default_timer()\n",
    "from datetime import datetime\n",
    "\n",
    "# current date and time\n",
    "begin = datetime.now()\n",
    "\n",
    "\n",
    "kfold = KFold(n_splits=10, random_state=100, shuffle = True)\n",
    "results_kfold = model_selection.cross_val_score(model, X, Y, cv=kfold)\n",
    "print(\"Accuracy: %.2f%%\" % (results_kfold.mean()*100.0))\n",
    "print(\"Accuracy: %0.2f (+/- %0.2f)\" % (results_kfold.mean(), results_kfold.std() * 2))\n",
    "\n",
    "stop = timeit.default_timer()\n",
    "end = datetime.now()\n",
    "print('Start Time: ', begin,\n",
    "      'Stop Time: ', end,\n",
    "      'Time Taken: ', stop - start) "
   ]
  },
  {
   "cell_type": "markdown",
   "metadata": {},
   "source": [
    "__SVM: deleting missing data; RBF Kernal__"
   ]
  },
  {
   "cell_type": "code",
   "execution_count": 13,
   "metadata": {},
   "outputs": [
    {
     "name": "stdout",
     "output_type": "stream",
     "text": [
      "Accuracy: 88.57%\n",
      "Accuracy: 0.89 (+/- 0.01)\n",
      "Start Time:  2020-04-14 22:49:15.948454 Stop Time:  2020-04-14 22:51:18.589732 Time Taken:  122.6413508999999\n"
     ]
    }
   ],
   "source": [
    "X = bank_final.drop(['y'], axis = 1)\n",
    "Y = bank_final['y']\n",
    "\n",
    "model = SVC(kernel='rbf') \n",
    "\n",
    "import timeit\n",
    "\n",
    "start = timeit.default_timer()\n",
    "from datetime import datetime\n",
    "\n",
    "# current date and time\n",
    "begin = datetime.now()\n",
    "\n",
    "\n",
    "kfold = KFold(n_splits=10, random_state=100, shuffle = True)\n",
    "results_kfold = model_selection.cross_val_score(model, X, Y, cv=kfold)\n",
    "print(\"Accuracy: %.2f%%\" % (results_kfold.mean()*100.0))\n",
    "print(\"Accuracy: %0.2f (+/- %0.2f)\" % (results_kfold.mean(), results_kfold.std() * 2))\n",
    "\n",
    "stop = timeit.default_timer()\n",
    "end = datetime.now()\n",
    "print('Start Time: ', begin,\n",
    "      'Stop Time: ', end,\n",
    "      'Time Taken: ', stop - start) "
   ]
  },
  {
   "cell_type": "markdown",
   "metadata": {},
   "source": [
    "__SVM: deleting missing data; Polynomial Kernal__"
   ]
  },
  {
   "cell_type": "code",
   "execution_count": 14,
   "metadata": {},
   "outputs": [
    {
     "name": "stdout",
     "output_type": "stream",
     "text": [
      "Accuracy: 88.60%\n",
      "Accuracy: 0.89 (+/- 0.01)\n",
      "Start Time:  2020-04-14 22:55:10.043813 Stop Time:  2020-04-14 22:56:16.602739 Time Taken:  66.5582786\n"
     ]
    }
   ],
   "source": [
    "X = bank_final.drop(['y'], axis = 1)\n",
    "Y = bank_final['y']\n",
    "\n",
    "model = SVC(kernel='poly') \n",
    "\n",
    "import timeit\n",
    "\n",
    "start = timeit.default_timer()\n",
    "from datetime import datetime\n",
    "\n",
    "# current date and time\n",
    "begin = datetime.now()\n",
    "\n",
    "\n",
    "kfold = KFold(n_splits=10, random_state=100, shuffle = True)\n",
    "results_kfold = model_selection.cross_val_score(model, X, Y, cv=kfold)\n",
    "print(\"Accuracy: %.2f%%\" % (results_kfold.mean()*100.0))\n",
    "print(\"Accuracy: %0.2f (+/- %0.2f)\" % (results_kfold.mean(), results_kfold.std() * 2))\n",
    "\n",
    "stop = timeit.default_timer()\n",
    "end = datetime.now()\n",
    "print('Start Time: ', begin,\n",
    "      'Stop Time: ', end,\n",
    "      'Time Taken: ', stop - start) "
   ]
  },
  {
   "cell_type": "markdown",
   "metadata": {},
   "source": [
    "__SVM: deleting missing data; Sigmoind Kernal__"
   ]
  },
  {
   "cell_type": "code",
   "execution_count": 15,
   "metadata": {},
   "outputs": [
    {
     "name": "stdout",
     "output_type": "stream",
     "text": [
      "Accuracy: 88.59%\n",
      "Accuracy: 0.89 (+/- 0.01)\n",
      "Start Time:  2020-04-14 22:59:12.896698 Stop Time:  2020-04-14 23:02:06.614355 Time Taken:  173.71744370000033\n"
     ]
    }
   ],
   "source": [
    "X = bank_final.drop(['y'], axis = 1)\n",
    "Y = bank_final['y']\n",
    "\n",
    "model = SVC(kernel='sigmoid') \n",
    "\n",
    "import timeit\n",
    "\n",
    "start = timeit.default_timer()\n",
    "from datetime import datetime\n",
    "\n",
    "# current date and time\n",
    "begin = datetime.now()\n",
    "\n",
    "\n",
    "kfold = KFold(n_splits=10, random_state=100, shuffle = True)\n",
    "results_kfold = model_selection.cross_val_score(model, X, Y, cv=kfold)\n",
    "print(\"Accuracy: %.2f%%\" % (results_kfold.mean()*100.0))\n",
    "print(\"Accuracy: %0.2f (+/- %0.2f)\" % (results_kfold.mean(), results_kfold.std() * 2))\n",
    "\n",
    "stop = timeit.default_timer()\n",
    "end = datetime.now()\n",
    "print('Start Time: ', begin,\n",
    "      'Stop Time: ', end,\n",
    "      'Time Taken: ', stop - start) "
   ]
  },
  {
   "cell_type": "markdown",
   "metadata": {},
   "source": [
    "__SVD: with imputation__"
   ]
  },
  {
   "cell_type": "code",
   "execution_count": 16,
   "metadata": {},
   "outputs": [
    {
     "name": "stdout",
     "output_type": "stream",
     "text": [
      "(41188, 21)\n",
      "Index(['age', 'job', 'marital', 'education', 'default', 'housing', 'loan',\n",
      "       'contact', 'month', 'day_of_week', 'duration', 'campaign', 'pdays',\n",
      "       'previous', 'poutcome', 'emp.var.rate', 'cons.price.idx',\n",
      "       'cons.conf.idx', 'euribor3m', 'nr.employed', 'y'],\n",
      "      dtype='object')\n",
      "age                  0\n",
      "job                330\n",
      "marital             80\n",
      "education         1731\n",
      "default           8597\n",
      "housing            990\n",
      "loan               990\n",
      "contact              0\n",
      "month                0\n",
      "day_of_week          0\n",
      "duration             0\n",
      "campaign             0\n",
      "pdays                0\n",
      "previous             0\n",
      "poutcome             0\n",
      "emp.var.rate         0\n",
      "cons.price.idx       0\n",
      "cons.conf.idx        0\n",
      "euribor3m            0\n",
      "nr.employed          0\n",
      "y                    0\n",
      "dtype: int64\n",
      "age                  0\n",
      "job                330\n",
      "marital             80\n",
      "education         1731\n",
      "default           8597\n",
      "housing            990\n",
      "loan               990\n",
      "contact              0\n",
      "month                0\n",
      "day_of_week          0\n",
      "duration             0\n",
      "campaign             0\n",
      "pdays                0\n",
      "previous             0\n",
      "poutcome             0\n",
      "emp.var.rate         0\n",
      "cons.price.idx       0\n",
      "cons.conf.idx        0\n",
      "euribor3m            0\n",
      "nr.employed          0\n",
      "y                    0\n",
      "dtype: int64\n"
     ]
    },
    {
     "name": "stderr",
     "output_type": "stream",
     "text": [
      "C:\\Python3\\lib\\site-packages\\pandas\\core\\ops\\__init__.py:1115: FutureWarning: elementwise comparison failed; returning scalar instead, but in the future will perform elementwise comparison\n",
      "  result = method(y)\n"
     ]
    }
   ],
   "source": [
    "from sklearn.impute import SimpleImputer \n",
    "imputer = SimpleImputer(missing_values=np.nan, strategy='mean')\n",
    "\n",
    "df = pd.read_csv('bank-data/bank-additional-full.csv')\n",
    "print(df.shape)\n",
    "print(df.columns)\n",
    "print((df[['age', 'job', 'marital', 'education', 'default', 'housing', 'loan',\n",
    "       'contact', 'month', 'day_of_week', 'duration', 'campaign', 'pdays',\n",
    "       'previous', 'poutcome', 'emp.var.rate', 'cons.price.idx',\n",
    "       'cons.conf.idx', 'euribor3m', 'nr.employed', 'y']] == 'unknown').sum())\n",
    "\n",
    "df[['age', 'job', 'marital', 'education', 'default', 'housing', 'loan',\n",
    "       'contact', 'month', 'day_of_week', 'duration', 'campaign', 'pdays',\n",
    "       'previous', 'poutcome', 'emp.var.rate', 'cons.price.idx',\n",
    "       'cons.conf.idx', 'euribor3m', 'nr.employed', 'y']] = df[['age', 'job', 'marital', 'education', 'default', 'housing', 'loan',\n",
    "       'contact', 'month', 'day_of_week', 'duration', 'campaign', 'pdays',\n",
    "       'previous', 'poutcome', 'emp.var.rate', 'cons.price.idx',\n",
    "       'cons.conf.idx', 'euribor3m', 'nr.employed', 'y']].replace('unknown', np.NaN)\n",
    "print(df.isnull().sum())\n"
   ]
  },
  {
   "cell_type": "code",
   "execution_count": 17,
   "metadata": {},
   "outputs": [
    {
     "name": "stdout",
     "output_type": "stream",
     "text": [
      "<class 'pandas.core.frame.DataFrame'>\n",
      "RangeIndex: 41188 entries, 0 to 41187\n",
      "Data columns (total 11 columns):\n",
      "job            40858 non-null object\n",
      "marital        41108 non-null object\n",
      "education      39457 non-null object\n",
      "default        32591 non-null object\n",
      "housing        40198 non-null object\n",
      "loan           40198 non-null object\n",
      "contact        41188 non-null object\n",
      "month          41188 non-null object\n",
      "day_of_week    41188 non-null object\n",
      "poutcome       41188 non-null object\n",
      "y              41188 non-null object\n",
      "dtypes: object(11)\n",
      "memory usage: 3.5+ MB\n",
      "None\n",
      "<class 'pandas.core.frame.DataFrame'>\n",
      "RangeIndex: 41188 entries, 0 to 41187\n",
      "Data columns (total 10 columns):\n",
      "age               41188 non-null int64\n",
      "duration          41188 non-null int64\n",
      "campaign          41188 non-null int64\n",
      "pdays             41188 non-null int64\n",
      "previous          41188 non-null int64\n",
      "emp.var.rate      41188 non-null float64\n",
      "cons.price.idx    41188 non-null float64\n",
      "cons.conf.idx     41188 non-null float64\n",
      "euribor3m         41188 non-null float64\n",
      "nr.employed       41188 non-null float64\n",
      "dtypes: float64(5), int64(5)\n",
      "memory usage: 3.1 MB\n",
      "None\n",
      "0\n",
      "0\n"
     ]
    }
   ],
   "source": [
    "bank_object_data = df.select_dtypes(include=\"object\")\n",
    "print(bank_object_data.info())\n",
    "\n",
    "bank_non_object_data = df.select_dtypes(exclude=\"object\")\n",
    "print(bank_non_object_data.info())\n",
    "\n",
    "values = bank_non_object_data.values\n",
    "#imputer = Imputer()\n",
    "transformed_values = imputer.fit_transform(values)\n",
    "# count the number of NaN values in each column\n",
    "print(np.isnan(transformed_values).sum())\n",
    "print(np.isnan(bank_non_object_data.values).sum())"
   ]
  },
  {
   "cell_type": "code",
   "execution_count": 18,
   "metadata": {},
   "outputs": [],
   "source": [
    "from sklearn.base import TransformerMixin\n",
    "\n",
    "class DataFrameImputer(TransformerMixin):\n",
    "\n",
    "    def __init__(self):\n",
    "        \"\"\"Impute missing values.\n",
    "\n",
    "        Columns of dtype object are imputed with the most frequent value \n",
    "        in column.\n",
    "\n",
    "        Columns of other types are imputed with mean of column.\n",
    "\n",
    "        \"\"\"\n",
    "    def fit(self, X, y=None):\n",
    "\n",
    "        self.fill = pd.Series([X[c].value_counts().index[0]\n",
    "            if X[c].dtype == np.dtype('O') else X[c].mean() for c in X],\n",
    "            index=X.columns)\n",
    "\n",
    "        return self\n",
    "\n",
    "    def transform(self, X, y=None):\n",
    "        return X.fillna(self.fill)\n",
    "\n",
    "\n",
    "bank_object_data = DataFrameImputer().fit_transform(bank_object_data)"
   ]
  },
  {
   "cell_type": "code",
   "execution_count": 19,
   "metadata": {},
   "outputs": [
    {
     "name": "stdout",
     "output_type": "stream",
     "text": [
      "   job  marital  education  default  housing  loan  contact  month  \\\n",
      "0    3        1          0        0        0     0        1      6   \n",
      "1    7        1          3        0        0     0        1      6   \n",
      "2    7        1          3        0        1     0        1      6   \n",
      "3    0        1          1        0        0     0        1      6   \n",
      "4    7        1          3        0        0     1        1      6   \n",
      "\n",
      "   day_of_week  poutcome  y  \n",
      "0            1         1  0  \n",
      "1            1         1  0  \n",
      "2            1         1  0  \n",
      "3            1         1  0  \n",
      "4            1         1  0  \n",
      "   job  marital  education  default  housing  loan  contact  month  \\\n",
      "0    3        1          0        0        0     0        1      6   \n",
      "1    7        1          3        0        0     0        1      6   \n",
      "2    7        1          3        0        1     0        1      6   \n",
      "3    0        1          1        0        0     0        1      6   \n",
      "4    7        1          3        0        0     1        1      6   \n",
      "\n",
      "   day_of_week  poutcome  ...  age  duration  campaign  pdays  previous  \\\n",
      "0            1         1  ...   56       261         1    999         0   \n",
      "1            1         1  ...   57       149         1    999         0   \n",
      "2            1         1  ...   37       226         1    999         0   \n",
      "3            1         1  ...   40       151         1    999         0   \n",
      "4            1         1  ...   56       307         1    999         0   \n",
      "\n",
      "   emp.var.rate  cons.price.idx  cons.conf.idx  euribor3m  nr.employed  \n",
      "0           1.1          93.994          -36.4      4.857       5191.0  \n",
      "1           1.1          93.994          -36.4      4.857       5191.0  \n",
      "2           1.1          93.994          -36.4      4.857       5191.0  \n",
      "3           1.1          93.994          -36.4      4.857       5191.0  \n",
      "4           1.1          93.994          -36.4      4.857       5191.0  \n",
      "\n",
      "[5 rows x 21 columns]\n"
     ]
    }
   ],
   "source": [
    "label = LabelEncoder()\n",
    "bank_object_data = bank_object_data.apply(label.fit_transform)\n",
    "\n",
    "print(bank_object_data.head())\n",
    "\n",
    "bank_final = pd.concat([bank_object_data, bank_non_object_data], axis = 1)\n",
    "\n",
    "print(bank_final.head())"
   ]
  },
  {
   "cell_type": "markdown",
   "metadata": {},
   "source": [
    "__SVD: with imputation; Linear Kernal__"
   ]
  },
  {
   "cell_type": "code",
   "execution_count": 20,
   "metadata": {},
   "outputs": [
    {
     "name": "stdout",
     "output_type": "stream",
     "text": [
      "Accuracy: 89.85%\n",
      "Accuracy: 0.90 (+/- 0.01)\n",
      "Start Time:  2020-04-14 23:02:55.407477 Stop Time:  2020-04-14 23:13:58.893338 Time Taken:  663.4856630999998\n"
     ]
    }
   ],
   "source": [
    "X = bank_final.drop(['y'], axis = 1)\n",
    "Y = bank_final['y']\n",
    "\n",
    "model = SVC(kernel='linear') \n",
    "\n",
    "import timeit\n",
    "\n",
    "start = timeit.default_timer()\n",
    "from datetime import datetime\n",
    "\n",
    "# current date and time\n",
    "begin = datetime.now()\n",
    "\n",
    "\n",
    "kfold = KFold(n_splits=10, random_state=100, shuffle = True)\n",
    "results_kfold = model_selection.cross_val_score(model, X, Y, cv=kfold)\n",
    "print(\"Accuracy: %.2f%%\" % (results_kfold.mean()*100.0))\n",
    "print(\"Accuracy: %0.2f (+/- %0.2f)\" % (results_kfold.mean(), results_kfold.std() * 2))\n",
    "\n",
    "stop = timeit.default_timer()\n",
    "end = datetime.now()\n",
    "print('Start Time: ', begin,\n",
    "      'Stop Time: ', end,\n",
    "      'Time Taken: ', stop - start) "
   ]
  },
  {
   "cell_type": "markdown",
   "metadata": {},
   "source": [
    "__SVD: with imputation; RBF Kernal__"
   ]
  },
  {
   "cell_type": "code",
   "execution_count": 21,
   "metadata": {},
   "outputs": [
    {
     "name": "stdout",
     "output_type": "stream",
     "text": [
      "Accuracy: 89.78%\n",
      "Accuracy: 0.90 (+/- 0.01)\n",
      "Start Time:  2020-04-14 23:14:51.938626 Stop Time:  2020-04-14 23:18:10.259311 Time Taken:  198.32062940000014\n"
     ]
    }
   ],
   "source": [
    "X = bank_final.drop(['y'], axis = 1)\n",
    "Y = bank_final['y']\n",
    "\n",
    "model = SVC(kernel='rbf') \n",
    "\n",
    "import timeit\n",
    "\n",
    "start = timeit.default_timer()\n",
    "from datetime import datetime\n",
    "\n",
    "# current date and time\n",
    "begin = datetime.now()\n",
    "\n",
    "\n",
    "kfold = KFold(n_splits=10, random_state=100, shuffle = True)\n",
    "results_kfold = model_selection.cross_val_score(model, X, Y, cv=kfold)\n",
    "print(\"Accuracy: %.2f%%\" % (results_kfold.mean()*100.0))\n",
    "print(\"Accuracy: %0.2f (+/- %0.2f)\" % (results_kfold.mean(), results_kfold.std() * 2))\n",
    "\n",
    "stop = timeit.default_timer()\n",
    "end = datetime.now()\n",
    "print('Start Time: ', begin,\n",
    "      'Stop Time: ', end,\n",
    "      'Time Taken: ', stop - start) "
   ]
  },
  {
   "cell_type": "markdown",
   "metadata": {},
   "source": [
    "__SVD: with imputation; Polynomial Kernal__"
   ]
  },
  {
   "cell_type": "code",
   "execution_count": 22,
   "metadata": {},
   "outputs": [
    {
     "name": "stdout",
     "output_type": "stream",
     "text": [
      "Accuracy: 89.81%\n",
      "Accuracy: 0.90 (+/- 0.01)\n",
      "Start Time:  2020-04-14 23:18:43.104214 Stop Time:  2020-04-14 23:20:54.967820 Time Taken:  131.86287709999942\n"
     ]
    }
   ],
   "source": [
    "X = bank_final.drop(['y'], axis = 1)\n",
    "Y = bank_final['y']\n",
    "\n",
    "model = SVC(kernel='poly') \n",
    "\n",
    "import timeit\n",
    "\n",
    "start = timeit.default_timer()\n",
    "from datetime import datetime\n",
    "\n",
    "# current date and time\n",
    "begin = datetime.now()\n",
    "\n",
    "\n",
    "kfold = KFold(n_splits=10, random_state=100, shuffle = True)\n",
    "results_kfold = model_selection.cross_val_score(model, X, Y, cv=kfold)\n",
    "print(\"Accuracy: %.2f%%\" % (results_kfold.mean()*100.0))\n",
    "print(\"Accuracy: %0.2f (+/- %0.2f)\" % (results_kfold.mean(), results_kfold.std() * 2))\n",
    "\n",
    "stop = timeit.default_timer()\n",
    "end = datetime.now()\n",
    "print('Start Time: ', begin,\n",
    "      'Stop Time: ', end,\n",
    "      'Time Taken: ', stop - start) "
   ]
  },
  {
   "cell_type": "markdown",
   "metadata": {},
   "source": [
    "__SVD: with imputation; Sigmoid Kernal__"
   ]
  },
  {
   "cell_type": "code",
   "execution_count": 23,
   "metadata": {},
   "outputs": [
    {
     "name": "stdout",
     "output_type": "stream",
     "text": [
      "Accuracy: 89.81%\n",
      "Accuracy: 0.90 (+/- 0.01)\n",
      "Start Time:  2020-04-14 23:26:24.220107 Stop Time:  2020-04-14 23:30:51.090374 Time Taken:  266.8700749999998\n"
     ]
    }
   ],
   "source": [
    "X = bank_final.drop(['y'], axis = 1)\n",
    "Y = bank_final['y']\n",
    "\n",
    "model = SVC(kernel='sigmoid') \n",
    "\n",
    "import timeit\n",
    "\n",
    "start = timeit.default_timer()\n",
    "from datetime import datetime\n",
    "\n",
    "# current date and time\n",
    "begin = datetime.now()\n",
    "\n",
    "\n",
    "kfold = KFold(n_splits=10, random_state=100, shuffle = True)\n",
    "results_kfold = model_selection.cross_val_score(model, X, Y, cv=kfold)\n",
    "print(\"Accuracy: %.2f%%\" % (results_kfold.mean()*100.0))\n",
    "print(\"Accuracy: %0.2f (+/- %0.2f)\" % (results_kfold.mean(), results_kfold.std() * 2))\n",
    "\n",
    "stop = timeit.default_timer()\n",
    "end = datetime.now()\n",
    "print('Start Time: ', begin,\n",
    "      'Stop Time: ', end,\n",
    "      'Time Taken: ', stop - start) "
   ]
  },
  {
   "cell_type": "code",
   "execution_count": null,
   "metadata": {},
   "outputs": [],
   "source": []
  },
  {
   "cell_type": "code",
   "execution_count": null,
   "metadata": {},
   "outputs": [],
   "source": []
  },
  {
   "cell_type": "code",
   "execution_count": null,
   "metadata": {},
   "outputs": [],
   "source": [
    "model = SVC(kernel='rbf') "
   ]
  },
  {
   "cell_type": "code",
   "execution_count": null,
   "metadata": {},
   "outputs": [],
   "source": [
    "import timeit\n",
    "\n",
    "start = timeit.default_timer()\n",
    "from datetime import datetime\n",
    "\n",
    "# current date and time\n",
    "begin = datetime.now()\n",
    "\n",
    "\n",
    "kfold = KFold(n_splits=10, random_state=100, shuffle = True)\n",
    "results_kfold = model_selection.cross_val_score(model, X, Y, cv=kfold)\n",
    "print(\"Accuracy: %.2f%%\" % (results_kfold.mean()*100.0))\n",
    "\n",
    "stop = timeit.default_timer()\n",
    "end = datetime.now()\n",
    "print('Start Time: ', begin,\n",
    "      'Stop Time: ', end,\n",
    "      'Time Taken: ', stop - start) "
   ]
  },
  {
   "cell_type": "code",
   "execution_count": null,
   "metadata": {},
   "outputs": [],
   "source": [
    "print(\"Accuracy: %0.2f (+/- %0.2f)\" % (results_kfold.mean(), results_kfold.std() * 2))"
   ]
  },
  {
   "cell_type": "code",
   "execution_count": null,
   "metadata": {},
   "outputs": [],
   "source": [
    "model = SVC(kernel='poly') "
   ]
  },
  {
   "cell_type": "code",
   "execution_count": null,
   "metadata": {},
   "outputs": [],
   "source": [
    "import timeit\n",
    "\n",
    "start = timeit.default_timer()\n",
    "from datetime import datetime\n",
    "\n",
    "# current date and time\n",
    "begin = datetime.now()\n",
    "\n",
    "\n",
    "kfold = KFold(n_splits=10, random_state=100, shuffle = True)\n",
    "results_kfold = model_selection.cross_val_score(model, X, Y, cv=kfold)\n",
    "print(\"Accuracy: %.2f%%\" % (results_kfold.mean()*100.0))\n",
    "\n",
    "stop = timeit.default_timer()\n",
    "end = datetime.now()\n",
    "print('Start Time: ', begin,\n",
    "      'Stop Time: ', end,\n",
    "      'Time Taken: ', stop - start) "
   ]
  },
  {
   "cell_type": "code",
   "execution_count": null,
   "metadata": {},
   "outputs": [],
   "source": [
    "print(\"Accuracy: %0.2f (+/- %0.2f)\" % (results_kfold.mean(), results_kfold.std() * 2))"
   ]
  },
  {
   "cell_type": "code",
   "execution_count": null,
   "metadata": {},
   "outputs": [],
   "source": [
    "model = SVC(kernel='sigmoid') "
   ]
  },
  {
   "cell_type": "code",
   "execution_count": null,
   "metadata": {},
   "outputs": [],
   "source": [
    "import timeit\n",
    "\n",
    "start = timeit.default_timer()\n",
    "from datetime import datetime\n",
    "\n",
    "# current date and time\n",
    "begin = datetime.now()\n",
    "\n",
    "\n",
    "kfold = KFold(n_splits=10, random_state=100, shuffle = True)\n",
    "results_kfold = model_selection.cross_val_score(model, X, Y, cv=kfold)\n",
    "print(\"Accuracy: %.2f%%\" % (results_kfold.mean()*100.0))\n",
    "\n",
    "stop = timeit.default_timer()\n",
    "end = datetime.now()\n",
    "print('Start Time: ', begin,\n",
    "      'Stop Time: ', end,\n",
    "      'Time Taken: ', stop - start) "
   ]
  },
  {
   "cell_type": "code",
   "execution_count": null,
   "metadata": {},
   "outputs": [],
   "source": []
  },
  {
   "cell_type": "code",
   "execution_count": null,
   "metadata": {},
   "outputs": [],
   "source": [
    "model = GaussianNB()\n",
    "model.fit(xtrain, ytrain)\n",
    "ypredictNaiveBaiyes = model.predict(xtest)"
   ]
  },
  {
   "cell_type": "code",
   "execution_count": null,
   "metadata": {},
   "outputs": [],
   "source": [
    "model.fit(xtrain, ytrain)\n",
    "ypredictDecisionTree=model.predict(xtest)"
   ]
  },
  {
   "cell_type": "code",
   "execution_count": null,
   "metadata": {},
   "outputs": [],
   "source": [
    "model.score(xtrain, ytrain)"
   ]
  },
  {
   "cell_type": "code",
   "execution_count": null,
   "metadata": {},
   "outputs": [],
   "source": [
    "accuracy_score(ytest,ypredictDecisionTree)"
   ]
  }
 ],
 "metadata": {
  "kernelspec": {
   "display_name": "Python 3",
   "language": "python",
   "name": "python3"
  },
  "language_info": {
   "codemirror_mode": {
    "name": "ipython",
    "version": 3
   },
   "file_extension": ".py",
   "mimetype": "text/x-python",
   "name": "python",
   "nbconvert_exporter": "python",
   "pygments_lexer": "ipython3",
   "version": "3.7.4"
  }
 },
 "nbformat": 4,
 "nbformat_minor": 2
}
