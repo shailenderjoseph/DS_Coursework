{
 "cells": [
  {
   "cell_type": "code",
   "execution_count": 1,
   "metadata": {},
   "outputs": [],
   "source": [
    "import pandas as pd\n",
    "import numpy as np\n",
    "from sklearn.model_selection import train_test_split\n",
    "from sklearn.preprocessing import LabelEncoder\n",
    "from sklearn.naive_bayes import GaussianNB\n",
    "from sklearn.metrics import accuracy_score\n",
    "from sklearn import model_selection\n",
    "from sklearn.model_selection import KFold"
   ]
  },
  {
   "cell_type": "markdown",
   "metadata": {},
   "source": [
    "__Naive Bayes CLassifier: w/o any modification of missing data__"
   ]
  },
  {
   "cell_type": "code",
   "execution_count": 2,
   "metadata": {},
   "outputs": [
    {
     "name": "stdout",
     "output_type": "stream",
     "text": [
      "<class 'pandas.core.frame.DataFrame'>\n",
      "RangeIndex: 41188 entries, 0 to 41187\n",
      "Data columns (total 11 columns):\n",
      "job            41188 non-null object\n",
      "marital        41188 non-null object\n",
      "education      41188 non-null object\n",
      "default        41188 non-null object\n",
      "housing        41188 non-null object\n",
      "loan           41188 non-null object\n",
      "contact        41188 non-null object\n",
      "month          41188 non-null object\n",
      "day_of_week    41188 non-null object\n",
      "poutcome       41188 non-null object\n",
      "y              41188 non-null object\n",
      "dtypes: object(11)\n",
      "memory usage: 3.5+ MB\n",
      "<class 'pandas.core.frame.DataFrame'>\n",
      "RangeIndex: 41188 entries, 0 to 41187\n",
      "Data columns (total 10 columns):\n",
      "age               41188 non-null int64\n",
      "duration          41188 non-null int64\n",
      "campaign          41188 non-null int64\n",
      "pdays             41188 non-null int64\n",
      "previous          41188 non-null int64\n",
      "emp.var.rate      41188 non-null float64\n",
      "cons.price.idx    41188 non-null float64\n",
      "cons.conf.idx     41188 non-null float64\n",
      "euribor3m         41188 non-null float64\n",
      "nr.employed       41188 non-null float64\n",
      "dtypes: float64(5), int64(5)\n",
      "memory usage: 3.1 MB\n",
      "None\n",
      "   job  marital  education  default  housing  loan  contact  month  \\\n",
      "0    3        1          0        0        0     0        1      6   \n",
      "1    7        1          3        1        0     0        1      6   \n",
      "2    7        1          3        0        2     0        1      6   \n",
      "3    0        1          1        0        0     0        1      6   \n",
      "4    7        1          3        0        0     2        1      6   \n",
      "\n",
      "   day_of_week  poutcome  y  \n",
      "0            1         1  0  \n",
      "1            1         1  0  \n",
      "2            1         1  0  \n",
      "3            1         1  0  \n",
      "4            1         1  0  \n",
      "   job  marital  education  default  housing  loan  contact  month  \\\n",
      "0    3        1          0        0        0     0        1      6   \n",
      "1    7        1          3        1        0     0        1      6   \n",
      "2    7        1          3        0        2     0        1      6   \n",
      "3    0        1          1        0        0     0        1      6   \n",
      "4    7        1          3        0        0     2        1      6   \n",
      "\n",
      "   day_of_week  poutcome  ...  age  duration  campaign  pdays  previous  \\\n",
      "0            1         1  ...   56       261         1    999         0   \n",
      "1            1         1  ...   57       149         1    999         0   \n",
      "2            1         1  ...   37       226         1    999         0   \n",
      "3            1         1  ...   40       151         1    999         0   \n",
      "4            1         1  ...   56       307         1    999         0   \n",
      "\n",
      "   emp.var.rate  cons.price.idx  cons.conf.idx  euribor3m  nr.employed  \n",
      "0           1.1          93.994          -36.4      4.857       5191.0  \n",
      "1           1.1          93.994          -36.4      4.857       5191.0  \n",
      "2           1.1          93.994          -36.4      4.857       5191.0  \n",
      "3           1.1          93.994          -36.4      4.857       5191.0  \n",
      "4           1.1          93.994          -36.4      4.857       5191.0  \n",
      "\n",
      "[5 rows x 21 columns]\n"
     ]
    }
   ],
   "source": [
    "df = pd.read_csv('bank-data/bank-additional-full.csv')\n",
    "\n",
    "bank_object_data = df.select_dtypes(include=\"object\")\n",
    "bank_object_data.info()\n",
    "\n",
    "bank_non_object_data = df.select_dtypes(exclude=\"object\")\n",
    "print(bank_non_object_data.info())\n",
    "\n",
    "label = LabelEncoder()\n",
    "bank_object_data = bank_object_data.apply(label.fit_transform)\n",
    "\n",
    "print(bank_object_data.head())\n",
    "\n",
    "bank_final = pd.concat([bank_object_data, bank_non_object_data], axis = 1)\n",
    "print(bank_final.head())"
   ]
  },
  {
   "cell_type": "markdown",
   "metadata": {},
   "source": [
    "__Naive Bayes CLassifier: w/o any modification of missing data; k fold and shuffle__"
   ]
  },
  {
   "cell_type": "code",
   "execution_count": 3,
   "metadata": {},
   "outputs": [
    {
     "name": "stdout",
     "output_type": "stream",
     "text": [
      "Accuracy: 84.65%\n",
      "Accuracy: 0.85 (+/- 0.01)\n"
     ]
    }
   ],
   "source": [
    "X = bank_final.drop(['y'], axis = 1)\n",
    "Y = bank_final['y']\n",
    "\n",
    "model = GaussianNB()\n",
    "\n",
    "kfold = KFold(n_splits=10, random_state=100, shuffle = True)\n",
    "results_kfold = model_selection.cross_val_score(model, X, Y, cv=kfold)\n",
    "print(\"Accuracy: %.2f%%\" % (results_kfold.mean()*100.0))\n",
    "print(\"Accuracy: %0.2f (+/- %0.2f)\" % (results_kfold.mean(), results_kfold.std() * 2))"
   ]
  },
  {
   "cell_type": "markdown",
   "metadata": {},
   "source": [
    "__Naive Bayes CLassifier: w/o any modification of missing data; k fold and no shuffle__"
   ]
  },
  {
   "cell_type": "code",
   "execution_count": 18,
   "metadata": {},
   "outputs": [
    {
     "name": "stdout",
     "output_type": "stream",
     "text": [
      "Accuracy: 83.35%\n",
      "Accuracy: 0.83 (+/- 0.34)\n"
     ]
    },
    {
     "data": {
      "text/plain": [
       "array([0.97353727, 0.96649672, 0.96042729, 0.93614955, 0.94391843,\n",
       "       0.94561787, 0.84219471, 0.62709395, 0.64011656, 0.49902865])"
      ]
     },
     "execution_count": 18,
     "metadata": {},
     "output_type": "execute_result"
    }
   ],
   "source": [
    "X = bank_final.drop(['y'], axis = 1)\n",
    "Y = bank_final['y']\n",
    "\n",
    "model = GaussianNB()\n",
    "\n",
    "kfold = KFold(n_splits=10)\n",
    "results_kfold = model_selection.cross_val_score(model, X, Y, cv=kfold)\n",
    "print(\"Accuracy: %.2f%%\" % (results_kfold.mean()*100.0))\n",
    "print(\"Accuracy: %0.2f (+/- %0.2f)\" % (results_kfold.mean(), results_kfold.std() * 2))\n",
    "results_kfold"
   ]
  },
  {
   "cell_type": "markdown",
   "metadata": {},
   "source": [
    "__Naive Bayes CLassifier: w/o any modification of missing data; stratified k fold__"
   ]
  },
  {
   "cell_type": "code",
   "execution_count": 16,
   "metadata": {},
   "outputs": [
    {
     "name": "stdout",
     "output_type": "stream",
     "text": [
      "Accuracy: 83.84%\n",
      "Accuracy: 0.84 (+/- 0.01)\n"
     ]
    },
    {
     "data": {
      "text/plain": [
       "array([0.8315125 , 0.83515416, 0.84365137, 0.83733916, 0.83855305,\n",
       "       0.83224084, 0.84340859, 0.84365137, 0.83341428, 0.8455561 ])"
      ]
     },
     "execution_count": 16,
     "metadata": {},
     "output_type": "execute_result"
    }
   ],
   "source": [
    "from sklearn.model_selection import StratifiedKFold\n",
    "X = bank_final.drop(['y'], axis = 1)\n",
    "Y = bank_final['y']\n",
    "\n",
    "model = GaussianNB()\n",
    "\n",
    "skfold = StratifiedKFold(n_splits=10, random_state=100, shuffle = True)\n",
    "results_kfold = model_selection.cross_val_score(model, X, Y, cv=skfold)\n",
    "print(\"Accuracy: %.2f%%\" % (results_kfold.mean()*100.0)) \n",
    "print(\"Accuracy: %0.2f (+/- %0.2f)\" % (results_kfold.mean(), results_kfold.std() * 2))\n",
    "results_kfold"
   ]
  },
  {
   "cell_type": "markdown",
   "metadata": {},
   "source": [
    "__Naive Bayes CLassifier: deleting missing data__"
   ]
  },
  {
   "cell_type": "code",
   "execution_count": 19,
   "metadata": {},
   "outputs": [
    {
     "name": "stdout",
     "output_type": "stream",
     "text": [
      "(41188, 21)\n",
      "Index(['age', 'job', 'marital', 'education', 'default', 'housing', 'loan',\n",
      "       'contact', 'month', 'day_of_week', 'duration', 'campaign', 'pdays',\n",
      "       'previous', 'poutcome', 'emp.var.rate', 'cons.price.idx',\n",
      "       'cons.conf.idx', 'euribor3m', 'nr.employed', 'y'],\n",
      "      dtype='object')\n",
      "age                  0\n",
      "job                330\n",
      "marital             80\n",
      "education         1731\n",
      "default           8597\n",
      "housing            990\n",
      "loan               990\n",
      "contact              0\n",
      "month                0\n",
      "day_of_week          0\n",
      "duration             0\n",
      "campaign             0\n",
      "pdays                0\n",
      "previous             0\n",
      "poutcome             0\n",
      "emp.var.rate         0\n",
      "cons.price.idx       0\n",
      "cons.conf.idx        0\n",
      "euribor3m            0\n",
      "nr.employed          0\n",
      "y                    0\n",
      "dtype: int64\n",
      "age                  0\n",
      "job                330\n",
      "marital             80\n",
      "education         1731\n",
      "default           8597\n",
      "housing            990\n",
      "loan               990\n",
      "contact              0\n",
      "month                0\n",
      "day_of_week          0\n",
      "duration             0\n",
      "campaign             0\n",
      "pdays                0\n",
      "previous             0\n",
      "poutcome             0\n",
      "emp.var.rate         0\n",
      "cons.price.idx       0\n",
      "cons.conf.idx        0\n",
      "euribor3m            0\n",
      "nr.employed          0\n",
      "y                    0\n",
      "dtype: int64\n",
      "(30488, 21)\n"
     ]
    },
    {
     "name": "stderr",
     "output_type": "stream",
     "text": [
      "C:\\Python3\\lib\\site-packages\\pandas\\core\\ops\\__init__.py:1115: FutureWarning: elementwise comparison failed; returning scalar instead, but in the future will perform elementwise comparison\n",
      "  result = method(y)\n"
     ]
    },
    {
     "name": "stdout",
     "output_type": "stream",
     "text": [
      "age               0\n",
      "job               0\n",
      "marital           0\n",
      "education         0\n",
      "default           0\n",
      "housing           0\n",
      "loan              0\n",
      "contact           0\n",
      "month             0\n",
      "day_of_week       0\n",
      "duration          0\n",
      "campaign          0\n",
      "pdays             0\n",
      "previous          0\n",
      "poutcome          0\n",
      "emp.var.rate      0\n",
      "cons.price.idx    0\n",
      "cons.conf.idx     0\n",
      "euribor3m         0\n",
      "nr.employed       0\n",
      "y                 0\n",
      "dtype: int64\n"
     ]
    }
   ],
   "source": [
    "df = pd.read_csv('bank-data/bank-additional-full.csv')\n",
    "print(df.shape)\n",
    "print(df.columns)\n",
    "print((df[['age', 'job', 'marital', 'education', 'default', 'housing', 'loan',\n",
    "       'contact', 'month', 'day_of_week', 'duration', 'campaign', 'pdays',\n",
    "       'previous', 'poutcome', 'emp.var.rate', 'cons.price.idx',\n",
    "       'cons.conf.idx', 'euribor3m', 'nr.employed', 'y']] == 'unknown').sum())\n",
    "\n",
    "df[['age', 'job', 'marital', 'education', 'default', 'housing', 'loan',\n",
    "       'contact', 'month', 'day_of_week', 'duration', 'campaign', 'pdays',\n",
    "       'previous', 'poutcome', 'emp.var.rate', 'cons.price.idx',\n",
    "       'cons.conf.idx', 'euribor3m', 'nr.employed', 'y']] = df[['age', 'job', 'marital', 'education', 'default', 'housing', 'loan',\n",
    "       'contact', 'month', 'day_of_week', 'duration', 'campaign', 'pdays',\n",
    "       'previous', 'poutcome', 'emp.var.rate', 'cons.price.idx',\n",
    "       'cons.conf.idx', 'euribor3m', 'nr.employed', 'y']].replace('unknown', np.NaN)\n",
    "print(df.isnull().sum())\n",
    "\n",
    "df.dropna(inplace=True)\n",
    "# summarize the number of rows and columns in the dataset\n",
    "print(df.shape)\n",
    "print(df.isnull().sum())"
   ]
  },
  {
   "cell_type": "code",
   "execution_count": 20,
   "metadata": {},
   "outputs": [
    {
     "name": "stdout",
     "output_type": "stream",
     "text": [
      "<class 'pandas.core.frame.DataFrame'>\n",
      "Int64Index: 30488 entries, 0 to 41187\n",
      "Data columns (total 11 columns):\n",
      "job            30488 non-null object\n",
      "marital        30488 non-null object\n",
      "education      30488 non-null object\n",
      "default        30488 non-null object\n",
      "housing        30488 non-null object\n",
      "loan           30488 non-null object\n",
      "contact        30488 non-null object\n",
      "month          30488 non-null object\n",
      "day_of_week    30488 non-null object\n",
      "poutcome       30488 non-null object\n",
      "y              30488 non-null object\n",
      "dtypes: object(11)\n",
      "memory usage: 2.8+ MB\n",
      "None\n",
      "<class 'pandas.core.frame.DataFrame'>\n",
      "Int64Index: 30488 entries, 0 to 41187\n",
      "Data columns (total 10 columns):\n",
      "age               30488 non-null int64\n",
      "duration          30488 non-null int64\n",
      "campaign          30488 non-null int64\n",
      "pdays             30488 non-null int64\n",
      "previous          30488 non-null int64\n",
      "emp.var.rate      30488 non-null float64\n",
      "cons.price.idx    30488 non-null float64\n",
      "cons.conf.idx     30488 non-null float64\n",
      "euribor3m         30488 non-null float64\n",
      "nr.employed       30488 non-null float64\n",
      "dtypes: float64(5), int64(5)\n",
      "memory usage: 2.6 MB\n",
      "None\n",
      "   job  marital  education  default  housing  loan  contact  month  \\\n",
      "0    3        1          0        0        0     0        1      6   \n",
      "2    7        1          3        0        1     0        1      6   \n",
      "3    0        1          1        0        0     0        1      6   \n",
      "4    7        1          3        0        0     1        1      6   \n",
      "6    0        1          5        0        0     0        1      6   \n",
      "\n",
      "   day_of_week  poutcome  y  \n",
      "0            1         1  0  \n",
      "2            1         1  0  \n",
      "3            1         1  0  \n",
      "4            1         1  0  \n",
      "6            1         1  0  \n",
      "   job  marital  education  default  housing  loan  contact  month  \\\n",
      "0    3        1          0        0        0     0        1      6   \n",
      "2    7        1          3        0        1     0        1      6   \n",
      "3    0        1          1        0        0     0        1      6   \n",
      "4    7        1          3        0        0     1        1      6   \n",
      "6    0        1          5        0        0     0        1      6   \n",
      "\n",
      "   day_of_week  poutcome  ...  age  duration  campaign  pdays  previous  \\\n",
      "0            1         1  ...   56       261         1    999         0   \n",
      "2            1         1  ...   37       226         1    999         0   \n",
      "3            1         1  ...   40       151         1    999         0   \n",
      "4            1         1  ...   56       307         1    999         0   \n",
      "6            1         1  ...   59       139         1    999         0   \n",
      "\n",
      "   emp.var.rate  cons.price.idx  cons.conf.idx  euribor3m  nr.employed  \n",
      "0           1.1          93.994          -36.4      4.857       5191.0  \n",
      "2           1.1          93.994          -36.4      4.857       5191.0  \n",
      "3           1.1          93.994          -36.4      4.857       5191.0  \n",
      "4           1.1          93.994          -36.4      4.857       5191.0  \n",
      "6           1.1          93.994          -36.4      4.857       5191.0  \n",
      "\n",
      "[5 rows x 21 columns]\n"
     ]
    }
   ],
   "source": [
    "bank_object_data = df.select_dtypes(include=\"object\")\n",
    "print(bank_object_data.info())\n",
    "\n",
    "bank_non_object_data = df.select_dtypes(exclude=\"object\")\n",
    "print(bank_non_object_data.info())\n",
    "\n",
    "label = LabelEncoder()\n",
    "bank_object_data = bank_object_data.apply(label.fit_transform)\n",
    "\n",
    "print(bank_object_data.head())\n",
    "\n",
    "bank_final = pd.concat([bank_object_data, bank_non_object_data], axis = 1)\n",
    "\n",
    "print(bank_final.head())"
   ]
  },
  {
   "cell_type": "markdown",
   "metadata": {},
   "source": [
    "__Naive Bayes CLassifier: w/o any modification of missing data; k fold and shuffle__"
   ]
  },
  {
   "cell_type": "code",
   "execution_count": 23,
   "metadata": {},
   "outputs": [
    {
     "name": "stdout",
     "output_type": "stream",
     "text": [
      "Accuracy: 82.58%\n",
      "Accuracy: 0.83 (+/- 0.02)\n"
     ]
    },
    {
     "data": {
      "text/plain": [
       "array([0.83437193, 0.81600525, 0.82289275, 0.84388324, 0.82322073,\n",
       "       0.82584454, 0.82322073, 0.83043621, 0.82217848, 0.81594488])"
      ]
     },
     "execution_count": 23,
     "metadata": {},
     "output_type": "execute_result"
    }
   ],
   "source": [
    "X = bank_final.drop(['y'], axis = 1)\n",
    "Y = bank_final['y']\n",
    "\n",
    "model = GaussianNB()\n",
    "\n",
    "kfold = KFold(n_splits=10, random_state=100, shuffle = True)\n",
    "results_kfold = model_selection.cross_val_score(model, X, Y, cv=kfold)\n",
    "print(\"Accuracy: %.2f%%\" % (results_kfold.mean()*100.0)) \n",
    "print(\"Accuracy: %0.2f (+/- %0.2f)\" % (results_kfold.mean(), results_kfold.std() * 2))\n",
    "results_kfold"
   ]
  },
  {
   "cell_type": "markdown",
   "metadata": {},
   "source": [
    "__Naive Bayes CLassifier: w/o any modification of missing data; k fold and no shuffle__"
   ]
  },
  {
   "cell_type": "code",
   "execution_count": 24,
   "metadata": {},
   "outputs": [
    {
     "name": "stdout",
     "output_type": "stream",
     "text": [
      "Accuracy: 82.05%\n",
      "Accuracy: 0.82 (+/- 0.33)\n"
     ]
    },
    {
     "data": {
      "text/plain": [
       "array([0.97408987, 0.96228272, 0.95080354, 0.93538865, 0.94522794,\n",
       "       0.93998032, 0.71892424, 0.63463431, 0.60498688, 0.53838583])"
      ]
     },
     "execution_count": 24,
     "metadata": {},
     "output_type": "execute_result"
    }
   ],
   "source": [
    "X = bank_final.drop(['y'], axis = 1)\n",
    "Y = bank_final['y']\n",
    "\n",
    "model = GaussianNB()\n",
    "\n",
    "kfold = KFold(n_splits=10)\n",
    "results_kfold = model_selection.cross_val_score(model, X, Y, cv=kfold)\n",
    "print(\"Accuracy: %.2f%%\" % (results_kfold.mean()*100.0)) \n",
    "print(\"Accuracy: %0.2f (+/- %0.2f)\" % (results_kfold.mean(), results_kfold.std() * 2))\n",
    "results_kfold"
   ]
  },
  {
   "cell_type": "markdown",
   "metadata": {},
   "source": [
    "__Naive Bayes CLassifier: w/o any modification of missing data; stratified k fold and shuffle__"
   ]
  },
  {
   "cell_type": "code",
   "execution_count": 25,
   "metadata": {},
   "outputs": [
    {
     "name": "stdout",
     "output_type": "stream",
     "text": [
      "Accuracy: 82.58%\n",
      "Accuracy: 0.83 (+/- 0.01)\n"
     ]
    },
    {
     "data": {
      "text/plain": [
       "array([0.82551656, 0.82059692, 0.83043621, 0.82256478, 0.82650049,\n",
       "       0.8278124 , 0.82551656, 0.81633322, 0.82972441, 0.83333333])"
      ]
     },
     "execution_count": 25,
     "metadata": {},
     "output_type": "execute_result"
    }
   ],
   "source": [
    "from sklearn.model_selection import StratifiedKFold\n",
    "X = bank_final.drop(['y'], axis = 1)\n",
    "Y = bank_final['y']\n",
    "\n",
    "model = GaussianNB()\n",
    "\n",
    "skfold = StratifiedKFold(n_splits=10, random_state=100, shuffle = True)\n",
    "results_kfold = model_selection.cross_val_score(model, X, Y, cv=skfold)\n",
    "print(\"Accuracy: %.2f%%\" % (results_kfold.mean()*100.0)) \n",
    "print(\"Accuracy: %0.2f (+/- %0.2f)\" % (results_kfold.mean(), results_kfold.std() * 2))\n",
    "results_kfold"
   ]
  },
  {
   "cell_type": "markdown",
   "metadata": {},
   "source": [
    "__Naive Bayes CLassifier: with imputation__"
   ]
  },
  {
   "cell_type": "code",
   "execution_count": 2,
   "metadata": {},
   "outputs": [
    {
     "name": "stdout",
     "output_type": "stream",
     "text": [
      "(41188, 21)\n",
      "Index(['age', 'job', 'marital', 'education', 'default', 'housing', 'loan',\n",
      "       'contact', 'month', 'day_of_week', 'duration', 'campaign', 'pdays',\n",
      "       'previous', 'poutcome', 'emp.var.rate', 'cons.price.idx',\n",
      "       'cons.conf.idx', 'euribor3m', 'nr.employed', 'y'],\n",
      "      dtype='object')\n",
      "age                  0\n",
      "job                330\n",
      "marital             80\n",
      "education         1731\n",
      "default           8597\n",
      "housing            990\n",
      "loan               990\n",
      "contact              0\n",
      "month                0\n",
      "day_of_week          0\n",
      "duration             0\n",
      "campaign             0\n",
      "pdays                0\n",
      "previous             0\n",
      "poutcome             0\n",
      "emp.var.rate         0\n",
      "cons.price.idx       0\n",
      "cons.conf.idx        0\n",
      "euribor3m            0\n",
      "nr.employed          0\n",
      "y                    0\n",
      "dtype: int64\n",
      "age                  0\n",
      "job                330\n",
      "marital             80\n",
      "education         1731\n",
      "default           8597\n",
      "housing            990\n",
      "loan               990\n",
      "contact              0\n",
      "month                0\n",
      "day_of_week          0\n",
      "duration             0\n",
      "campaign             0\n",
      "pdays                0\n",
      "previous             0\n",
      "poutcome             0\n",
      "emp.var.rate         0\n",
      "cons.price.idx       0\n",
      "cons.conf.idx        0\n",
      "euribor3m            0\n",
      "nr.employed          0\n",
      "y                    0\n",
      "dtype: int64\n"
     ]
    },
    {
     "name": "stderr",
     "output_type": "stream",
     "text": [
      "C:\\Python3\\lib\\site-packages\\pandas\\core\\ops\\__init__.py:1115: FutureWarning: elementwise comparison failed; returning scalar instead, but in the future will perform elementwise comparison\n",
      "  result = method(y)\n"
     ]
    }
   ],
   "source": [
    "from sklearn.impute import SimpleImputer \n",
    "imputer = SimpleImputer(missing_values=np.nan, strategy='mean')\n",
    "\n",
    "df = pd.read_csv('bank-data/bank-additional-full.csv')\n",
    "print(df.shape)\n",
    "print(df.columns)\n",
    "print((df[['age', 'job', 'marital', 'education', 'default', 'housing', 'loan',\n",
    "       'contact', 'month', 'day_of_week', 'duration', 'campaign', 'pdays',\n",
    "       'previous', 'poutcome', 'emp.var.rate', 'cons.price.idx',\n",
    "       'cons.conf.idx', 'euribor3m', 'nr.employed', 'y']] == 'unknown').sum())\n",
    "\n",
    "df[['age', 'job', 'marital', 'education', 'default', 'housing', 'loan',\n",
    "       'contact', 'month', 'day_of_week', 'duration', 'campaign', 'pdays',\n",
    "       'previous', 'poutcome', 'emp.var.rate', 'cons.price.idx',\n",
    "       'cons.conf.idx', 'euribor3m', 'nr.employed', 'y']] = df[['age', 'job', 'marital', 'education', 'default', 'housing', 'loan',\n",
    "       'contact', 'month', 'day_of_week', 'duration', 'campaign', 'pdays',\n",
    "       'previous', 'poutcome', 'emp.var.rate', 'cons.price.idx',\n",
    "       'cons.conf.idx', 'euribor3m', 'nr.employed', 'y']].replace('unknown', np.NaN)\n",
    "print(df.isnull().sum())\n"
   ]
  },
  {
   "cell_type": "code",
   "execution_count": 3,
   "metadata": {},
   "outputs": [
    {
     "name": "stdout",
     "output_type": "stream",
     "text": [
      "<class 'pandas.core.frame.DataFrame'>\n",
      "RangeIndex: 41188 entries, 0 to 41187\n",
      "Data columns (total 11 columns):\n",
      "job            40858 non-null object\n",
      "marital        41108 non-null object\n",
      "education      39457 non-null object\n",
      "default        32591 non-null object\n",
      "housing        40198 non-null object\n",
      "loan           40198 non-null object\n",
      "contact        41188 non-null object\n",
      "month          41188 non-null object\n",
      "day_of_week    41188 non-null object\n",
      "poutcome       41188 non-null object\n",
      "y              41188 non-null object\n",
      "dtypes: object(11)\n",
      "memory usage: 3.5+ MB\n",
      "None\n",
      "<class 'pandas.core.frame.DataFrame'>\n",
      "RangeIndex: 41188 entries, 0 to 41187\n",
      "Data columns (total 10 columns):\n",
      "age               41188 non-null int64\n",
      "duration          41188 non-null int64\n",
      "campaign          41188 non-null int64\n",
      "pdays             41188 non-null int64\n",
      "previous          41188 non-null int64\n",
      "emp.var.rate      41188 non-null float64\n",
      "cons.price.idx    41188 non-null float64\n",
      "cons.conf.idx     41188 non-null float64\n",
      "euribor3m         41188 non-null float64\n",
      "nr.employed       41188 non-null float64\n",
      "dtypes: float64(5), int64(5)\n",
      "memory usage: 3.1 MB\n",
      "None\n",
      "0\n",
      "0\n"
     ]
    }
   ],
   "source": [
    "bank_object_data = df.select_dtypes(include=\"object\")\n",
    "print(bank_object_data.info())\n",
    "\n",
    "bank_non_object_data = df.select_dtypes(exclude=\"object\")\n",
    "print(bank_non_object_data.info())\n",
    "\n",
    "values = bank_non_object_data.values\n",
    "#imputer = Imputer()\n",
    "transformed_values = imputer.fit_transform(values)\n",
    "# count the number of NaN values in each column\n",
    "print(np.isnan(transformed_values).sum())\n",
    "print(np.isnan(bank_non_object_data.values).sum())"
   ]
  },
  {
   "cell_type": "code",
   "execution_count": 4,
   "metadata": {},
   "outputs": [],
   "source": [
    "from sklearn.base import TransformerMixin\n",
    "\n",
    "class DataFrameImputer(TransformerMixin):\n",
    "\n",
    "    def __init__(self):\n",
    "        \"\"\"Impute missing values.\n",
    "\n",
    "        Columns of dtype object are imputed with the most frequent value \n",
    "        in column.\n",
    "\n",
    "        Columns of other types are imputed with mean of column.\n",
    "\n",
    "        \"\"\"\n",
    "    def fit(self, X, y=None):\n",
    "\n",
    "        self.fill = pd.Series([X[c].value_counts().index[0]\n",
    "            if X[c].dtype == np.dtype('O') else X[c].mean() for c in X],\n",
    "            index=X.columns)\n",
    "\n",
    "        return self\n",
    "\n",
    "    def transform(self, X, y=None):\n",
    "        return X.fillna(self.fill)\n",
    "\n",
    "\n",
    "bank_object_data = DataFrameImputer().fit_transform(bank_object_data)"
   ]
  },
  {
   "cell_type": "code",
   "execution_count": 5,
   "metadata": {},
   "outputs": [
    {
     "name": "stdout",
     "output_type": "stream",
     "text": [
      "   job  marital  education  default  housing  loan  contact  month  \\\n",
      "0    3        1          0        0        0     0        1      6   \n",
      "1    7        1          3        0        0     0        1      6   \n",
      "2    7        1          3        0        1     0        1      6   \n",
      "3    0        1          1        0        0     0        1      6   \n",
      "4    7        1          3        0        0     1        1      6   \n",
      "\n",
      "   day_of_week  poutcome  y  \n",
      "0            1         1  0  \n",
      "1            1         1  0  \n",
      "2            1         1  0  \n",
      "3            1         1  0  \n",
      "4            1         1  0  \n",
      "   job  marital  education  default  housing  loan  contact  month  \\\n",
      "0    3        1          0        0        0     0        1      6   \n",
      "1    7        1          3        0        0     0        1      6   \n",
      "2    7        1          3        0        1     0        1      6   \n",
      "3    0        1          1        0        0     0        1      6   \n",
      "4    7        1          3        0        0     1        1      6   \n",
      "\n",
      "   day_of_week  poutcome  ...  age  duration  campaign  pdays  previous  \\\n",
      "0            1         1  ...   56       261         1    999         0   \n",
      "1            1         1  ...   57       149         1    999         0   \n",
      "2            1         1  ...   37       226         1    999         0   \n",
      "3            1         1  ...   40       151         1    999         0   \n",
      "4            1         1  ...   56       307         1    999         0   \n",
      "\n",
      "   emp.var.rate  cons.price.idx  cons.conf.idx  euribor3m  nr.employed  \n",
      "0           1.1          93.994          -36.4      4.857       5191.0  \n",
      "1           1.1          93.994          -36.4      4.857       5191.0  \n",
      "2           1.1          93.994          -36.4      4.857       5191.0  \n",
      "3           1.1          93.994          -36.4      4.857       5191.0  \n",
      "4           1.1          93.994          -36.4      4.857       5191.0  \n",
      "\n",
      "[5 rows x 21 columns]\n"
     ]
    }
   ],
   "source": [
    "label = LabelEncoder()\n",
    "bank_object_data = bank_object_data.apply(label.fit_transform)\n",
    "\n",
    "print(bank_object_data.head())\n",
    "\n",
    "bank_final = pd.concat([bank_object_data, bank_non_object_data], axis = 1)\n",
    "\n",
    "print(bank_final.head())"
   ]
  },
  {
   "cell_type": "code",
   "execution_count": 6,
   "metadata": {},
   "outputs": [
    {
     "name": "stdout",
     "output_type": "stream",
     "text": [
      "Accuracy: 83.85%\n",
      "Accuracy: 0.84 (+/- 0.01)\n"
     ]
    },
    {
     "data": {
      "text/plain": [
       "array([0.82592862, 0.83976693, 0.84340859, 0.84292304, 0.83515416,\n",
       "       0.83806749, 0.83199806, 0.84316582, 0.83997086, 0.84458475])"
      ]
     },
     "execution_count": 6,
     "metadata": {},
     "output_type": "execute_result"
    }
   ],
   "source": [
    "X = bank_final.drop(['y'], axis = 1)\n",
    "Y = bank_final['y']\n",
    "\n",
    "model = GaussianNB()\n",
    "\n",
    "kfold = KFold(n_splits=10, random_state=100, shuffle = True)\n",
    "results_kfold = model_selection.cross_val_score(model, X, Y, cv=kfold)\n",
    "print(\"Accuracy: %.2f%%\" % (results_kfold.mean()*100.0)) \n",
    "print(\"Accuracy: %0.2f (+/- %0.2f)\" % (results_kfold.mean(), results_kfold.std() * 2))\n",
    "results_kfold"
   ]
  },
  {
   "cell_type": "code",
   "execution_count": 7,
   "metadata": {},
   "outputs": [
    {
     "name": "stdout",
     "output_type": "stream",
     "text": [
      "Precision: 36.84%\n",
      "Precision: 0.37 (+/- 0.04)\n"
     ]
    },
    {
     "data": {
      "text/plain": [
       "array([0.33969466, 0.34710744, 0.39164491, 0.38845144, 0.38101266,\n",
       "       0.37820513, 0.36170213, 0.38263229, 0.33914209, 0.37400531])"
      ]
     },
     "execution_count": 7,
     "metadata": {},
     "output_type": "execute_result"
    }
   ],
   "source": [
    "X = bank_final.drop(['y'], axis = 1)\n",
    "Y = bank_final['y']\n",
    "\n",
    "model = GaussianNB()\n",
    "\n",
    "kfold = KFold(n_splits=10, random_state=100, shuffle = True)\n",
    "results_kfold = model_selection.cross_val_score(model, X, Y, scoring = 'precision', cv=kfold)\n",
    "print(\"Precision: %.2f%%\" % (results_kfold.mean()*100.0)) \n",
    "print(\"Precision: %0.2f (+/- %0.2f)\" % (results_kfold.mean(), results_kfold.std() * 2))\n",
    "results_kfold"
   ]
  },
  {
   "cell_type": "code",
   "execution_count": 8,
   "metadata": {},
   "outputs": [
    {
     "name": "stdout",
     "output_type": "stream",
     "text": [
      "Recall: 60.68%\n",
      "Recall: 0.61 (+/- 0.04)\n"
     ]
    },
    {
     "data": {
      "text/plain": [
       "array([0.57419355, 0.57534247, 0.6263048 , 0.62054507, 0.61303462,\n",
       "       0.61844864, 0.61358811, 0.5961945 , 0.60381862, 0.62666667])"
      ]
     },
     "execution_count": 8,
     "metadata": {},
     "output_type": "execute_result"
    }
   ],
   "source": [
    "X = bank_final.drop(['y'], axis = 1)\n",
    "Y = bank_final['y']\n",
    "\n",
    "model = GaussianNB()\n",
    "\n",
    "kfold = KFold(n_splits=10, random_state=100, shuffle = True)\n",
    "results_kfold = model_selection.cross_val_score(model, X, Y, scoring = 'recall', cv=kfold)\n",
    "print(\"Recall: %.2f%%\" % (results_kfold.mean()*100.0)) \n",
    "print(\"Recall: %0.2f (+/- %0.2f)\" % (results_kfold.mean(), results_kfold.std() * 2))\n",
    "results_kfold"
   ]
  },
  {
   "cell_type": "code",
   "execution_count": 9,
   "metadata": {},
   "outputs": [
    {
     "name": "stdout",
     "output_type": "stream",
     "text": [
      "Recall: 60.58%\n",
      "Recall: 0.61 (+/- 0.03)\n"
     ]
    },
    {
     "data": {
      "text/plain": [
       "array([0.60344828, 0.58405172, 0.59482759, 0.62931034, 0.60775862,\n",
       "       0.61422414, 0.61206897, 0.62068966, 0.57758621, 0.61422414])"
      ]
     },
     "execution_count": 9,
     "metadata": {},
     "output_type": "execute_result"
    }
   ],
   "source": [
    "from sklearn.model_selection import StratifiedKFold\n",
    "X = bank_final.drop(['y'], axis = 1)\n",
    "Y = bank_final['y']\n",
    "\n",
    "model = GaussianNB()\n",
    "\n",
    "skfold = StratifiedKFold(n_splits=10, random_state=100, shuffle = True)\n",
    "results_kfold = model_selection.cross_val_score(model, X, Y, scoring='recall', cv=skfold)\n",
    "print(\"Recall: %.2f%%\" % (results_kfold.mean()*100.0)) \n",
    "print(\"Recall: %0.2f (+/- %0.2f)\" % (results_kfold.mean(), results_kfold.std() * 2))\n",
    "results_kfold"
   ]
  },
  {
   "cell_type": "code",
   "execution_count": 1,
   "metadata": {},
   "outputs": [],
   "source": [
    "import matplotlib.pylab as plt\n",
    "import matplotlib.patches as patches\n",
    "from sklearn.metrics import roc_curve,auc\n",
    "from scipy import interp"
   ]
  },
  {
   "cell_type": "code",
   "execution_count": null,
   "metadata": {},
   "outputs": [],
   "source": [
    "X_train_res = bank_final.drop(['y'], axis = 1)\n",
    "y_train_res = bank_final['y']\n",
    "\n",
    "cv = KFold(n_splits=10, random_state=100, shuffle = True)\n",
    "classifier = GaussianNB()\n",
    "\n",
    "tprs = []\n",
    "aucs = []\n",
    "mean_fpr = np.linspace(0, 1, 100)\n",
    "plt.figure(figsize=(10,10))\n",
    "i = 1\n",
    "for train, test in cv.split(X_train_res, y_train_res):\n",
    "    probas_ = classifier.fit(X_train_res.iloc[train], y_train_res.iloc[train]).predict_proba(X_train_res.iloc[test])\n",
    "    # Compute ROC curve and area the curve\n",
    "    fpr, tpr, thresholds = roc_curve(y_train_res[test], probas_[:, 1])\n",
    "    tprs.append(interp(mean_fpr, fpr, tpr))\n",
    "    tprs[-1][0] = 0.0\n",
    "    roc_auc = auc(fpr, tpr)\n",
    "    aucs.append(roc_auc)\n",
    "    plt.plot(fpr, tpr, lw=1, alpha=0.3,\n",
    "             label='ROC fold %d (AUC = %0.2f)' % (i, roc_auc))\n",
    "\n",
    "    i += 1\n",
    "plt.plot([0, 1], [0, 1], linestyle='--', lw=2, color='r',\n",
    "         label='Chance', alpha=.8)\n",
    "\n",
    "mean_tpr = np.mean(tprs, axis=0)\n",
    "mean_tpr[-1] = 1.0\n",
    "mean_auc = auc(mean_fpr, mean_tpr)\n",
    "std_auc = np.std(aucs)\n",
    "plt.plot(mean_fpr, mean_tpr, color='b',\n",
    "         label=r'Mean ROC (AUC = %0.2f $\\pm$ %0.2f)' % (mean_auc, std_auc),\n",
    "         lw=2, alpha=.8)\n",
    "\n",
    "std_tpr = np.std(tprs, axis=0)\n",
    "tprs_upper = np.minimum(mean_tpr + std_tpr, 1)\n",
    "tprs_lower = np.maximum(mean_tpr - std_tpr, 0)\n",
    "plt.fill_between(mean_fpr, tprs_lower, tprs_upper, color='grey', alpha=.2,\n",
    "                 label=r'$\\pm$ 1 std. dev.')\n",
    "\n",
    "plt.xlim([-0.01, 1.01])\n",
    "plt.ylim([-0.01, 1.01])\n",
    "plt.xlabel('False Positive Rate',fontsize=18)\n",
    "plt.ylabel('True Positive Rate',fontsize=18)\n",
    "plt.title('Cross-Validation ROC of Naive Bayes',fontsize=14)\n",
    "plt.legend(loc=\"lower right\", prop={'size': 10})\n",
    "plt.show()"
   ]
  },
  {
   "cell_type": "code",
   "execution_count": null,
   "metadata": {},
   "outputs": [],
   "source": [
    "from sklearn.model_selection import StratifiedKFold\n",
    "\n",
    "X_train_res = bank_final.drop(['y'], axis = 1)\n",
    "y_train_res = bank_final['y']\n",
    "\n",
    "cv = StratifiedKFold(n_splits=10, random_state=100, shuffle = True)\n",
    "classifier = GaussianNB()\n",
    "tprs = []\n",
    "aucs = []\n",
    "mean_fpr = np.linspace(0, 1, 100)\n",
    "plt.figure(figsize=(10,10))\n",
    "i = 1\n",
    "for train, test in cv.split(X_train_res, y_train_res):\n",
    "    probas_ = classifier.fit(X_train_res.iloc[train], y_train_res.iloc[train]).predict_proba(X_train_res.iloc[test])\n",
    "    # Compute ROC curve and area the curve\n",
    "    fpr, tpr, thresholds = roc_curve(y_train_res[test], probas_[:, 1])\n",
    "    tprs.append(interp(mean_fpr, fpr, tpr))\n",
    "    tprs[-1][0] = 0.0\n",
    "    roc_auc = auc(fpr, tpr)\n",
    "    aucs.append(roc_auc)\n",
    "    plt.plot(fpr, tpr, lw=1, alpha=0.3,\n",
    "             label='ROC fold %d (AUC = %0.2f)' % (i, roc_auc))\n",
    "\n",
    "    i += 1\n",
    "plt.plot([0, 1], [0, 1], linestyle='--', lw=2, color='r',\n",
    "         label='Chance', alpha=.8)\n",
    "\n",
    "mean_tpr = np.mean(tprs, axis=0)\n",
    "mean_tpr[-1] = 1.0\n",
    "mean_auc = auc(mean_fpr, mean_tpr)\n",
    "std_auc = np.std(aucs)\n",
    "plt.plot(mean_fpr, mean_tpr, color='b',\n",
    "         label=r'Mean ROC (AUC = %0.2f $\\pm$ %0.2f)' % (mean_auc, std_auc),\n",
    "         lw=2, alpha=.8)\n",
    "\n",
    "std_tpr = np.std(tprs, axis=0)\n",
    "tprs_upper = np.minimum(mean_tpr + std_tpr, 1)\n",
    "tprs_lower = np.maximum(mean_tpr - std_tpr, 0)\n",
    "plt.fill_between(mean_fpr, tprs_lower, tprs_upper, color='grey', alpha=.2,\n",
    "                 label=r'$\\pm$ 1 std. dev.')\n",
    "\n",
    "plt.xlim([-0.01, 1.01])\n",
    "plt.ylim([-0.01, 1.01])\n",
    "plt.xlabel('False Positive Rate',fontsize=18)\n",
    "plt.ylabel('True Positive Rate',fontsize=18)\n",
    "plt.title('Cross-Validation ROC of Decision Tree',fontsize=14)\n",
    "plt.legend(loc=\"lower right\", prop={'size': 10})\n",
    "plt.show()"
   ]
  },
  {
   "cell_type": "code",
   "execution_count": null,
   "metadata": {},
   "outputs": [],
   "source": []
  },
  {
   "cell_type": "code",
   "execution_count": 23,
   "metadata": {},
   "outputs": [],
   "source": [
    "import pandas as pd\n",
    "import numpy as np\n",
    "import statistics\n",
    "from sklearn.model_selection import train_test_split\n",
    "from sklearn.preprocessing import LabelEncoder\n",
    "from sklearn.tree import DecisionTreeClassifier\n",
    "from sklearn.naive_bayes import GaussianNB, MultinomialNB, ComplementNB, BernoulliNB, CategoricalNB \n",
    "from sklearn.svm import SVC\n",
    "from sklearn.metrics import accuracy_score, recall_score\n",
    "from sklearn import model_selection\n",
    "from sklearn.base import TransformerMixin\n",
    "from sklearn.model_selection import KFold\n",
    "import matplotlib.pylab as plt\n",
    "import matplotlib.patches as patches\n",
    "from sklearn.metrics import roc_curve,auc\n",
    "from numpy import interp\n",
    "from joblib import dump\n",
    "import os\n",
    "import joblib"
   ]
  },
  {
   "cell_type": "code",
   "execution_count": 24,
   "metadata": {},
   "outputs": [],
   "source": [
    "class DataFrameImputer(TransformerMixin):\n",
    "\n",
    "    def __init__(self):\n",
    "        \"\"\"Impute missing values.\n",
    "\n",
    "        Columns of dtype object are imputed with the most frequent value \n",
    "        in column.\n",
    "\n",
    "        Columns of other types are imputed with mean of column.\n",
    "\n",
    "        \"\"\"\n",
    "    def fit(self, X, y=None):\n",
    "\n",
    "        self.fill = pd.Series([X[c].value_counts().index[0]\n",
    "            if X[c].dtype == np.dtype('O') else X[c].mean() for c in X],\n",
    "            index=X.columns)\n",
    "\n",
    "        return self\n",
    "\n",
    "    def transform(self, X, y=None):\n",
    "        return X.fillna(self.fill)\n",
    "\n",
    "\n",
    "def preprocess(df):\n",
    "    df[['age', 'job', 'marital', 'education', 'default', 'housing', 'loan',\n",
    "       'contact', 'month', 'day_of_week', 'duration', 'campaign', 'pdays',\n",
    "       'previous', 'poutcome', 'emp.var.rate', 'cons.price.idx',\n",
    "       'cons.conf.idx', 'euribor3m', 'nr.employed', 'y']] = df[['age', 'job', 'marital', 'education', 'default', 'housing', 'loan',\n",
    "       'contact', 'month', 'day_of_week', 'duration', 'campaign', 'pdays',\n",
    "       'previous', 'poutcome', 'emp.var.rate', 'cons.price.idx',\n",
    "       'cons.conf.idx', 'euribor3m', 'nr.employed', 'y']].replace('unknown', np.NaN)\n",
    "    bank_object_data = df.select_dtypes(include=\"object\")\n",
    "    bank_non_object_data = df.select_dtypes(exclude=\"object\")\n",
    "    bank_object_data = DataFrameImputer().fit_transform(bank_object_data)\n",
    "    label = LabelEncoder()\n",
    "    bank_object_data = bank_object_data.apply(label.fit_transform)\n",
    "    bank_final = pd.concat([bank_object_data, bank_non_object_data], axis = 1)\n",
    "    return(bank_final)"
   ]
  },
  {
   "cell_type": "code",
   "execution_count": 25,
   "metadata": {},
   "outputs": [],
   "source": [
    "df = pd.read_csv('bank-data/bank-additional-full.csv')\n",
    "bank_final = preprocess(df)"
   ]
  },
  {
   "cell_type": "code",
   "execution_count": 28,
   "metadata": {},
   "outputs": [
    {
     "name": "stdout",
     "output_type": "stream",
     "text": [
      "0.11265417111780131\n",
      "0.8873458288821987\n",
      "4640 36548 41188\n"
     ]
    }
   ],
   "source": [
    "bank_final['y']\n",
    "count = 0\n",
    "for i in bank_final.index:\n",
    "    if bank_final['y'][i] == 1:\n",
    "        count += 1\n",
    "print(count/len(bank_final))\n",
    "print(1 - count/len(bank_final))\n",
    "print(count, len(bank_final) - count, len(bank_final))"
   ]
  },
  {
   "cell_type": "code",
   "execution_count": 4,
   "metadata": {},
   "outputs": [
    {
     "name": "stdout",
     "output_type": "stream",
     "text": [
      "Recall: 0.61 (+/- 0.02)\n",
      "Precision: 0.37 (+/- 0.02)\n",
      "F1 Score: 0.46 (+/- 0.02)\n",
      "Accuracy: 0.84 (+/- 0.01)\n",
      "ROC_AUC: 0.86 (+/- 0.01)\n",
      "{'fit_time': array([0.07039976, 0.04965115, 0.02400637, 0.02688217, 0.02620602,\n",
      "       0.02402973, 0.02407336, 0.02411222, 0.02218795, 0.02726746]), 'score_time': array([0.04971814, 0.01660681, 0.01203656, 0.00806952, 0.01198316,\n",
      "       0.01201344, 0.01202869, 0.01205182, 0.01369023, 0.01286173]), 'test_accuracy': array([0.82592862, 0.83976693, 0.84340859, 0.84292304, 0.83515416,\n",
      "       0.83806749, 0.83199806, 0.84316582, 0.83997086, 0.84458475]), 'test_recall': array([0.57419355, 0.57534247, 0.6263048 , 0.62054507, 0.61303462,\n",
      "       0.61844864, 0.61358811, 0.5961945 , 0.60381862, 0.62666667]), 'test_precision': array([0.33969466, 0.34710744, 0.39164491, 0.38845144, 0.38101266,\n",
      "       0.37820513, 0.36170213, 0.38263229, 0.33914209, 0.37400531]), 'test_f1': array([0.42685851, 0.43298969, 0.48192771, 0.47780468, 0.46994536,\n",
      "       0.46937152, 0.45511811, 0.4661157 , 0.43433476, 0.46843854]), 'test_roc_auc': array([0.83677661, 0.84279076, 0.8748417 , 0.8568742 , 0.8538051 ,\n",
      "       0.86327231, 0.83751996, 0.86087392, 0.86021443, 0.86670393])}\n",
      "Start Time:  2020-04-21 07:46:26.375749 Stop Time:  2020-04-21 07:46:27.025810 Time Taken:  0.6498517000000135\n"
     ]
    }
   ],
   "source": [
    "import timeit\n",
    "\n",
    "start = timeit.default_timer()\n",
    "from datetime import datetime\n",
    "\n",
    "# current date and time\n",
    "begin = datetime.now()\n",
    "\n",
    "\n",
    "X = bank_final.drop(['y'], axis = 1)\n",
    "Y = bank_final['y']\n",
    "\n",
    "model = GaussianNB()\n",
    "scoring = ['accuracy', 'recall', 'precision', 'f1', 'roc_auc']\n",
    "\n",
    "kfold = KFold(n_splits=10, random_state=100, shuffle = True)\n",
    "results_kfold = model_selection.cross_validate(model, X, Y, scoring=scoring, cv=kfold)\n",
    "print(\"Recall: %0.2f (+/- %0.2f)\" % (results_kfold['test_recall'].mean(), results_kfold['test_recall'].std()))\n",
    "print(\"Precision: %0.2f (+/- %0.2f)\" % (results_kfold['test_precision'].mean(), results_kfold['test_precision'].std()))\n",
    "print(\"F1 Score: %0.2f (+/- %0.2f)\" % (results_kfold['test_f1'].mean(), results_kfold['test_f1'].std()))\n",
    "print(\"Accuracy: %0.2f (+/- %0.2f)\" % (results_kfold['test_accuracy'].mean(), results_kfold['test_accuracy'].std()))\n",
    "print(\"ROC_AUC: %0.2f (+/- %0.2f)\" % (results_kfold['test_roc_auc'].mean(), results_kfold['test_roc_auc'].std()))\n",
    "\n",
    "print(results_kfold)\n",
    "stop = timeit.default_timer()\n",
    "end = datetime.now()\n",
    "print('Start Time: ', begin,\n",
    "      'Stop Time: ', end,\n",
    "      'Time Taken: ', stop - start)"
   ]
  },
  {
   "cell_type": "code",
   "execution_count": 14,
   "metadata": {},
   "outputs": [
    {
     "name": "stdout",
     "output_type": "stream",
     "text": [
      "Recall: nan (+/- nan)\n",
      "Precision: nan (+/- nan)\n",
      "F1 Score: nan (+/- nan)\n",
      "Accuracy: nan (+/- nan)\n",
      "ROC_AUC: nan (+/- nan)\n",
      "{'fit_time': array([0.01657534, 0.01475739, 0.01486588, 0.0147202 , 0.01314211,\n",
      "       0.01012444, 0.00904322, 0.01173854, 0.00903773, 0.01012301]), 'score_time': array([0., 0., 0., 0., 0., 0., 0., 0., 0., 0.]), 'test_accuracy': array([nan, nan, nan, nan, nan, nan, nan, nan, nan, nan]), 'test_recall': array([nan, nan, nan, nan, nan, nan, nan, nan, nan, nan]), 'test_precision': array([nan, nan, nan, nan, nan, nan, nan, nan, nan, nan]), 'test_f1': array([nan, nan, nan, nan, nan, nan, nan, nan, nan, nan]), 'test_roc_auc': array([nan, nan, nan, nan, nan, nan, nan, nan, nan, nan])}\n",
      "Start Time:  2020-04-21 07:53:37.741564 Stop Time:  2020-04-21 07:53:37.916564 Time Taken:  0.1725308000000041\n"
     ]
    },
    {
     "name": "stderr",
     "output_type": "stream",
     "text": [
      "C:\\Python3\\lib\\site-packages\\sklearn\\model_selection\\_validation.py:536: FitFailedWarning: Estimator fit failed. The score on this train-test partition for these parameters will be set to nan. Details: \n",
      "ValueError: Negative values in data passed to ComplementNB (input X)\n",
      "\n",
      "  FitFailedWarning)\n",
      "C:\\Python3\\lib\\site-packages\\sklearn\\model_selection\\_validation.py:536: FitFailedWarning: Estimator fit failed. The score on this train-test partition for these parameters will be set to nan. Details: \n",
      "ValueError: Negative values in data passed to ComplementNB (input X)\n",
      "\n",
      "  FitFailedWarning)\n",
      "C:\\Python3\\lib\\site-packages\\sklearn\\model_selection\\_validation.py:536: FitFailedWarning: Estimator fit failed. The score on this train-test partition for these parameters will be set to nan. Details: \n",
      "ValueError: Negative values in data passed to ComplementNB (input X)\n",
      "\n",
      "  FitFailedWarning)\n",
      "C:\\Python3\\lib\\site-packages\\sklearn\\model_selection\\_validation.py:536: FitFailedWarning: Estimator fit failed. The score on this train-test partition for these parameters will be set to nan. Details: \n",
      "ValueError: Negative values in data passed to ComplementNB (input X)\n",
      "\n",
      "  FitFailedWarning)\n",
      "C:\\Python3\\lib\\site-packages\\sklearn\\model_selection\\_validation.py:536: FitFailedWarning: Estimator fit failed. The score on this train-test partition for these parameters will be set to nan. Details: \n",
      "ValueError: Negative values in data passed to ComplementNB (input X)\n",
      "\n",
      "  FitFailedWarning)\n",
      "C:\\Python3\\lib\\site-packages\\sklearn\\model_selection\\_validation.py:536: FitFailedWarning: Estimator fit failed. The score on this train-test partition for these parameters will be set to nan. Details: \n",
      "ValueError: Negative values in data passed to ComplementNB (input X)\n",
      "\n",
      "  FitFailedWarning)\n",
      "C:\\Python3\\lib\\site-packages\\sklearn\\model_selection\\_validation.py:536: FitFailedWarning: Estimator fit failed. The score on this train-test partition for these parameters will be set to nan. Details: \n",
      "ValueError: Negative values in data passed to ComplementNB (input X)\n",
      "\n",
      "  FitFailedWarning)\n",
      "C:\\Python3\\lib\\site-packages\\sklearn\\model_selection\\_validation.py:536: FitFailedWarning: Estimator fit failed. The score on this train-test partition for these parameters will be set to nan. Details: \n",
      "ValueError: Negative values in data passed to ComplementNB (input X)\n",
      "\n",
      "  FitFailedWarning)\n",
      "C:\\Python3\\lib\\site-packages\\sklearn\\model_selection\\_validation.py:536: FitFailedWarning: Estimator fit failed. The score on this train-test partition for these parameters will be set to nan. Details: \n",
      "ValueError: Negative values in data passed to ComplementNB (input X)\n",
      "\n",
      "  FitFailedWarning)\n",
      "C:\\Python3\\lib\\site-packages\\sklearn\\model_selection\\_validation.py:536: FitFailedWarning: Estimator fit failed. The score on this train-test partition for these parameters will be set to nan. Details: \n",
      "ValueError: Negative values in data passed to ComplementNB (input X)\n",
      "\n",
      "  FitFailedWarning)\n"
     ]
    }
   ],
   "source": [
    "import timeit\n",
    "\n",
    "start = timeit.default_timer()\n",
    "from datetime import datetime\n",
    "\n",
    "# current date and time\n",
    "begin = datetime.now()\n",
    "\n",
    "\n",
    "X = bank_final.drop(['y'], axis = 1)\n",
    "Y = bank_final['y']\n",
    "\n",
    "model = ComplementNB()\n",
    "scoring = ['accuracy', 'recall', 'precision', 'f1', 'roc_auc']\n",
    "\n",
    "kfold = KFold(n_splits=10, random_state=100, shuffle = True)\n",
    "results_kfold = model_selection.cross_validate(model, X, Y, scoring=scoring, cv=kfold)\n",
    "print(\"Recall: %0.2f (+/- %0.2f)\" % (results_kfold['test_recall'].mean(), results_kfold['test_recall'].std()))\n",
    "print(\"Precision: %0.2f (+/- %0.2f)\" % (results_kfold['test_precision'].mean(), results_kfold['test_precision'].std()))\n",
    "print(\"F1 Score: %0.2f (+/- %0.2f)\" % (results_kfold['test_f1'].mean(), results_kfold['test_f1'].std()))\n",
    "print(\"Accuracy: %0.2f (+/- %0.2f)\" % (results_kfold['test_accuracy'].mean(), results_kfold['test_accuracy'].std()))\n",
    "print(\"ROC_AUC: %0.2f (+/- %0.2f)\" % (results_kfold['test_roc_auc'].mean(), results_kfold['test_roc_auc'].std()))\n",
    "\n",
    "print(results_kfold)\n",
    "stop = timeit.default_timer()\n",
    "end = datetime.now()\n",
    "print('Start Time: ', begin,\n",
    "      'Stop Time: ', end,\n",
    "      'Time Taken: ', stop - start)"
   ]
  }
 ],
 "metadata": {
  "kernelspec": {
   "display_name": "Python 3",
   "language": "python",
   "name": "python3"
  },
  "language_info": {
   "codemirror_mode": {
    "name": "ipython",
    "version": 3
   },
   "file_extension": ".py",
   "mimetype": "text/x-python",
   "name": "python",
   "nbconvert_exporter": "python",
   "pygments_lexer": "ipython3",
   "version": "3.7.4"
  }
 },
 "nbformat": 4,
 "nbformat_minor": 2
}
