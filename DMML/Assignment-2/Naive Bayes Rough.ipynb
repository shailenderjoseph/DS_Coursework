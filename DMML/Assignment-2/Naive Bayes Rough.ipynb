{
 "cells": [
  {
   "cell_type": "code",
   "execution_count": 1,
   "metadata": {},
   "outputs": [],
   "source": [
    "import pandas as pd\n",
    "import numpy as np\n",
    "from sklearn.model_selection import train_test_split\n",
    "from sklearn.preprocessing import LabelEncoder\n",
    "from sklearn.naive_bayes import GaussianNB\n",
    "from sklearn.metrics import accuracy_score\n",
    "from sklearn import model_selection\n",
    "from sklearn.model_selection import KFold"
   ]
  },
  {
   "cell_type": "markdown",
   "metadata": {},
   "source": [
    "__Naive Bayes CLassifier: w/o any modification of missing data__"
   ]
  },
  {
   "cell_type": "code",
   "execution_count": 2,
   "metadata": {},
   "outputs": [
    {
     "name": "stdout",
     "output_type": "stream",
     "text": [
      "<class 'pandas.core.frame.DataFrame'>\n",
      "RangeIndex: 41188 entries, 0 to 41187\n",
      "Data columns (total 11 columns):\n",
      "job            41188 non-null object\n",
      "marital        41188 non-null object\n",
      "education      41188 non-null object\n",
      "default        41188 non-null object\n",
      "housing        41188 non-null object\n",
      "loan           41188 non-null object\n",
      "contact        41188 non-null object\n",
      "month          41188 non-null object\n",
      "day_of_week    41188 non-null object\n",
      "poutcome       41188 non-null object\n",
      "y              41188 non-null object\n",
      "dtypes: object(11)\n",
      "memory usage: 3.5+ MB\n",
      "<class 'pandas.core.frame.DataFrame'>\n",
      "RangeIndex: 41188 entries, 0 to 41187\n",
      "Data columns (total 10 columns):\n",
      "age               41188 non-null int64\n",
      "duration          41188 non-null int64\n",
      "campaign          41188 non-null int64\n",
      "pdays             41188 non-null int64\n",
      "previous          41188 non-null int64\n",
      "emp.var.rate      41188 non-null float64\n",
      "cons.price.idx    41188 non-null float64\n",
      "cons.conf.idx     41188 non-null float64\n",
      "euribor3m         41188 non-null float64\n",
      "nr.employed       41188 non-null float64\n",
      "dtypes: float64(5), int64(5)\n",
      "memory usage: 3.1 MB\n",
      "None\n",
      "   job  marital  education  default  housing  loan  contact  month  \\\n",
      "0    3        1          0        0        0     0        1      6   \n",
      "1    7        1          3        1        0     0        1      6   \n",
      "2    7        1          3        0        2     0        1      6   \n",
      "3    0        1          1        0        0     0        1      6   \n",
      "4    7        1          3        0        0     2        1      6   \n",
      "\n",
      "   day_of_week  poutcome  y  \n",
      "0            1         1  0  \n",
      "1            1         1  0  \n",
      "2            1         1  0  \n",
      "3            1         1  0  \n",
      "4            1         1  0  \n",
      "   job  marital  education  default  housing  loan  contact  month  \\\n",
      "0    3        1          0        0        0     0        1      6   \n",
      "1    7        1          3        1        0     0        1      6   \n",
      "2    7        1          3        0        2     0        1      6   \n",
      "3    0        1          1        0        0     0        1      6   \n",
      "4    7        1          3        0        0     2        1      6   \n",
      "\n",
      "   day_of_week  poutcome  ...  age  duration  campaign  pdays  previous  \\\n",
      "0            1         1  ...   56       261         1    999         0   \n",
      "1            1         1  ...   57       149         1    999         0   \n",
      "2            1         1  ...   37       226         1    999         0   \n",
      "3            1         1  ...   40       151         1    999         0   \n",
      "4            1         1  ...   56       307         1    999         0   \n",
      "\n",
      "   emp.var.rate  cons.price.idx  cons.conf.idx  euribor3m  nr.employed  \n",
      "0           1.1          93.994          -36.4      4.857       5191.0  \n",
      "1           1.1          93.994          -36.4      4.857       5191.0  \n",
      "2           1.1          93.994          -36.4      4.857       5191.0  \n",
      "3           1.1          93.994          -36.4      4.857       5191.0  \n",
      "4           1.1          93.994          -36.4      4.857       5191.0  \n",
      "\n",
      "[5 rows x 21 columns]\n"
     ]
    }
   ],
   "source": [
    "df = pd.read_csv('bank-data/bank-additional-full.csv')\n",
    "\n",
    "bank_object_data = df.select_dtypes(include=\"object\")\n",
    "bank_object_data.info()\n",
    "\n",
    "bank_non_object_data = df.select_dtypes(exclude=\"object\")\n",
    "print(bank_non_object_data.info())\n",
    "\n",
    "label = LabelEncoder()\n",
    "bank_object_data = bank_object_data.apply(label.fit_transform)\n",
    "\n",
    "print(bank_object_data.head())\n",
    "\n",
    "bank_final = pd.concat([bank_object_data, bank_non_object_data], axis = 1)\n",
    "print(bank_final.head())"
   ]
  },
  {
   "cell_type": "markdown",
   "metadata": {},
   "source": [
    "__Naive Bayes CLassifier: w/o any modification of missing data; k fold and shuffle__"
   ]
  },
  {
   "cell_type": "code",
   "execution_count": 3,
   "metadata": {},
   "outputs": [
    {
     "name": "stdout",
     "output_type": "stream",
     "text": [
      "Accuracy: 84.65%\n",
      "Accuracy: 0.85 (+/- 0.01)\n"
     ]
    }
   ],
   "source": [
    "X = bank_final.drop(['y'], axis = 1)\n",
    "Y = bank_final['y']\n",
    "\n",
    "model = GaussianNB()\n",
    "\n",
    "kfold = KFold(n_splits=10, random_state=100, shuffle = True)\n",
    "results_kfold = model_selection.cross_val_score(model, X, Y, cv=kfold)\n",
    "print(\"Accuracy: %.2f%%\" % (results_kfold.mean()*100.0))\n",
    "print(\"Accuracy: %0.2f (+/- %0.2f)\" % (results_kfold.mean(), results_kfold.std() * 2))"
   ]
  },
  {
   "cell_type": "markdown",
   "metadata": {},
   "source": [
    "__Naive Bayes CLassifier: w/o any modification of missing data; k fold and no shuffle__"
   ]
  },
  {
   "cell_type": "code",
   "execution_count": 18,
   "metadata": {},
   "outputs": [
    {
     "name": "stdout",
     "output_type": "stream",
     "text": [
      "Accuracy: 83.35%\n",
      "Accuracy: 0.83 (+/- 0.34)\n"
     ]
    },
    {
     "data": {
      "text/plain": [
       "array([0.97353727, 0.96649672, 0.96042729, 0.93614955, 0.94391843,\n",
       "       0.94561787, 0.84219471, 0.62709395, 0.64011656, 0.49902865])"
      ]
     },
     "execution_count": 18,
     "metadata": {},
     "output_type": "execute_result"
    }
   ],
   "source": [
    "X = bank_final.drop(['y'], axis = 1)\n",
    "Y = bank_final['y']\n",
    "\n",
    "model = GaussianNB()\n",
    "\n",
    "kfold = KFold(n_splits=10)\n",
    "results_kfold = model_selection.cross_val_score(model, X, Y, cv=kfold)\n",
    "print(\"Accuracy: %.2f%%\" % (results_kfold.mean()*100.0))\n",
    "print(\"Accuracy: %0.2f (+/- %0.2f)\" % (results_kfold.mean(), results_kfold.std() * 2))\n",
    "results_kfold"
   ]
  },
  {
   "cell_type": "markdown",
   "metadata": {},
   "source": [
    "__Naive Bayes CLassifier: w/o any modification of missing data; stratified k fold__"
   ]
  },
  {
   "cell_type": "code",
   "execution_count": 16,
   "metadata": {},
   "outputs": [
    {
     "name": "stdout",
     "output_type": "stream",
     "text": [
      "Accuracy: 83.84%\n",
      "Accuracy: 0.84 (+/- 0.01)\n"
     ]
    },
    {
     "data": {
      "text/plain": [
       "array([0.8315125 , 0.83515416, 0.84365137, 0.83733916, 0.83855305,\n",
       "       0.83224084, 0.84340859, 0.84365137, 0.83341428, 0.8455561 ])"
      ]
     },
     "execution_count": 16,
     "metadata": {},
     "output_type": "execute_result"
    }
   ],
   "source": [
    "from sklearn.model_selection import StratifiedKFold\n",
    "X = bank_final.drop(['y'], axis = 1)\n",
    "Y = bank_final['y']\n",
    "\n",
    "model = GaussianNB()\n",
    "\n",
    "skfold = StratifiedKFold(n_splits=10, random_state=100, shuffle = True)\n",
    "results_kfold = model_selection.cross_val_score(model, X, Y, cv=skfold)\n",
    "print(\"Accuracy: %.2f%%\" % (results_kfold.mean()*100.0)) \n",
    "print(\"Accuracy: %0.2f (+/- %0.2f)\" % (results_kfold.mean(), results_kfold.std() * 2))\n",
    "results_kfold"
   ]
  },
  {
   "cell_type": "markdown",
   "metadata": {},
   "source": [
    "__Naive Bayes CLassifier: deleting missing data__"
   ]
  },
  {
   "cell_type": "code",
   "execution_count": 19,
   "metadata": {},
   "outputs": [
    {
     "name": "stdout",
     "output_type": "stream",
     "text": [
      "(41188, 21)\n",
      "Index(['age', 'job', 'marital', 'education', 'default', 'housing', 'loan',\n",
      "       'contact', 'month', 'day_of_week', 'duration', 'campaign', 'pdays',\n",
      "       'previous', 'poutcome', 'emp.var.rate', 'cons.price.idx',\n",
      "       'cons.conf.idx', 'euribor3m', 'nr.employed', 'y'],\n",
      "      dtype='object')\n",
      "age                  0\n",
      "job                330\n",
      "marital             80\n",
      "education         1731\n",
      "default           8597\n",
      "housing            990\n",
      "loan               990\n",
      "contact              0\n",
      "month                0\n",
      "day_of_week          0\n",
      "duration             0\n",
      "campaign             0\n",
      "pdays                0\n",
      "previous             0\n",
      "poutcome             0\n",
      "emp.var.rate         0\n",
      "cons.price.idx       0\n",
      "cons.conf.idx        0\n",
      "euribor3m            0\n",
      "nr.employed          0\n",
      "y                    0\n",
      "dtype: int64\n",
      "age                  0\n",
      "job                330\n",
      "marital             80\n",
      "education         1731\n",
      "default           8597\n",
      "housing            990\n",
      "loan               990\n",
      "contact              0\n",
      "month                0\n",
      "day_of_week          0\n",
      "duration             0\n",
      "campaign             0\n",
      "pdays                0\n",
      "previous             0\n",
      "poutcome             0\n",
      "emp.var.rate         0\n",
      "cons.price.idx       0\n",
      "cons.conf.idx        0\n",
      "euribor3m            0\n",
      "nr.employed          0\n",
      "y                    0\n",
      "dtype: int64\n",
      "(30488, 21)\n"
     ]
    },
    {
     "name": "stderr",
     "output_type": "stream",
     "text": [
      "C:\\Python3\\lib\\site-packages\\pandas\\core\\ops\\__init__.py:1115: FutureWarning: elementwise comparison failed; returning scalar instead, but in the future will perform elementwise comparison\n",
      "  result = method(y)\n"
     ]
    },
    {
     "name": "stdout",
     "output_type": "stream",
     "text": [
      "age               0\n",
      "job               0\n",
      "marital           0\n",
      "education         0\n",
      "default           0\n",
      "housing           0\n",
      "loan              0\n",
      "contact           0\n",
      "month             0\n",
      "day_of_week       0\n",
      "duration          0\n",
      "campaign          0\n",
      "pdays             0\n",
      "previous          0\n",
      "poutcome          0\n",
      "emp.var.rate      0\n",
      "cons.price.idx    0\n",
      "cons.conf.idx     0\n",
      "euribor3m         0\n",
      "nr.employed       0\n",
      "y                 0\n",
      "dtype: int64\n"
     ]
    }
   ],
   "source": [
    "df = pd.read_csv('bank-data/bank-additional-full.csv')\n",
    "print(df.shape)\n",
    "print(df.columns)\n",
    "print((df[['age', 'job', 'marital', 'education', 'default', 'housing', 'loan',\n",
    "       'contact', 'month', 'day_of_week', 'duration', 'campaign', 'pdays',\n",
    "       'previous', 'poutcome', 'emp.var.rate', 'cons.price.idx',\n",
    "       'cons.conf.idx', 'euribor3m', 'nr.employed', 'y']] == 'unknown').sum())\n",
    "\n",
    "df[['age', 'job', 'marital', 'education', 'default', 'housing', 'loan',\n",
    "       'contact', 'month', 'day_of_week', 'duration', 'campaign', 'pdays',\n",
    "       'previous', 'poutcome', 'emp.var.rate', 'cons.price.idx',\n",
    "       'cons.conf.idx', 'euribor3m', 'nr.employed', 'y']] = df[['age', 'job', 'marital', 'education', 'default', 'housing', 'loan',\n",
    "       'contact', 'month', 'day_of_week', 'duration', 'campaign', 'pdays',\n",
    "       'previous', 'poutcome', 'emp.var.rate', 'cons.price.idx',\n",
    "       'cons.conf.idx', 'euribor3m', 'nr.employed', 'y']].replace('unknown', np.NaN)\n",
    "print(df.isnull().sum())\n",
    "\n",
    "df.dropna(inplace=True)\n",
    "# summarize the number of rows and columns in the dataset\n",
    "print(df.shape)\n",
    "print(df.isnull().sum())"
   ]
  },
  {
   "cell_type": "code",
   "execution_count": 20,
   "metadata": {},
   "outputs": [
    {
     "name": "stdout",
     "output_type": "stream",
     "text": [
      "<class 'pandas.core.frame.DataFrame'>\n",
      "Int64Index: 30488 entries, 0 to 41187\n",
      "Data columns (total 11 columns):\n",
      "job            30488 non-null object\n",
      "marital        30488 non-null object\n",
      "education      30488 non-null object\n",
      "default        30488 non-null object\n",
      "housing        30488 non-null object\n",
      "loan           30488 non-null object\n",
      "contact        30488 non-null object\n",
      "month          30488 non-null object\n",
      "day_of_week    30488 non-null object\n",
      "poutcome       30488 non-null object\n",
      "y              30488 non-null object\n",
      "dtypes: object(11)\n",
      "memory usage: 2.8+ MB\n",
      "None\n",
      "<class 'pandas.core.frame.DataFrame'>\n",
      "Int64Index: 30488 entries, 0 to 41187\n",
      "Data columns (total 10 columns):\n",
      "age               30488 non-null int64\n",
      "duration          30488 non-null int64\n",
      "campaign          30488 non-null int64\n",
      "pdays             30488 non-null int64\n",
      "previous          30488 non-null int64\n",
      "emp.var.rate      30488 non-null float64\n",
      "cons.price.idx    30488 non-null float64\n",
      "cons.conf.idx     30488 non-null float64\n",
      "euribor3m         30488 non-null float64\n",
      "nr.employed       30488 non-null float64\n",
      "dtypes: float64(5), int64(5)\n",
      "memory usage: 2.6 MB\n",
      "None\n",
      "   job  marital  education  default  housing  loan  contact  month  \\\n",
      "0    3        1          0        0        0     0        1      6   \n",
      "2    7        1          3        0        1     0        1      6   \n",
      "3    0        1          1        0        0     0        1      6   \n",
      "4    7        1          3        0        0     1        1      6   \n",
      "6    0        1          5        0        0     0        1      6   \n",
      "\n",
      "   day_of_week  poutcome  y  \n",
      "0            1         1  0  \n",
      "2            1         1  0  \n",
      "3            1         1  0  \n",
      "4            1         1  0  \n",
      "6            1         1  0  \n",
      "   job  marital  education  default  housing  loan  contact  month  \\\n",
      "0    3        1          0        0        0     0        1      6   \n",
      "2    7        1          3        0        1     0        1      6   \n",
      "3    0        1          1        0        0     0        1      6   \n",
      "4    7        1          3        0        0     1        1      6   \n",
      "6    0        1          5        0        0     0        1      6   \n",
      "\n",
      "   day_of_week  poutcome  ...  age  duration  campaign  pdays  previous  \\\n",
      "0            1         1  ...   56       261         1    999         0   \n",
      "2            1         1  ...   37       226         1    999         0   \n",
      "3            1         1  ...   40       151         1    999         0   \n",
      "4            1         1  ...   56       307         1    999         0   \n",
      "6            1         1  ...   59       139         1    999         0   \n",
      "\n",
      "   emp.var.rate  cons.price.idx  cons.conf.idx  euribor3m  nr.employed  \n",
      "0           1.1          93.994          -36.4      4.857       5191.0  \n",
      "2           1.1          93.994          -36.4      4.857       5191.0  \n",
      "3           1.1          93.994          -36.4      4.857       5191.0  \n",
      "4           1.1          93.994          -36.4      4.857       5191.0  \n",
      "6           1.1          93.994          -36.4      4.857       5191.0  \n",
      "\n",
      "[5 rows x 21 columns]\n"
     ]
    }
   ],
   "source": [
    "bank_object_data = df.select_dtypes(include=\"object\")\n",
    "print(bank_object_data.info())\n",
    "\n",
    "bank_non_object_data = df.select_dtypes(exclude=\"object\")\n",
    "print(bank_non_object_data.info())\n",
    "\n",
    "label = LabelEncoder()\n",
    "bank_object_data = bank_object_data.apply(label.fit_transform)\n",
    "\n",
    "print(bank_object_data.head())\n",
    "\n",
    "bank_final = pd.concat([bank_object_data, bank_non_object_data], axis = 1)\n",
    "\n",
    "print(bank_final.head())"
   ]
  },
  {
   "cell_type": "markdown",
   "metadata": {},
   "source": [
    "__Naive Bayes CLassifier: w/o any modification of missing data; k fold and shuffle__"
   ]
  },
  {
   "cell_type": "code",
   "execution_count": 23,
   "metadata": {},
   "outputs": [
    {
     "name": "stdout",
     "output_type": "stream",
     "text": [
      "Accuracy: 82.58%\n",
      "Accuracy: 0.83 (+/- 0.02)\n"
     ]
    },
    {
     "data": {
      "text/plain": [
       "array([0.83437193, 0.81600525, 0.82289275, 0.84388324, 0.82322073,\n",
       "       0.82584454, 0.82322073, 0.83043621, 0.82217848, 0.81594488])"
      ]
     },
     "execution_count": 23,
     "metadata": {},
     "output_type": "execute_result"
    }
   ],
   "source": [
    "X = bank_final.drop(['y'], axis = 1)\n",
    "Y = bank_final['y']\n",
    "\n",
    "model = GaussianNB()\n",
    "\n",
    "kfold = KFold(n_splits=10, random_state=100, shuffle = True)\n",
    "results_kfold = model_selection.cross_val_score(model, X, Y, cv=kfold)\n",
    "print(\"Accuracy: %.2f%%\" % (results_kfold.mean()*100.0)) \n",
    "print(\"Accuracy: %0.2f (+/- %0.2f)\" % (results_kfold.mean(), results_kfold.std() * 2))\n",
    "results_kfold"
   ]
  },
  {
   "cell_type": "markdown",
   "metadata": {},
   "source": [
    "__Naive Bayes CLassifier: w/o any modification of missing data; k fold and no shuffle__"
   ]
  },
  {
   "cell_type": "code",
   "execution_count": 24,
   "metadata": {},
   "outputs": [
    {
     "name": "stdout",
     "output_type": "stream",
     "text": [
      "Accuracy: 82.05%\n",
      "Accuracy: 0.82 (+/- 0.33)\n"
     ]
    },
    {
     "data": {
      "text/plain": [
       "array([0.97408987, 0.96228272, 0.95080354, 0.93538865, 0.94522794,\n",
       "       0.93998032, 0.71892424, 0.63463431, 0.60498688, 0.53838583])"
      ]
     },
     "execution_count": 24,
     "metadata": {},
     "output_type": "execute_result"
    }
   ],
   "source": [
    "X = bank_final.drop(['y'], axis = 1)\n",
    "Y = bank_final['y']\n",
    "\n",
    "model = GaussianNB()\n",
    "\n",
    "kfold = KFold(n_splits=10)\n",
    "results_kfold = model_selection.cross_val_score(model, X, Y, cv=kfold)\n",
    "print(\"Accuracy: %.2f%%\" % (results_kfold.mean()*100.0)) \n",
    "print(\"Accuracy: %0.2f (+/- %0.2f)\" % (results_kfold.mean(), results_kfold.std() * 2))\n",
    "results_kfold"
   ]
  },
  {
   "cell_type": "markdown",
   "metadata": {},
   "source": [
    "__Naive Bayes CLassifier: w/o any modification of missing data; stratified k fold and shuffle__"
   ]
  },
  {
   "cell_type": "code",
   "execution_count": 25,
   "metadata": {},
   "outputs": [
    {
     "name": "stdout",
     "output_type": "stream",
     "text": [
      "Accuracy: 82.58%\n",
      "Accuracy: 0.83 (+/- 0.01)\n"
     ]
    },
    {
     "data": {
      "text/plain": [
       "array([0.82551656, 0.82059692, 0.83043621, 0.82256478, 0.82650049,\n",
       "       0.8278124 , 0.82551656, 0.81633322, 0.82972441, 0.83333333])"
      ]
     },
     "execution_count": 25,
     "metadata": {},
     "output_type": "execute_result"
    }
   ],
   "source": [
    "from sklearn.model_selection import StratifiedKFold\n",
    "X = bank_final.drop(['y'], axis = 1)\n",
    "Y = bank_final['y']\n",
    "\n",
    "model = GaussianNB()\n",
    "\n",
    "skfold = StratifiedKFold(n_splits=10, random_state=100, shuffle = True)\n",
    "results_kfold = model_selection.cross_val_score(model, X, Y, cv=skfold)\n",
    "print(\"Accuracy: %.2f%%\" % (results_kfold.mean()*100.0)) \n",
    "print(\"Accuracy: %0.2f (+/- %0.2f)\" % (results_kfold.mean(), results_kfold.std() * 2))\n",
    "results_kfold"
   ]
  },
  {
   "cell_type": "markdown",
   "metadata": {},
   "source": [
    "__Naive Bayes CLassifier: with imputation__"
   ]
  },
  {
   "cell_type": "code",
   "execution_count": 7,
   "metadata": {},
   "outputs": [
    {
     "name": "stdout",
     "output_type": "stream",
     "text": [
      "(41188, 21)\n",
      "Index(['age', 'job', 'marital', 'education', 'default', 'housing', 'loan',\n",
      "       'contact', 'month', 'day_of_week', 'duration', 'campaign', 'pdays',\n",
      "       'previous', 'poutcome', 'emp.var.rate', 'cons.price.idx',\n",
      "       'cons.conf.idx', 'euribor3m', 'nr.employed', 'y'],\n",
      "      dtype='object')\n",
      "age                  0\n",
      "job                330\n",
      "marital             80\n",
      "education         1731\n",
      "default           8597\n",
      "housing            990\n",
      "loan               990\n",
      "contact              0\n",
      "month                0\n",
      "day_of_week          0\n",
      "duration             0\n",
      "campaign             0\n",
      "pdays                0\n",
      "previous             0\n",
      "poutcome             0\n",
      "emp.var.rate         0\n",
      "cons.price.idx       0\n",
      "cons.conf.idx        0\n",
      "euribor3m            0\n",
      "nr.employed          0\n",
      "y                    0\n",
      "dtype: int64\n"
     ]
    },
    {
     "name": "stderr",
     "output_type": "stream",
     "text": [
      "C:\\Python3\\lib\\site-packages\\pandas\\core\\ops\\__init__.py:1115: FutureWarning: elementwise comparison failed; returning scalar instead, but in the future will perform elementwise comparison\n",
      "  result = method(y)\n"
     ]
    },
    {
     "name": "stdout",
     "output_type": "stream",
     "text": [
      "age                  0\n",
      "job                330\n",
      "marital             80\n",
      "education         1731\n",
      "default           8597\n",
      "housing            990\n",
      "loan               990\n",
      "contact              0\n",
      "month                0\n",
      "day_of_week          0\n",
      "duration             0\n",
      "campaign             0\n",
      "pdays                0\n",
      "previous             0\n",
      "poutcome             0\n",
      "emp.var.rate         0\n",
      "cons.price.idx       0\n",
      "cons.conf.idx        0\n",
      "euribor3m            0\n",
      "nr.employed          0\n",
      "y                    0\n",
      "dtype: int64\n"
     ]
    }
   ],
   "source": [
    "from sklearn.impute import SimpleImputer \n",
    "imputer = SimpleImputer(missing_values=np.nan, strategy='mean')\n",
    "\n",
    "df = pd.read_csv('bank-data/bank-additional-full.csv')\n",
    "print(df.shape)\n",
    "print(df.columns)\n",
    "print((df[['age', 'job', 'marital', 'education', 'default', 'housing', 'loan',\n",
    "       'contact', 'month', 'day_of_week', 'duration', 'campaign', 'pdays',\n",
    "       'previous', 'poutcome', 'emp.var.rate', 'cons.price.idx',\n",
    "       'cons.conf.idx', 'euribor3m', 'nr.employed', 'y']] == 'unknown').sum())\n",
    "\n",
    "df[['age', 'job', 'marital', 'education', 'default', 'housing', 'loan',\n",
    "       'contact', 'month', 'day_of_week', 'duration', 'campaign', 'pdays',\n",
    "       'previous', 'poutcome', 'emp.var.rate', 'cons.price.idx',\n",
    "       'cons.conf.idx', 'euribor3m', 'nr.employed', 'y']] = df[['age', 'job', 'marital', 'education', 'default', 'housing', 'loan',\n",
    "       'contact', 'month', 'day_of_week', 'duration', 'campaign', 'pdays',\n",
    "       'previous', 'poutcome', 'emp.var.rate', 'cons.price.idx',\n",
    "       'cons.conf.idx', 'euribor3m', 'nr.employed', 'y']].replace('unknown', np.NaN)\n",
    "print(df.isnull().sum())\n"
   ]
  },
  {
   "cell_type": "code",
   "execution_count": 8,
   "metadata": {},
   "outputs": [
    {
     "name": "stdout",
     "output_type": "stream",
     "text": [
      "<class 'pandas.core.frame.DataFrame'>\n",
      "RangeIndex: 41188 entries, 0 to 41187\n",
      "Data columns (total 11 columns):\n",
      "job            40858 non-null object\n",
      "marital        41108 non-null object\n",
      "education      39457 non-null object\n",
      "default        32591 non-null object\n",
      "housing        40198 non-null object\n",
      "loan           40198 non-null object\n",
      "contact        41188 non-null object\n",
      "month          41188 non-null object\n",
      "day_of_week    41188 non-null object\n",
      "poutcome       41188 non-null object\n",
      "y              41188 non-null object\n",
      "dtypes: object(11)\n",
      "memory usage: 3.5+ MB\n",
      "None\n",
      "<class 'pandas.core.frame.DataFrame'>\n",
      "RangeIndex: 41188 entries, 0 to 41187\n",
      "Data columns (total 10 columns):\n",
      "age               41188 non-null int64\n",
      "duration          41188 non-null int64\n",
      "campaign          41188 non-null int64\n",
      "pdays             41188 non-null int64\n",
      "previous          41188 non-null int64\n",
      "emp.var.rate      41188 non-null float64\n",
      "cons.price.idx    41188 non-null float64\n",
      "cons.conf.idx     41188 non-null float64\n",
      "euribor3m         41188 non-null float64\n",
      "nr.employed       41188 non-null float64\n",
      "dtypes: float64(5), int64(5)\n",
      "memory usage: 3.1 MB\n",
      "None\n",
      "0\n",
      "0\n"
     ]
    }
   ],
   "source": [
    "bank_object_data = df.select_dtypes(include=\"object\")\n",
    "print(bank_object_data.info())\n",
    "\n",
    "bank_non_object_data = df.select_dtypes(exclude=\"object\")\n",
    "print(bank_non_object_data.info())\n",
    "\n",
    "values = bank_non_object_data.values\n",
    "#imputer = Imputer()\n",
    "transformed_values = imputer.fit_transform(values)\n",
    "# count the number of NaN values in each column\n",
    "print(np.isnan(transformed_values).sum())\n",
    "print(np.isnan(bank_non_object_data.values).sum())"
   ]
  },
  {
   "cell_type": "code",
   "execution_count": 9,
   "metadata": {},
   "outputs": [],
   "source": [
    "from sklearn.base import TransformerMixin\n",
    "\n",
    "class DataFrameImputer(TransformerMixin):\n",
    "\n",
    "    def __init__(self):\n",
    "        \"\"\"Impute missing values.\n",
    "\n",
    "        Columns of dtype object are imputed with the most frequent value \n",
    "        in column.\n",
    "\n",
    "        Columns of other types are imputed with mean of column.\n",
    "\n",
    "        \"\"\"\n",
    "    def fit(self, X, y=None):\n",
    "\n",
    "        self.fill = pd.Series([X[c].value_counts().index[0]\n",
    "            if X[c].dtype == np.dtype('O') else X[c].mean() for c in X],\n",
    "            index=X.columns)\n",
    "\n",
    "        return self\n",
    "\n",
    "    def transform(self, X, y=None):\n",
    "        return X.fillna(self.fill)\n",
    "\n",
    "\n",
    "bank_object_data = DataFrameImputer().fit_transform(bank_object_data)"
   ]
  },
  {
   "cell_type": "code",
   "execution_count": 10,
   "metadata": {},
   "outputs": [
    {
     "name": "stdout",
     "output_type": "stream",
     "text": [
      "   job  marital  education  default  housing  loan  contact  month  \\\n",
      "0    3        1          0        0        0     0        1      6   \n",
      "1    7        1          3        0        0     0        1      6   \n",
      "2    7        1          3        0        1     0        1      6   \n",
      "3    0        1          1        0        0     0        1      6   \n",
      "4    7        1          3        0        0     1        1      6   \n",
      "\n",
      "   day_of_week  poutcome  y  \n",
      "0            1         1  0  \n",
      "1            1         1  0  \n",
      "2            1         1  0  \n",
      "3            1         1  0  \n",
      "4            1         1  0  \n",
      "   job  marital  education  default  housing  loan  contact  month  \\\n",
      "0    3        1          0        0        0     0        1      6   \n",
      "1    7        1          3        0        0     0        1      6   \n",
      "2    7        1          3        0        1     0        1      6   \n",
      "3    0        1          1        0        0     0        1      6   \n",
      "4    7        1          3        0        0     1        1      6   \n",
      "\n",
      "   day_of_week  poutcome  ...  age  duration  campaign  pdays  previous  \\\n",
      "0            1         1  ...   56       261         1    999         0   \n",
      "1            1         1  ...   57       149         1    999         0   \n",
      "2            1         1  ...   37       226         1    999         0   \n",
      "3            1         1  ...   40       151         1    999         0   \n",
      "4            1         1  ...   56       307         1    999         0   \n",
      "\n",
      "   emp.var.rate  cons.price.idx  cons.conf.idx  euribor3m  nr.employed  \n",
      "0           1.1          93.994          -36.4      4.857       5191.0  \n",
      "1           1.1          93.994          -36.4      4.857       5191.0  \n",
      "2           1.1          93.994          -36.4      4.857       5191.0  \n",
      "3           1.1          93.994          -36.4      4.857       5191.0  \n",
      "4           1.1          93.994          -36.4      4.857       5191.0  \n",
      "\n",
      "[5 rows x 21 columns]\n"
     ]
    }
   ],
   "source": [
    "label = LabelEncoder()\n",
    "bank_object_data = bank_object_data.apply(label.fit_transform)\n",
    "\n",
    "print(bank_object_data.head())\n",
    "\n",
    "bank_final = pd.concat([bank_object_data, bank_non_object_data], axis = 1)\n",
    "\n",
    "print(bank_final.head())"
   ]
  },
  {
   "cell_type": "code",
   "execution_count": 14,
   "metadata": {},
   "outputs": [
    {
     "name": "stdout",
     "output_type": "stream",
     "text": [
      "Accuracy: 83.85%\n",
      "Accuracy: 0.84 (+/- 0.01)\n"
     ]
    },
    {
     "data": {
      "text/plain": [
       "array([0.82592862, 0.83976693, 0.84340859, 0.84292304, 0.83515416,\n",
       "       0.83806749, 0.83199806, 0.84316582, 0.83997086, 0.84458475])"
      ]
     },
     "execution_count": 14,
     "metadata": {},
     "output_type": "execute_result"
    }
   ],
   "source": [
    "X = bank_final.drop(['y'], axis = 1)\n",
    "Y = bank_final['y']\n",
    "\n",
    "model = GaussianNB()\n",
    "\n",
    "kfold = KFold(n_splits=10, random_state=100, shuffle = True)\n",
    "results_kfold = model_selection.cross_val_score(model, X, Y, cv=kfold)\n",
    "print(\"Accuracy: %.2f%%\" % (results_kfold.mean()*100.0)) \n",
    "print(\"Accuracy: %0.2f (+/- %0.2f)\" % (results_kfold.mean(), results_kfold.std() * 2))\n",
    "results_kfold"
   ]
  }
 ],
 "metadata": {
  "kernelspec": {
   "display_name": "Python 3",
   "language": "python",
   "name": "python3"
  },
  "language_info": {
   "codemirror_mode": {
    "name": "ipython",
    "version": 3
   },
   "file_extension": ".py",
   "mimetype": "text/x-python",
   "name": "python",
   "nbconvert_exporter": "python",
   "pygments_lexer": "ipython3",
   "version": "3.7.4"
  }
 },
 "nbformat": 4,
 "nbformat_minor": 2
}
